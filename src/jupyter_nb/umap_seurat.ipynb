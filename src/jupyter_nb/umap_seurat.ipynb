{
 "cells": [
  {
   "cell_type": "markdown",
   "metadata": {},
   "source": [
    "# Parameters"
   ]
  },
  {
   "cell_type": "code",
   "execution_count": null,
   "metadata": {
    "tags": [
     "parameters"
    ]
   },
   "outputs": [],
   "source": [
    "table_name <- \"demux_BH3KTLDMXY\"\n",
    "experiment_name <- \"gm12878_fresh_RNA\"\n",
    "papermill <- FALSE\n",
    "mat.path <- NA"
   ]
  },
  {
   "cell_type": "code",
   "execution_count": null,
   "metadata": {},
   "outputs": [],
   "source": [
    "papermill <- as.logical(papermill)"
   ]
  },
  {
   "cell_type": "markdown",
   "metadata": {},
   "source": [
    "# Install Libraries\n",
    "Install information can be found [here](https://satijalab.org/seurat/articles/install.html)\\\n",
    "Vignette [here](https://satijalab.org/seurat/articles/pbmc3k_tutorial.html)"
   ]
  },
  {
   "cell_type": "code",
   "execution_count": null,
   "metadata": {},
   "outputs": [],
   "source": [
    "if (!requireNamespace(\"BiocManager\", quietly = TRUE))\n",
    "    install.packages(\"BiocManager\", repos = \"https://cran.r-project.org\")\n",
    "if (!requireNamespace(\"AnVIL\", quietly = TRUE))\n",
    "    BiocManager::install(\"AnVIL\")\n",
    "if (!requireNamespace(\"Seurat\", quietly = TRUE))\n",
    "    AnVIL::install(\"Seurat\")\n",
    "if (!requireNamespace(\"hdf5r\", quietly = TRUE))\n",
    "    install.packages(\"hdf5r\")"
   ]
  },
  {
   "cell_type": "code",
   "execution_count": null,
   "metadata": {},
   "outputs": [],
   "source": [
    "suppressMessages(library(AnVIL))\n",
    "suppressMessages(library(hdf5r))\n",
    "suppressMessages(library(Seurat))\n",
    "suppressMessages(library(gridExtra))\n",
    "plan(\"multicore\", workers = 8)\n",
    "set.seed(1234)"
   ]
  },
  {
   "cell_type": "markdown",
   "metadata": {},
   "source": [
    "# Load Workspace Tables"
   ]
  },
  {
   "cell_type": "code",
   "execution_count": null,
   "metadata": {},
   "outputs": [],
   "source": [
    "if (!papermill){\n",
    "    table <- avtable(table_name)\n",
    "}"
   ]
  },
  {
   "cell_type": "code",
   "execution_count": null,
   "metadata": {},
   "outputs": [],
   "source": [
    "get_file <- function(path){\n",
    "    dest <- getwd()\n",
    "    gsutil_cp(path, dest)\n",
    "    name <- basename(path)\n",
    "    return(name)\n",
    "}\n",
    "\n",
    "if (!papermill){\n",
    "    mat.path <- get_file(table$h5_matrix[table[, sprintf('%s_id', table_name)] == experiment_name])\n",
    "}"
   ]
  },
  {
   "cell_type": "markdown",
   "metadata": {},
   "source": [
    "# Generate UMAP"
   ]
  },
  {
   "cell_type": "code",
   "execution_count": null,
   "metadata": {},
   "outputs": [],
   "source": [
    "data <- Read10X_h5(mat.path)\n",
    "rna <- CreateSeuratObject(counts = data, project = \"umap\", min.cells = 3, min.features = 200)\n",
    "rna"
   ]
  },
  {
   "cell_type": "code",
   "execution_count": null,
   "metadata": {},
   "outputs": [],
   "source": [
    "dir.create(\"plots\", showWarnings=F)\n",
    "printPNG <- function(filename, plotObject, papermill, wf=1, hf=1){\n",
    "\toptions(repr.plot.width = 7*wf, repr.plot.height = 7*hf)\n",
    "\tprint(plotObject)\n",
    "\tif(papermill){\n",
    "\t\tpng(sprintf(\"plots/%s.png\", filename), width=480*wf, height=480*hf)\n",
    "\t\tprint(plotObject)\n",
    "\t\tdev.off()\n",
    "\t}\n",
    "}\n",
    "\n",
    "# Calculate percent of mitochondrial reads\n",
    "rna[[\"percent.mt\"]] <- PercentageFeatureSet(rna, pattern = \"^MT-\")\n",
    "obj <- VlnPlot(rna, features = c(\"nFeature_RNA\", \"nCount_RNA\", \"percent.mt\"), ncol = 3)\n",
    "printPNG('violinPlots', obj, papermill)"
   ]
  },
  {
   "cell_type": "code",
   "execution_count": null,
   "metadata": {},
   "outputs": [],
   "source": [
    "plot1 <- FeatureScatter(rna, feature1 = \"nCount_RNA\", feature2 = \"percent.mt\")\n",
    "plot2 <- FeatureScatter(rna, feature1 = \"nCount_RNA\", feature2 = \"nFeature_RNA\")\n",
    "\n",
    "obj <- plot1 + plot2\n",
    "printPNG('mitochondria', obj, papermill, wf=2)"
   ]
  },
  {
   "cell_type": "code",
   "execution_count": null,
   "metadata": {},
   "outputs": [],
   "source": [
    "# Normalization\n",
    "rna <- NormalizeData(rna, normalization.method = \"LogNormalize\", scale.factor = 10000)"
   ]
  },
  {
   "cell_type": "code",
   "execution_count": null,
   "metadata": {},
   "outputs": [],
   "source": [
    "# Find Variable Features\n",
    "rna <- FindVariableFeatures(rna, selection.method = \"vst\", nfeatures = 2000)\n",
    "\n",
    "# Identify the 10 most highly variable genes\n",
    "top10 <- head(VariableFeatures(rna), 10)\n",
    "\n",
    "# plot variable features with and without labels\n",
    "plot1 <- VariableFeaturePlot(rna)\n",
    "plot2 <- LabelPoints(plot = plot1, points = top10, repel = TRUE)\n",
    "obj <- plot1 + plot2\n",
    "printPNG('features', obj, papermill, wf=2)"
   ]
  },
  {
   "cell_type": "code",
   "execution_count": null,
   "metadata": {},
   "outputs": [],
   "source": [
    "# Scaling\n",
    "all.genes <- rownames(rna)\n",
    "rna <- ScaleData(rna, features = all.genes)"
   ]
  },
  {
   "cell_type": "code",
   "execution_count": null,
   "metadata": {},
   "outputs": [],
   "source": [
    "# PCA\n",
    "rna <- RunPCA(rna, features = VariableFeatures(object = rna))\n",
    "print(rna[[\"pca\"]], dims = 1:5, nfeatures = 5)\n",
    "obj <- VizDimLoadings(rna, dims = 1:2, reduction = \"pca\")\n",
    "printPNG('dimLoadings', obj, papermill, wf=1.5)"
   ]
  },
  {
   "cell_type": "code",
   "execution_count": null,
   "metadata": {},
   "outputs": [],
   "source": [
    "obj <- DimPlot(rna, reduction = \"pca\")\n",
    "printPNG('pca', obj, papermill)"
   ]
  },
  {
   "cell_type": "code",
   "execution_count": null,
   "metadata": {},
   "outputs": [],
   "source": [
    "obj <- DimHeatmap(rna, dims = 1, cells = 500, fast= FALSE, balanced = TRUE)\n",
    "printPNG('heatmap', obj, papermill)"
   ]
  },
  {
   "cell_type": "code",
   "execution_count": null,
   "metadata": {},
   "outputs": [],
   "source": [
    "rna <- JackStraw(rna, num.replicate = 100)\n",
    "rna <- ScoreJackStraw(rna, dims = 1:20)\n",
    "obj <- JackStrawPlot(rna, dims = 1:15)\n",
    "printPNG('jackstraw', obj, papermill)"
   ]
  },
  {
   "cell_type": "code",
   "execution_count": null,
   "metadata": {},
   "outputs": [],
   "source": [
    "obj <- ElbowPlot(rna)\n",
    "printPNG('elbow', obj, papermill)"
   ]
  },
  {
   "cell_type": "code",
   "execution_count": null,
   "metadata": {},
   "outputs": [],
   "source": [
    "rna <- RunUMAP(rna, dims = 1:10)"
   ]
  },
  {
   "cell_type": "code",
   "execution_count": null,
   "metadata": {},
   "outputs": [],
   "source": [
    "obj <- DimPlot(rna, reduction = \"umap\")\n",
    "printPNG('umap', obj, papermill)"
   ]
  }
 ],
 "metadata": {
  "celltoolbar": "Tags",
  "kernelspec": {
   "display_name": "R",
   "language": "R",
   "name": "ir"
  },
  "language_info": {
   "codemirror_mode": "r",
   "file_extension": ".r",
   "mimetype": "text/x-r-source",
   "name": "R",
   "pygments_lexer": "r",
   "version": "4.1.2"
  },
  "toc": {
   "base_numbering": 1,
   "nav_menu": {},
   "number_sections": true,
   "sideBar": true,
   "skip_h1_title": false,
   "title_cell": "Table of Contents",
   "title_sidebar": "Contents",
   "toc_cell": false,
   "toc_position": {},
   "toc_section_display": true,
   "toc_window_display": false
  }
 },
 "nbformat": 4,
 "nbformat_minor": 2
}
