{
 "cells": [
  {
   "cell_type": "markdown",
   "metadata": {},
   "source": [
    "# Parameters"
   ]
  },
  {
   "cell_type": "code",
   "execution_count": null,
   "metadata": {
    "tags": [
     "parameters"
    ]
   },
   "outputs": [],
   "source": [
    "table_name <- \"demux_BH3KTLDMXY\"\n",
    "experiment_name <- \"gm12878_fresh_ATAC\"\n",
    "papermill <- FALSE\n",
    "frag.path <- NA\n",
    "h5.path <- NA"
   ]
  },
  {
   "cell_type": "code",
   "execution_count": null,
   "metadata": {},
   "outputs": [],
   "source": [
    "papermill <- as.logical(papermill)"
   ]
  },
  {
   "cell_type": "markdown",
   "metadata": {},
   "source": [
    "# Install Libraries\n",
    "\n",
    "Install information can be found [here](https://satijalab.org/signac/articles/install.html)\\\n",
    "Vignette [here](https://satijalab.org/signac/articles/overview.html)"
   ]
  },
  {
   "cell_type": "code",
   "execution_count": null,
   "metadata": {
    "scrolled": false
   },
   "outputs": [],
   "source": [
    "if (!requireNamespace(\"BiocManager\", quietly = TRUE))\n",
    "    install.packages(\"BiocManager\", repos = \"https://cran.r-project.org\")\n",
    "if (BiocManager::version() != '3.14' & R.Version()$major == '4' & strsplit(R.Version()$minor, '.', fixed=T)[[1]][1] == '1'){\n",
    "    BiocManager::install(version = \"3.14\", ask=F, force=T)\n",
    "}\n",
    "if (!requireNamespace(\"AnVIL\", quietly = TRUE))\n",
    "    BiocManager::install(\"AnVIL\")\n",
    "if (!requireNamespace(\"biovizBase\", quietly = TRUE))\n",
    "    AnVIL::install(\"biovizBase\")\n",
    "if (!requireNamespace(\"EnsDb.Hsapiens.v86\", quietly = TRUE))\n",
    "    AnVIL::install(\"EnsDb.Hsapiens.v86\")\n",
    "if (!requireNamespace(\"GenomeInfoDbData\", quietly = TRUE))\n",
    "    AnVIL::install(\"GenomeInfoDbData\")\n",
    "if (!requireNamespace(\"GenomicRanges\", quietly = TRUE))\n",
    "    AnVIL::install(\"GenomicRanges\")\n",
    "if (!requireNamespace(\"Rsamtools\", quietly = TRUE))\n",
    "    AnVIL::install(\"Rsamtools\")\n",
    "if (!requireNamespace(\"Seurat\", quietly = TRUE))\n",
    "    AnVIL::install(\"Seurat\")\n",
    "\n",
    "if (!requireNamespace(\"Signac\", quietly = TRUE)){\n",
    "    setRepositories(ind=1:2)\n",
    "    install.packages(\"Signac\")\n",
    "}\n",
    "if (!requireNamespace(\"hdf5r\", quietly = TRUE))\n",
    "    install.packages('hdf5r')"
   ]
  },
  {
   "cell_type": "code",
   "execution_count": null,
   "metadata": {},
   "outputs": [],
   "source": [
    "suppressMessages(library(AnVIL))\n",
    "suppressMessages(library(hdf5r))\n",
    "suppressMessages(library(EnsDb.Hsapiens.v86))\n",
    "suppressMessages(library(ggplot2))\n",
    "suppressMessages(library(Seurat))\n",
    "suppressMessages(library(Signac))\n",
    "suppressMessages(library(future))\n",
    "plan(\"multiprocess\", workers = 8)\n",
    "set.seed(1234)"
   ]
  },
  {
   "cell_type": "markdown",
   "metadata": {},
   "source": [
    "# Load Workspace Tables"
   ]
  },
  {
   "cell_type": "code",
   "execution_count": null,
   "metadata": {
    "scrolled": true
   },
   "outputs": [],
   "source": [
    "if (!papermill){\n",
    "    table <- avtable(\"demux_BH3KTLDMXY\")\n",
    "}"
   ]
  },
  {
   "cell_type": "code",
   "execution_count": null,
   "metadata": {},
   "outputs": [],
   "source": [
    "# # Load cCRE\n",
    "# wsData <- avdata()\n",
    "# wsData$value[wsData$key=='cCRE_300bp']"
   ]
  },
  {
   "cell_type": "code",
   "execution_count": null,
   "metadata": {},
   "outputs": [],
   "source": [
    "get_file <- function(path){\n",
    "    dest <- getwd()\n",
    "    gsutil_cp(path, dest)\n",
    "    name <- basename(path)\n",
    "    return(name)\n",
    "}\n",
    "\n",
    "if (!papermill){\n",
    "    frag.path <- get_file(table$atac_fragment_file_raw[table[, sprintf('%s_id', table_name)] == experiment_name])\n",
    "}\n",
    "# Barcode seems to be optional path to metadata\n",
    "# barcode_path <- get.file(table$atac_fragment_file_raw[table$name == 'gm12878_fresh_ATAC'])"
   ]
  },
  {
   "cell_type": "code",
   "execution_count": null,
   "metadata": {},
   "outputs": [],
   "source": [
    "if (!papermill){\n",
    "    wsData <- avdata()\n",
    "    h5.path <- get_file(wsData$value[wsData$key=='cell_peak_mat'])\n",
    "}"
   ]
  },
  {
   "cell_type": "code",
   "execution_count": null,
   "metadata": {},
   "outputs": [],
   "source": [
    "# Fix file\n",
    "system(sprintf('zcat %s | sort -k1,1 -k2,2n -T tmp | bgzip -c > %s && tabix -p bed %s', frag.path, 'fixed.fragments.tsv.bgz', 'fixed.fragments.tsv.bgz'))"
   ]
  },
  {
   "cell_type": "markdown",
   "metadata": {},
   "source": [
    "# Generate UMAP"
   ]
  },
  {
   "cell_type": "code",
   "execution_count": null,
   "metadata": {},
   "outputs": [],
   "source": [
    "counts <- Read10X_h5(filename = h5.path)"
   ]
  },
  {
   "cell_type": "code",
   "execution_count": null,
   "metadata": {},
   "outputs": [],
   "source": [
    "# metadata <- read.csv(\n",
    "#   file = barcode_path,\n",
    "#   header = FALSE,\n",
    "# )\n",
    "\n",
    "# Known issue with GenomeInfoDb causing failure when specifying gene annotation in Bioconductor 3.13. Prevents calculation of TSS enrichment.\n",
    "chrom_assay <- CreateChromatinAssay(\n",
    "  counts = counts,\n",
    "  sep = c(\":\", \"-\"),\n",
    "  genome = 'hg38',\n",
    "  fragments = 'fixed.fragments.tsv.bgz',\n",
    "  min.cells = 10,\n",
    "  min.features = 200\n",
    ")\n",
    "\n",
    "atac <- CreateSeuratObject(\n",
    "  counts = chrom_assay,\n",
    "  assay = \"peaks\"\n",
    ")"
   ]
  },
  {
   "cell_type": "code",
   "execution_count": null,
   "metadata": {},
   "outputs": [],
   "source": [
    "# extract gene annotations from EnsDb\n",
    "annotations <- suppressWarnings(GetGRangesFromEnsDb(ensdb = EnsDb.Hsapiens.v86, verbose = FALSE))\n",
    "\n",
    "# change to UCSC style since the data was mapped to hg19\n",
    "seqlevelsStyle(annotations) <- 'UCSC'\n",
    "\n",
    "# add the gene information to the object\n",
    "Annotation(atac) <- annotations"
   ]
  },
  {
   "cell_type": "code",
   "execution_count": null,
   "metadata": {},
   "outputs": [],
   "source": [
    "# # QC\n",
    "atac <- NucleosomeSignal(object = atac)\n",
    "\n",
    "# compute TSS enrichment score per cell\n",
    "atac <- TSSEnrichment(object = atac, fast = FALSE)\n",
    "\n",
    "# add blacklist ratio and fraction of reads in peaks\n",
    "# atac$pct_reads_in_peaks <- atac$peak_region_fragments / atac$passed_filters * 100\n",
    "total_fragments <- CountFragments('fixed.fragments.tsv.bgz')\n",
    "rownames(total_fragments) <- total_fragments$CB\n",
    "atac$fragments <- total_fragments[colnames(atac), \"frequency_count\"]\n",
    "atac$pct_reads_in_peaks <- atac$nCount_peaks / atac$fragments * 100\n",
    "# atac$blacklist_ratio <- atac$blacklist_region_fragments / atac$peak_region_fragments\n",
    "atac$blacklist_ratio <- FractionCountsInRegion(\n",
    "  object = atac, \n",
    "  assay = 'peaks',\n",
    "  regions = blacklist_hg38\n",
    ")"
   ]
  },
  {
   "cell_type": "code",
   "execution_count": null,
   "metadata": {},
   "outputs": [],
   "source": [
    "dir.create(\"plots\", showWarnings=F)\n",
    "printPNG <- function(filename, plotObject, papermill, wf=1, hf=1){\n",
    "\toptions(repr.plot.width = 7*wf, repr.plot.height = 7*hf)\n",
    "\tprint(plotObject)\n",
    "\tif(papermill){\n",
    "\t\tpng(sprintf(\"plots/%s.png\", filename), width=480*wf, height=480*hf)\n",
    "\t\tprint(plotObject)\n",
    "\t\tdev.off()\n",
    "\t}\n",
    "}\n",
    "\n",
    "atac$high.tss <- ifelse(atac$TSS.enrichment > 2, 'High', 'Low')\n",
    "obj <- TSSPlot(atac, group.by = 'high.tss') + NoLegend()\n",
    "\n",
    "printPNG('tss', obj, papermill, wf=2)"
   ]
  },
  {
   "cell_type": "code",
   "execution_count": null,
   "metadata": {},
   "outputs": [],
   "source": [
    "atac$nucleosome_group <- ifelse(atac$nucleosome_signal > 4, 'NS > 4', 'NS < 4')\n",
    "obj <- FragmentHistogram(object = atac, group.by = 'nucleosome_group')\n",
    "\n",
    "printPNG('fragment', obj, papermill)"
   ]
  },
  {
   "cell_type": "code",
   "execution_count": null,
   "metadata": {},
   "outputs": [],
   "source": [
    "obj <- VlnPlot(\n",
    "  object = atac,\n",
    "  features = c('pct_reads_in_peaks', 'nCount_peaks',\n",
    "               'TSS.enrichment', 'blacklist_ratio', 'nucleosome_signal'),\n",
    "  pt.size = 0.1,\n",
    "  ncol = 5\n",
    ")\n",
    "\n",
    "printPNG('violin', obj, papermill, wf=2)"
   ]
  },
  {
   "cell_type": "code",
   "execution_count": null,
   "metadata": {},
   "outputs": [],
   "source": [
    "# Filter Reads\n",
    "atac <- subset(\n",
    "  x = atac,\n",
    "  subset = nCount_peaks > 3000 &\n",
    "    nCount_peaks < 20000 &\n",
    "    pct_reads_in_peaks > 15 &\n",
    "    blacklist_ratio < 0.05 &\n",
    "    nucleosome_signal < 4 &\n",
    "    TSS.enrichment > 2\n",
    ")\n",
    "atac"
   ]
  },
  {
   "cell_type": "code",
   "execution_count": null,
   "metadata": {},
   "outputs": [],
   "source": [
    "atac <- RunTFIDF(atac)\n",
    "atac <- FindTopFeatures(atac, min.cutoff = 'q0')\n",
    "atac <- RunSVD(atac)"
   ]
  },
  {
   "cell_type": "code",
   "execution_count": null,
   "metadata": {},
   "outputs": [],
   "source": [
    "atac <- RunUMAP(object = atac, reduction = 'lsi', dims = 2:30)"
   ]
  },
  {
   "cell_type": "code",
   "execution_count": null,
   "metadata": {},
   "outputs": [],
   "source": [
    "atac <- FindNeighbors(object = atac, reduction = 'lsi', dims = 2:30)\n",
    "atac <- FindClusters(object = atac, verbose = FALSE, algorithm = 3)\n",
    "\n",
    "obj <- DimPlot(object = atac, label = TRUE) + NoLegend()\n",
    "printPNG('umap', obj, papermill)"
   ]
  }
 ],
 "metadata": {
  "celltoolbar": "Tags",
  "kernelspec": {
   "display_name": "R",
   "language": "R",
   "name": "ir"
  },
  "language_info": {
   "codemirror_mode": "r",
   "file_extension": ".r",
   "mimetype": "text/x-r-source",
   "name": "R",
   "pygments_lexer": "r",
   "version": "4.1.2"
  },
  "toc": {
   "base_numbering": 1,
   "nav_menu": {},
   "number_sections": true,
   "sideBar": true,
   "skip_h1_title": false,
   "title_cell": "Table of Contents",
   "title_sidebar": "Contents",
   "toc_cell": false,
   "toc_position": {},
   "toc_section_display": true,
   "toc_window_display": false
  }
 },
 "nbformat": 4,
 "nbformat_minor": 2
}
