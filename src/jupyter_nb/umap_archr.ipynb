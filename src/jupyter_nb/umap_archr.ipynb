{
 "cells": [
  {
   "cell_type": "markdown",
   "metadata": {},
   "source": [
    "# Parameters"
   ]
  },
  {
   "cell_type": "code",
   "execution_count": null,
   "metadata": {
    "tags": [
     "parameters"
    ]
   },
   "outputs": [],
   "source": [
    "table_name <- \"demux_BH3KTLDMXY\"\n",
    "experiment_name <- \"gm12878_fresh_ATAC\"\n",
    "papermill <- FALSE\n",
    "frag.path <- NA"
   ]
  },
  {
   "cell_type": "code",
   "execution_count": null,
   "metadata": {},
   "outputs": [],
   "source": [
    "papermill <- as.logical(papermill)"
   ]
  },
  {
   "cell_type": "markdown",
   "metadata": {},
   "source": [
    "# Install Libraries\n",
    "Install information can be found [here](https://www.archrproject.com/index.html)\\\n",
    "Vignette [here](https://www.archrproject.com/articles/Articles/tutorial.html)"
   ]
  },
  {
   "cell_type": "code",
   "execution_count": null,
   "metadata": {},
   "outputs": [],
   "source": [
    "if (!requireNamespace(\"BiocManager\", quietly = TRUE))\n",
    "    install.packages(\"BiocManager\", repos = \"https://cran.r-project.org\")\n",
    "if (!requireNamespace(\"AnVIL\", quietly = TRUE))\n",
    "    BiocManager::install(\"AnVIL\")\n",
    "if (!requireNamespace(\"BSgenome.Hsapiens.UCSC.hg38\", quietly = TRUE))\n",
    "    AnVIL::install(\"BSgenome.Hsapiens.UCSC.hg38\")\n",
    "\n",
    "if (!requireNamespace(\"devtools\", quietly = TRUE)) \n",
    "    install.packages(\"devtools\")\n",
    "if (!requireNamespace(\"GenomeInfoDbData\", quietly = TRUE))\n",
    "    AnVIL::install(\"GenomeInfoDbData\")\n",
    "if (!requireNamespace(\"GenomicRanges\", quietly = TRUE))\n",
    "    AnVIL::install(\"GenomicRanges\")\n",
    "if (!requireNamespace(\"Rsamtools\", quietly = TRUE))\n",
    "    AnVIL::install(\"Rsamtools\")\n",
    "if (!requireNamespace(\"ArchR\", quietly = TRUE)){\n",
    "    devtools::install_github(\"GreenleafLab/ArchR\", ref=\"master\", repos = BiocManager::repositories())\n",
    "    devtools::reload(pkg = pkgload::inst(\"pillar\"), quiet = FALSE)\n",
    "    devtools::reload(pkg = pkgload::inst(\"magrittr\"), quiet = FALSE)\n",
    "    library(ArchR)\n",
    "    ArchR::installExtraPackages()\n",
    "}\n"
   ]
  },
  {
   "cell_type": "code",
   "execution_count": null,
   "metadata": {},
   "outputs": [],
   "source": [
    "suppressMessages(library(AnVIL))\n",
    "suppressMessages(library(ArchR))\n",
    "suppressMessages(library(parallel))\n",
    "set.seed(1)\n",
    "addArchRThreads(threads = 8) "
   ]
  },
  {
   "cell_type": "markdown",
   "metadata": {},
   "source": [
    "# Load Workspace Tables"
   ]
  },
  {
   "cell_type": "code",
   "execution_count": null,
   "metadata": {},
   "outputs": [],
   "source": [
    "if (!papermill){\n",
    "    table <- avtable(table_name)\n",
    "}"
   ]
  },
  {
   "cell_type": "code",
   "execution_count": null,
   "metadata": {},
   "outputs": [],
   "source": [
    "get_file <- function(path){\n",
    "    dest <- getwd()\n",
    "    gsutil_cp(path, dest)\n",
    "    name <- basename(path)\n",
    "    return(name)\n",
    "}\n",
    "\n",
    "# file_path <- get_file(table$atac_aligned_raw_bam[table$name == 'gm12878_fresh_ATAC'])\n",
    "if (!papermill){\n",
    "    frag.path <- get_file(table$atac_fragment_file_raw[table[, sprintf('%s_id', table_name)] == experiment_name])\n",
    "}"
   ]
  },
  {
   "cell_type": "code",
   "execution_count": null,
   "metadata": {},
   "outputs": [],
   "source": [
    "# Fix file\n",
    "# system(sprintf('zcat %s | sort -k1,1 -k2,2n -T tmp | bgzip -c > %s && tabix -p bed %s', frag.path, 'fixed.fragments.tsv.bgz', 'fixed.fragments.tsv.bgz'))"
   ]
  },
  {
   "cell_type": "markdown",
   "metadata": {},
   "source": [
    "# Generate UMAP"
   ]
  },
  {
   "cell_type": "code",
   "execution_count": null,
   "metadata": {},
   "outputs": [],
   "source": [
    "addArchRGenome(\"hg38\")"
   ]
  },
  {
   "cell_type": "code",
   "execution_count": null,
   "metadata": {},
   "outputs": [],
   "source": [
    "ArrowFiles <- createArrowFiles(\n",
    "  inputFiles = 'fixed.fragments.tsv.bgz',\n",
    "  sampleNames = 'atac',\n",
    "  minTSS = 4, #Dont set this too high because you can always increase later\n",
    "  minFrags = 1000,\n",
    "  addTileMat = TRUE,\n",
    "  addGeneScoreMat = TRUE,\n",
    ")\n",
    "ArrowFiles"
   ]
  },
  {
   "cell_type": "code",
   "execution_count": null,
   "metadata": {},
   "outputs": [],
   "source": [
    "doubScores <- addDoubletScores(\n",
    "  input = ArrowFiles,\n",
    "  k = 10, #Refers to how many cells near a \"pseudo-doublet\" to count.\n",
    "  knnMethod = \"UMAP\", #Refers to the embedding to use for nearest neighbor search.\n",
    "  LSIMethod = 1\n",
    ")"
   ]
  },
  {
   "cell_type": "code",
   "execution_count": null,
   "metadata": {},
   "outputs": [],
   "source": [
    "proj <- ArchRProject(\n",
    "  ArrowFiles = ArrowFiles, \n",
    "  outputDirectory = \"atac\",\n",
    "  copyArrows = TRUE #This is recommened so that you maintain an unaltered copy for later usage.\n",
    ")"
   ]
  },
  {
   "cell_type": "code",
   "execution_count": null,
   "metadata": {},
   "outputs": [],
   "source": [
    "proj <- filterDoublets(ArchRProj = proj)"
   ]
  },
  {
   "cell_type": "code",
   "execution_count": null,
   "metadata": {},
   "outputs": [],
   "source": [
    "proj <- addIterativeLSI(ArchRProj = proj, useMatrix = \"TileMatrix\", name = \"IterativeLSI\")"
   ]
  },
  {
   "cell_type": "code",
   "execution_count": null,
   "metadata": {},
   "outputs": [],
   "source": [
    "proj <- addClusters(input = proj, reducedDims = \"IterativeLSI\")"
   ]
  },
  {
   "cell_type": "code",
   "execution_count": null,
   "metadata": {
    "scrolled": true
   },
   "outputs": [],
   "source": [
    "proj <- addUMAP(ArchRProj = proj, reducedDims = \"IterativeLSI\")"
   ]
  },
  {
   "cell_type": "code",
   "execution_count": null,
   "metadata": {},
   "outputs": [],
   "source": [
    "dir.create(\"plots\", showWarnings=F)\n",
    "printPNG <- function(filename, plotObject, papermill, wf=1, hf=1){\n",
    "\toptions(repr.plot.width = 7*wf, repr.plot.height = 7*hf)\n",
    "\tprint(plotObject)\n",
    "\tif(papermill){\n",
    "\t\tpng(sprintf(\"plots/%s.png\", filename), width=480*wf, height=480*hf)\n",
    "\t\tprint(plotObject)\n",
    "\t\tdev.off()\n",
    "\t}\n",
    "}\n",
    "\n",
    "p1 <- plotEmbedding(ArchRProj = proj, colorBy = \"cellColData\", name = \"Sample\", embedding = \"UMAP\")\n",
    "p2 <- plotEmbedding(ArchRProj = proj, colorBy = \"cellColData\", name = \"Clusters\", embedding = \"UMAP\")\n",
    "obj <- p1 + p2 #ggAlignPlots(p1, p2, type = \"h\")\n",
    "\n",
    "printPNG('umap', obj, papermill, wf=2)"
   ]
  },
  {
   "cell_type": "markdown",
   "metadata": {},
   "source": [
    "# Create Peak-Cell Matrix"
   ]
  },
  {
   "cell_type": "code",
   "execution_count": null,
   "metadata": {},
   "outputs": [],
   "source": [
    "# wsData <- avdata()\n",
    "# ccre.path <- get_file(wsData$value[wsData$key=='cCRE_300bp'])\n",
    "# ccre <- import.bed(ccre.path)\n",
    "# ccre"
   ]
  },
  {
   "cell_type": "code",
   "execution_count": null,
   "metadata": {},
   "outputs": [],
   "source": [
    "# proj <- addPeakSet(ArchRProj = proj, peakSet=ccre)"
   ]
  },
  {
   "cell_type": "code",
   "execution_count": null,
   "metadata": {},
   "outputs": [],
   "source": [
    "# proj <- addPeakMatrix(proj)"
   ]
  },
  {
   "cell_type": "code",
   "execution_count": null,
   "metadata": {},
   "outputs": [],
   "source": [
    "# BiocManager::install(\"DropletUtils\")\n",
    "\n",
    "# library(DropletUtils)"
   ]
  },
  {
   "cell_type": "code",
   "execution_count": null,
   "metadata": {},
   "outputs": [],
   "source": [
    "# tmp <- getMatrixFromProject(proj, useMatrix='PeakMatrix')"
   ]
  },
  {
   "cell_type": "code",
   "execution_count": null,
   "metadata": {},
   "outputs": [],
   "source": [
    "# names <- paste0(seqnames(ccre), ':', start(ccre), '-', end(ccre))\n",
    "\n",
    "# write10xCounts(\n",
    "#   path = \"peak.cell.matrix.h5\",\n",
    "#   x = tmp@assays@data@listData$PeakMatrix,\n",
    "#   barcodes = gsub('atac#', '', colnames(tmp)),\n",
    "#   gene.id = names,\n",
    "#   gene.symbol = names,\n",
    "#   overwrite = FALSE\n",
    "# )\n"
   ]
  }
 ],
 "metadata": {
  "celltoolbar": "Tags",
  "kernelspec": {
   "display_name": "R",
   "language": "R",
   "name": "ir"
  },
  "language_info": {
   "codemirror_mode": "r",
   "file_extension": ".r",
   "mimetype": "text/x-r-source",
   "name": "R",
   "pygments_lexer": "r",
   "version": "4.1.2"
  },
  "toc": {
   "base_numbering": 1,
   "nav_menu": {},
   "number_sections": true,
   "sideBar": true,
   "skip_h1_title": false,
   "title_cell": "Table of Contents",
   "title_sidebar": "Contents",
   "toc_cell": false,
   "toc_position": {},
   "toc_section_display": true,
   "toc_window_display": false
  }
 },
 "nbformat": 4,
 "nbformat_minor": 2
}
