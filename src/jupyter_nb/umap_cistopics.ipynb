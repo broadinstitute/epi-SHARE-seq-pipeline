{
 "cells": [
  {
   "cell_type": "markdown",
   "metadata": {},
   "source": [
    "# Parameters"
   ]
  },
  {
   "cell_type": "code",
   "execution_count": null,
   "metadata": {
    "tags": [
     "parameters"
    ]
   },
   "outputs": [],
   "source": [
    "table_name <- \"demux_BH3KTLDMXY\"\n",
    "experiment_name <- \"gm12878_fresh_ATAC\"\n",
    "papermill <- FALSE\n",
    "# frag.path <- NA\n",
    "h5.path <- NA"
   ]
  },
  {
   "cell_type": "code",
   "execution_count": null,
   "metadata": {},
   "outputs": [],
   "source": [
    "papermill <- as.logical(papermill)"
   ]
  },
  {
   "cell_type": "markdown",
   "metadata": {},
   "source": [
    "# Install Libraries\n",
    "\n",
    "Install information can be found [here](https://github.com/aertslab/cisTopic)\\\n",
    "Vignette [here](http://htmlpreview.github.io/?https://github.com/aertslab/cisTopic/blob/master/vignettes/WarpLDA_10X_workflow.html)"
   ]
  },
  {
   "cell_type": "code",
   "execution_count": null,
   "metadata": {
    "scrolled": true
   },
   "outputs": [],
   "source": [
    "# Libraries for installing libraries\n",
    "if (!requireNamespace(\"BiocManager\", quietly = TRUE))\n",
    "{\n",
    "    message(\"Installing BiocManager\")\n",
    "    install.packages(\"BiocManager\", repos = \"https://cran.r-project.org\")\n",
    "}\n",
    "if (!requireNamespace(\"AnVIL\", quietly = TRUE))\n",
    "{\n",
    "    message(\"Installing AnVIL\")\n",
    "    BiocManager::install(\"AnVIL\")\n",
    "}\n",
    "if (!requireNamespace(\"devtools\", quietly = TRUE))\n",
    "{\n",
    "    message(\"Installing devtools\")\n",
    "    install.packages(\"devtools\")\n",
    "}\n",
    "\n",
    "# Cistopic Libraries\n",
    "if (!requireNamespace(\"GenomeInfoDbData\", quietly = TRUE))\n",
    "    AnVIL::install(\"GenomeInfoDbData\")\n",
    "if (!requireNamespace(\"GenomicRanges\", quietly = TRUE))\n",
    "    AnVIL::install(\"GenomicRanges\")\n",
    "if (!requireNamespace(\"Rsamtools\", quietly = TRUE))\n",
    "    AnVIL::install(\"Rsamtools\")\n",
    "# if (!requireNamespace(\"GenomicAlignments\", quietly = TRUE))\n",
    "#     AnVIL::install(\"GenomicAlignments\")\n",
    "# if (!requireNamespace(\"rtracklayer\", quietly = TRUE))\n",
    "#     AnVIL::install(\"rtracklayer\")\n",
    "# if (!requireNamespace(\"SumarizedExperiment\", quietly = TRUE))\n",
    "#     AnVIL::install(\"SumarizedExperiment\")\n",
    "\n",
    "if (!requireNamespace(\"cisTopic\", quietly = TRUE))\n",
    "{\n",
    "    message(\"Installing cisTopic\")\n",
    "    Sys.setenv(LIBARROW_MINIMAL = \"false\")\n",
    "    devtools::install_github(\"aertslab/cisTopic\")\n",
    "}\n",
    "if (!requireNamespace(\"Seurat\", quietly = TRUE))\n",
    "{\n",
    "    message(\"Installing Seurat\")\n",
    "#     devtools::reload(pkg = pkgload::inst(\"pillar\"), quiet = FALSE)\n",
    "    AnVIL::install(\"Seurat\")\n",
    "}\n",
    "if (!requireNamespace(\"densityClust\", quietly = TRUE))\n",
    "{\n",
    "    message(\"Installing densityClust\")\n",
    "    install.packages(\"densityClust\")\n",
    "}\n",
    "if (!requireNamespace(\"scatterplot3d\", quietly = TRUE))\n",
    "{\n",
    "    message(\"Installing scatterplot3d\")\n",
    "    install.packages(\"scatterplot3d\")\n",
    "}\n",
    "if (!requireNamespace(\"umap\", quietly = TRUE))\n",
    "{\n",
    "    message(\"Installing umap\")\n",
    "    install.packages(\"umap\")\n",
    "}\n",
    "if (!requireNamespace(\"hdf5r\", quietly = TRUE))\n",
    "{\n",
    "    message(\"Installing hdf5r\")\n",
    "    install.packages('hdf5r')\n",
    "}"
   ]
  },
  {
   "cell_type": "code",
   "execution_count": null,
   "metadata": {},
   "outputs": [],
   "source": [
    "suppressMessages(library(AnVIL))\n",
    "suppressMessages(library(cisTopic))\n",
    "suppressMessages(library(densityClust))\n",
    "suppressMessages(library(Rtsne))\n",
    "suppressMessages(library(Seurat))\n",
    "set.seed(1234)"
   ]
  },
  {
   "cell_type": "markdown",
   "metadata": {},
   "source": [
    "# Load Workspace Tables"
   ]
  },
  {
   "cell_type": "code",
   "execution_count": null,
   "metadata": {},
   "outputs": [],
   "source": [
    "if (!papermill){\n",
    "    table <- avtable(table_name)\n",
    "}"
   ]
  },
  {
   "cell_type": "code",
   "execution_count": null,
   "metadata": {},
   "outputs": [],
   "source": [
    "get_file <- function(path){\n",
    "    dest <- getwd()\n",
    "    gsutil_cp(path, dest)\n",
    "    name <- basename(path)\n",
    "    return(name)\n",
    "}\n",
    "\n",
    "# if (!papermill){\n",
    "#     frag.path <- get_file(table$atac_fragment_file_raw[table[, sprintf('%s_id', table_name)] == experiment_name])\n",
    "# }\n",
    "# barcode_path <- get_file(table$atac_fragment_file_raw[table$demux_BH3KTLDMXY_id == 'gm12878_fresh_ATAC'])"
   ]
  },
  {
   "cell_type": "code",
   "execution_count": null,
   "metadata": {},
   "outputs": [],
   "source": [
    "if (!papermill){\n",
    "    wsData <- avdata()\n",
    "    h5.path <- get_file(wsData$value[wsData$key=='cell_peak_mat'])\n",
    "}"
   ]
  },
  {
   "cell_type": "markdown",
   "metadata": {},
   "source": [
    "# Generate UMAP"
   ]
  },
  {
   "cell_type": "code",
   "execution_count": null,
   "metadata": {},
   "outputs": [],
   "source": [
    "counts <- Read10X_h5(h5.path)"
   ]
  },
  {
   "cell_type": "code",
   "execution_count": null,
   "metadata": {},
   "outputs": [],
   "source": [
    "cisTopicObject <- createcisTopicObject(counts, project.name='atac')"
   ]
  },
  {
   "cell_type": "code",
   "execution_count": null,
   "metadata": {},
   "outputs": [],
   "source": [
    "cisTopicObject <- runWarpLDAModels(cisTopicObject, topic=c(50), seed=987, nCores=4, iterations = 500, addModels=FALSE)"
   ]
  },
  {
   "cell_type": "code",
   "execution_count": null,
   "metadata": {},
   "outputs": [],
   "source": [
    "cisTopicObject <- selectModel(cisTopicObject, type='maximum')\n"
   ]
  },
  {
   "cell_type": "code",
   "execution_count": null,
   "metadata": {},
   "outputs": [],
   "source": [
    "cisTopicObject <- runtSNE(cisTopicObject, target='cell', seed=123, pca=FALSE, method='Probability')\n",
    "\n",
    "cisTopicObject <- runUmap(cisTopicObject, target='cell', seed=123, method='Probability')"
   ]
  },
  {
   "cell_type": "code",
   "execution_count": null,
   "metadata": {},
   "outputs": [],
   "source": [
    "cellassign <- modelMatSelection(cisTopicObject, 'cell', 'Probability')"
   ]
  },
  {
   "cell_type": "code",
   "execution_count": null,
   "metadata": {},
   "outputs": [],
   "source": [
    "set.seed(123)\n",
    "DR <- Rtsne(t(cellassign), pca=F)\n",
    "DRdist <- dist(DR$Y)\n",
    "dclust <- densityClust(DRdist,gaussian=T)"
   ]
  },
  {
   "cell_type": "code",
   "execution_count": null,
   "metadata": {},
   "outputs": [],
   "source": [
    "dir.create(\"plots\", showWarnings=F)\n",
    "printPNG <- function(filename, plotObject, papermill, wf=1, hf=1){\n",
    "\toptions(repr.plot.width = 7*wf, repr.plot.height = 7*hf)\n",
    "\tprint(plotObject)\n",
    "\tif(papermill){\n",
    "\t\tpng(sprintf(\"plots/%s.png\", filename), width=480*wf, height=480*hf)\n",
    "\t\tprint(plotObject)\n",
    "\t\tdev.off()\n",
    "\t}\n",
    "}\n",
    "\n",
    "dclust <- findClusters(dclust, rho = 40, delta = 2.5)"
   ]
  },
  {
   "cell_type": "code",
   "execution_count": null,
   "metadata": {},
   "outputs": [],
   "source": [
    "# Check thresholds\n",
    "options(repr.plot.width=6, repr.plot.height=6)\n",
    "plot(dclust$rho,dclust$delta,pch=20,cex=0.6,xlab='rho', ylab='delta')\n",
    "points(dclust$rho[dclust$peaks],dclust$delta[dclust$peaks],col=\"red\",pch=20,cex=0.8)\n",
    "text(dclust$rho[dclust$peaks]-2,dclust$delta[dclust$peaks]+1.5,labels=dclust$clusters[dclust$peaks])\n",
    "abline(v=50)\n",
    "abline(h=2.5)"
   ]
  },
  {
   "cell_type": "code",
   "execution_count": null,
   "metadata": {},
   "outputs": [],
   "source": [
    "# Add cluster information\n",
    "densityClust <- dclust$clusters\n",
    "densityClust <- as.data.frame(densityClust)\n",
    "rownames(densityClust) <- cisTopicObject@cell.names\n",
    "colnames(densityClust) <- 'densityClust'\n",
    "densityClust[,1] <- as.factor(densityClust[,1])\n",
    "cisTopicObject <- addCellMetadata(cisTopicObject, densityClust)"
   ]
  },
  {
   "cell_type": "code",
   "execution_count": null,
   "metadata": {},
   "outputs": [],
   "source": [
    "par(mfrow=c(2,2))\n",
    "plotFeatures(cisTopicObject, method='Umap', target='cell', topic_contr=NULL, \n",
    "             colorBy=c('nCounts', 'nAcc','densityClust'), \n",
    "             cex.legend = 0.8, factor.max=.75, dim=2, legend=TRUE, col.low='darkgreen', \n",
    "             col.mid='yellow', col.high='brown1', intervals=10)"
   ]
  }
 ],
 "metadata": {
  "celltoolbar": "Tags",
  "kernelspec": {
   "display_name": "R",
   "language": "R",
   "name": "ir"
  },
  "language_info": {
   "codemirror_mode": "r",
   "file_extension": ".r",
   "mimetype": "text/x-r-source",
   "name": "R",
   "pygments_lexer": "r",
   "version": "4.1.2"
  },
  "toc": {
   "base_numbering": 1,
   "nav_menu": {},
   "number_sections": true,
   "sideBar": true,
   "skip_h1_title": false,
   "title_cell": "Table of Contents",
   "title_sidebar": "Contents",
   "toc_cell": false,
   "toc_position": {},
   "toc_section_display": true,
   "toc_window_display": false
  }
 },
 "nbformat": 4,
 "nbformat_minor": 2
}
