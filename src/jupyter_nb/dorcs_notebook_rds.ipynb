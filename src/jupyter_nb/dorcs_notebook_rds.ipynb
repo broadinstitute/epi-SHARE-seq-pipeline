{
 "cells": [
  {
   "cell_type": "code",
   "execution_count": null,
   "id": "703817fc",
   "metadata": {
    "tags": [
     "parameters"
    ]
   },
   "outputs": [],
   "source": [
    "#Might need to change filepaths\n",
    "\n",
    "rnaRDS = \"../../dorcs_data_example/out.gene.bc.matrices.h5\"\n",
    "atacFragFile = \"../../dorcs_data_example/shareseq-project.atac.GRCh38.cleaned.filtered.bedpe\"\n",
    "peakFile = \"../../dorcs_data_example/GM_nonoverlap.bed\"\n",
    "cellKNNMatrix = \"../../dorcs_data_example/cellKNN_GM_nonoverlap.rds\"\n",
    "pwmFile = \"../R/cisBP_human_pfms_2021.rds\" #need better name, but don't know original reasoning\n",
    "\n",
    "genome = \"hg38\"\n",
    "nCores = 4\n",
    "savePlotsToDir = TRUE\n",
    "\n",
    "minFeature_RNA = 200 #Seurat QC for number of min features\n",
    "maxFeature_RNA = 2500 #Seurat QC for number of max features\n",
    "percentMT_RNA = 5 #Seurat QC for max % of mt \n",
    "minCells_RNA = 3 #Seurat QC for min number of cells\n",
    "\n",
    "dorcGeneCutOff = 10 #No. sig peaks needed to be called a DORC\n",
    "fripCutOff = 0.3 #QC threshold for fRIP score\n",
    "corrPVal = 0.05 #pval cutoff for correlation statistical test\n",
    "nDORCknn = 10 #No. of dorc kNNs used to pool peaks\n",
    "topNGene = 20 #Label top N genes in j-Plot\n",
    "\n",
    "numNearestNeighbor = 100 #Number of nearest neighbors\n",
    "numBackgroundPairs = 1e+05 #Number of background gene-peak pairs to generate\n",
    "chunkSize = 50000 #chunk size (number of pairs) to parallelize centering ATAC counts "
   ]
  },
  {
   "cell_type": "code",
   "execution_count": null,
   "id": "c35618c2",
   "metadata": {},
   "outputs": [],
   "source": [
    "packages = c(\"dplyr\",\"Seurat\",\"patchwork\",\"GenomicRanges\",\"ggplot2\",\"ggrepel\",\"reshape2\",\"ggrastr\",\"BuenColors\",\"ComplexHeatmap\", \"circlize\",\"networkD3\",\"GGally\",\"network\",\"motifmatchr\",\"foreach\",\"iterators\",\"parallel\",\"Biostrings\",\"rtracklayer\")\n",
    "\n",
    "if(genome == \"hg38\"){\n",
    "    BiocManager::install(\"BSgenome.Hsapiens.UCSC.hg38\", update=T, ask=F)\n",
    "    packages = c(packages, \"BSgenome.Hsapiens.UCSC.hg38\")\n",
    "} else if(genome == \"mm10\"){\n",
    "    BiocManager::install(\"BSgenome.Mmusculus.UCSC.mm10\", update=T, ask=F)\n",
    "    packages = c(packages, \"BSgenome.Mmusculus.UCSC.mm10\")\n",
    "}\n",
    "\n",
    "new.packages <- packages[!(packages %in% installed.packages()[,\"Package\"])]\n",
    "if(length(new.packages)) BiocManager::install(new.packages, update=T, ask=F)\n",
    "\n",
    "suppressMessages(lapply(packages, library, character.only = TRUE))"
   ]
  },
  {
   "cell_type": "code",
   "execution_count": null,
   "id": "977794b9",
   "metadata": {},
   "outputs": [],
   "source": [
    "#Might need to change filepaths\n",
    "#download from gh and source?\n",
    "#cellkNN = readRDS(cellKNNMatrix)\n",
    "source(\"/home/R/DORCS_helper_functions.R\")\n",
    "load(\"/home/R/TSSRanges.RData\")"
   ]
  },
  {
   "cell_type": "code",
   "execution_count": null,
   "id": "5dd9fa6a",
   "metadata": {},
   "outputs": [],
   "source": [
    "#Create and preprocess RNA count matrix; using Seurat functions\n",
    "\n",
    "#rnaCounts = Read10X_h5(rnaCountMatrix)\n",
    "#rnaCounts = CreateSeuratObject(counts = rnaCounts, project = \"shareseq\", min.cells = minCells_RNA, min.features = minFeature_RNA)\n",
    "#rnaCounts[[\"percent.mt\"]] = PercentageFeatureSet(rnaCounts, pattern = \"^MT-\")\n",
    "#RNAVlnPlot = VlnPlot(rnaCounts, features = c(\"nFeature_RNA\", \"nCount_RNA\", \"percent.mt\"), ncol = 3)\n",
    "#print(RNAVlnPlot)\n",
    "\n",
    "rnaCounts = readRDS(rnaRDS)\n",
    "#QC filtering and normalization\n",
    "\n",
    "#rnaCounts = subset(rnaCounts, subset = nFeature_RNA > minFeature_RNA & nFeature_RNA < maxFeature_RNA & percent.mt < percentMT_RNA)\n",
    "rnaCounts = NormalizeData(rnaCounts)"
   ]
  },
  {
   "cell_type": "code",
   "execution_count": null,
   "id": "90fe6130",
   "metadata": {},
   "outputs": [],
   "source": [
    "#Create and preprocess scATACseq\n",
    "\n",
    "#myPeaks = read.table(peakFile, sep=\"\\t\", header=F)\n",
    "#myFrags = read.table(atacFragFile, sep=\"\\t\", header=F)\n",
    "\n",
    "#myFrags = fread(\"data/merged.fragments.100k.tsv\", sep=\"\\t\", header=F)\n",
    "\n",
    "#peakRanges = makeGRangesFromDataFrame(myPeaks,seqnames.field = \"V1\",start.field = \"V2\",end.field = \"V3\",starts.in.df.are.0based = TRUE)\n",
    "#fragRanges = makeGRangesFromDataFrame(myFrags, seqnames.field = \"V1\", start.field = \"V2\", end.field = \"V3\", keep.extra.columns = TRUE, starts.in.df.are.0based = TRUE)\n",
    "\n",
    "peaksSE = getCountsFromFrags(fragFile=atacFragFile, peakFile=peakFile)\n"
   ]
  },
  {
   "cell_type": "code",
   "execution_count": null,
   "id": "542b0ec6",
   "metadata": {},
   "outputs": [],
   "source": [
    "# Get counts from fragfile\n",
    "#peaksSE = getCountsFromFrags(fragRanges=fragRanges, peaks=peakRanges )\n",
    "SE.filt = peaksSE[,peaksSE$FRIP > fripCutOff]\n",
    "\n",
    "#extract RNA count matrix\n",
    "rnaMat <- rnaCounts[[\"RNA\"]]@data\n",
    "\n",
    "#clean up\n",
    "rm(peaksSE)\n",
    "rm(rnaCounts)\n",
    "\n",
    "#Cleaning - change barcode names\n",
    "SE.filt$sample = sub(\",P1\\\\.[0-9]+\", \"\", SE.filt$sample)\n",
    "colnames(SE.filt) = sub(\",P1\\\\.[0-9]+\", \"\", colnames(SE.filt))\n",
    "colnames(SE.filt) = gsub(\",\", \"\\\\.\", colnames(SE.filt))\n",
    "colnames(rnaMat) = sub(\"\\\\,P1\\\\.[0-9]+\", \"\", colnames(rnaMat))\n",
    "colnames(rnaMat) = gsub(\",\", \"\\\\.\", colnames(rnaMat))\n",
    "\n",
    "#Get intersect of cells in RNA amd ATAC\n",
    "cells = intersect(colnames(SE.filt), colnames(rnaMat))\n",
    "\n",
    "#saveRDS(SE.filt[,cells], \"data/SE_filt_common_800k.rds\")\n",
    "#saveRDS(rnaMat[,cells], \"data/rna_mat_common_800k.rds\")\n"
   ]
  },
  {
   "cell_type": "code",
   "execution_count": null,
   "id": "5844c936",
   "metadata": {},
   "outputs": [],
   "source": [
    "set.seed(123)\n",
    "\n",
    "#Run fast gene peak correlation\n",
    "cisCor <- fastGenePeakcorr(\n",
    "  SE.filt[,cells],\n",
    "  rnaMat[,cells],\n",
    "  genome = genome, # This will be one of \"hg19\",\"hg38\" or \"mm10\"\n",
    "  windowPadSize = 50000,\n",
    "  normalizeATACmat = TRUE,\n",
    "  nCores = nCores,\n",
    "  p.cut = NULL,\n",
    "  n_bg = numNearestNeighbor,\n",
    "  n_BgPairs = numBackgroundPairs,\n",
    "  chunkSize = chunkSize\n",
    ")\n",
    "\n",
    "cisCor.filt <- cisCor %>% dplyr::filter(pvalZ <= corrPVal)"
   ]
  },
  {
   "cell_type": "code",
   "execution_count": null,
   "id": "8125e787",
   "metadata": {},
   "outputs": [],
   "source": [
    "#dorcGenes and j-Plot\n",
    "dorcGenes = dorcJPlot(dorcTab = cisCor.filt,\n",
    "                       cutoff = dorcGeneCutOff, # No. sig peaks needed to be called a DORC\n",
    "                       labelTop = topNGene,\n",
    "                       returnGeneList = TRUE, # Set this to FALSE for just the plot\n",
    "                       force=2)"
   ]
  },
  {
   "cell_type": "code",
   "execution_count": null,
   "id": "d11964b7",
   "metadata": {},
   "outputs": [],
   "source": [
    "if(savePlotsToDir){\n",
    "    dir.create(\"plots\")\n",
    "    savePlots = function(filename, plotObject){\n",
    "        pdf(paste0(\"plots/\",filename,\".pdf\"))\n",
    "        print(plotObject)\n",
    "        dev.off()\n",
    "        \n",
    "        png(paste0(\"plots/\",filename,\".png\"))\n",
    "        print(plotObject)\n",
    "        dev.off()\n",
    "    }\n",
    "    #savePlots(\"RNAViolinPlot\", RNAVlnPlot)\n",
    "    savePlots(\"JPlot\", dorcJPlot(dorcTab = cisCor.filt,cutoff = dorcGeneCutOff, labelTop = topNGene,returnGeneList = FALSE,force=2))\n",
    "    #savePlots(\"figRPlot\", figRPlot)\n",
    "    #savePlots(\"figRHeatmap\", figRHeatmap)\n",
    "\n",
    "}\n",
    "\n",
    "#saveRDS(dorcGenes, file = \"dorcGene_object.rds\")\n",
    "write.table(dorcGenes, file=\"dorc_genes_summary.csv\", row.names = T, quote = F, sep = \",\")\n",
    "write.table(cisCor.filt, file=\"dorc_regions_summary.csv\", row.names = T, quote = F, sep = \",\")\n",
    "\n",
    "files2zip <- dir('plots', full.names = TRUE)\n",
    "zip(zipfile = 'plots', files = files2zip)\n",
    "\n",
    "#BiocManager::install(c(\"BSgenome.Hsapiens.UCSC.hg38\",\"GenomicDistributions\"), update=T, ask=F)\n",
    "#myFrags = fread(\"data/merged.fragments.tsv\", header =F, sep = \"\\t\", showProgress=T)"
   ]
  }
 ],
 "metadata": {
  "celltoolbar": "Tags",
  "kernelspec": {
   "display_name": "R",
   "language": "R",
   "name": "ir"
  },
  "language_info": {
   "codemirror_mode": "r",
   "file_extension": ".r",
   "mimetype": "text/x-r-source",
   "name": "R",
   "pygments_lexer": "r",
   "version": "4.1.2"
  }
 },
 "nbformat": 4,
 "nbformat_minor": 5
}
