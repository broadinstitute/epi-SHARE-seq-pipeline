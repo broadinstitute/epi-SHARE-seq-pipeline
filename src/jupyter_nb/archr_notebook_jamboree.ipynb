{
 "cells": [
  {
   "cell_type": "markdown",
   "metadata": {},
   "source": [
    "# Install Libraries\n",
    "Install information can be found [here](https://www.archrproject.com/index.html)\\\n",
    "Vignette [here](https://www.archrproject.com/articles/Articles/tutorial.html)"
   ]
  },
  {
   "cell_type": "code",
   "execution_count": null,
   "metadata": {
    "tags": [
     "parameters"
    ]
   },
   "outputs": [],
   "source": [
    "#ArchR parameters\n",
    "atac_frag = \"\" # Input file  \n",
    "genome = \"\" #either hg38 or mm10\n",
    "\n",
    "#ArchR QC\n",
    "min_tss = 4 #The minimum numeric transcription start site (TSS) enrichment score required for a cell to pass filtering\n",
    "min_frags = 1000 #The minimum number of mapped ATAC-seq fragments required per cell to pass filtering for use\n",
    "add_tile_mat = TRUE #A boolean value indicating whether to add a \"Tile Matrix\" to each ArrowFile. \n",
    "add_gene_score_mat = TRUE #A boolean value indicating whether to add a Gene-Score Matrix to each ArrowFile.\n",
    "\n",
    "#ArchR Doublet paramaters\n",
    "find_doublets = FALSE\n",
    "doublet_k = 10 #The number of cells neighboring a simulated doublet to be considered as putative doublets.\n",
    "doublet_knn_method = \"UMAP\" #Refers to the embedding to use for nearest neighbor search.\n",
    "lsi_method = 1 #A number or string indicating the order of operations in the TF-IDF normalization. Possible values are: 1 or \"tf-logidf\", 2 or \"log(tf-idf)\", and 3 or \"logtf-logidf\". \n",
    "\n",
    "copy_arrow_files = TRUE #save a copy of arrow files in the ArchR project (recommended)\n",
    "iter_LSI_matrix = \"TileMatrix\" #The name of the data matrix to retrieve from the ArrowFiles associated with the ArchRProject. Valid options are \"TileMatrix\" or \"PeakMatrix\".\n",
    "threads = 1\n",
    "prefix = \"prefix\" #project name\n",
    "\n",
    "#ArchR Plots parameters\n",
    "marker_features_test = \"wilcoxon\" #The name of the pairwise test method to use in comparing cell groupings to the null cell grouping during marker feature identification.\n",
    "heatmap_transpose = TRUE #Boolean to transpose heatmap\n",
    "heatmap_label_n = 5 #Top n genes to label per cluster in heatmap\n",
    "heatmap_cutoff = \"FDR <= 0.01 & Log2FC >= 0.5\" #Cut-off applied to genes in heatmap\n",
    "\n",
    "#jupyter notebook plot sizes\n",
    "options(repr.plot.width=20, repr.plot.height=15)\n"
   ]
  },
  {
   "cell_type": "code",
   "execution_count": null,
   "metadata": {
    "tags": [
     "r-libraries"
    ]
   },
   "outputs": [],
   "source": [
    "if (!requireNamespace(\"BiocManager\", quietly = TRUE))\n",
    "    install.packages(\"BiocManager\", repos = \"https://cran.r-project.org\")\n",
    "if (!requireNamespace(\"devtools\", quietly = TRUE)) \n",
    "    install.packages(\"devtools\")\n",
    "if (!requireNamespace(\"GenomeInfoDbData\", quietly = TRUE))\n",
    "    BiocManager::install(\"GenomeInfoDbData\")\n",
    "if (!requireNamespace(\"GenomicRanges\", quietly = TRUE))\n",
    "    BiocManager::install(\"GenomicRanges\")\n",
    "if (!requireNamespace(\"Rsamtools\", quietly = TRUE))\n",
    "    BiocManager::install(\"Rsamtools\")\n",
    "if (!requireNamespace(\"presto\", quietly = TRUE))\n",
    "    devtools::install_github('immunogenomics/presto')\n",
    "if (!requireNamespace(\"magick\", quietly = TRUE))\n",
    "    install.packages(\"magick\")\n",
    "if (!requireNamespace(\"Seurat\", quietly = TRUE))\n",
    "    install.packages(\"Seurat\")\n",
    "if (!requireNamespace(\"ArchR\", quietly = TRUE)){\n",
    "    devtools::install_github('GreenleafLab/ArchR@v1.0.1', repos = BiocManager::repositories())\n",
    "    ArchR::installExtraPackages()\n",
    "}\n",
    "if (!requireNamespace(\"logr\", quietly = TRUE))\n",
    "    install.packages(\"logr\")\n",
    "if (!requireNamespace(\"grid\", quietly = TRUE))\n",
    "    install.packages(\"grid\")\n",
    "if (!requireNamespace(\"gridExtra\", quietly = TRUE))\n",
    "    install.packages(\"gridExtra\")\n",
    "if (!requireNamespace(\"ggplot2\", quietly = TRUE))\n",
    "    install.packages(\"ggplot2\")\n",
    "if (!requireNamespace(\"hexbin\", quietly = TRUE))\n",
    "    install.packages(\"hexbin\")\n",
    "if (!requireNamespace(\"ggpointdensity\", quietly = TRUE))\n",
    "    install.packages(\"ggpointdensity\")\n",
    "\n",
    "options(\"logr.notes\" = FALSE)"
   ]
  },
  {
   "cell_type": "code",
   "execution_count": null,
   "metadata": {},
   "outputs": [],
   "source": [
    "suppressMessages(library(parallel))\n",
    "suppressMessages(library(ArchR))\n",
    "suppressMessages(library(magick))\n",
    "suppressMessages(library(logr))\n",
    "suppressMessages(library(GenomicRanges))\n",
    "suppressMessages(library(grid))\n",
    "suppressMessages(library(gridExtra))\n",
    "suppressMessages(library(ggplot2))\n",
    "suppressMessages(library(ggpointdensity))\n",
    "\n",
    "set.seed(1)\n",
    "addArchRThreads(threads = threads)"
   ]
  },
  {
   "cell_type": "code",
   "execution_count": null,
   "metadata": {
    "tags": [
     "download-genome"
    ]
   },
   "outputs": [],
   "source": [
    "#Download genome\n",
    "\n",
    "addArchRGenome(genome)\n"
   ]
  },
  {
   "cell_type": "code",
   "execution_count": null,
   "metadata": {
    "tags": [
     "create-arrow-file"
    ]
   },
   "outputs": [],
   "source": [
    "#Create Arrow files\n",
    "\n",
    "ArrowFiles <- createArrowFiles(\n",
    "      inputFiles = atac_frag,\n",
    "      sampleNames = prefix,\n",
    "      minTSS = min_tss, \n",
    "      minFrags = min_frags,\n",
    "      addTileMat = add_tile_mat,\n",
    "      addGeneScoreMat = add_gene_score_mat\n",
    "    )\n"
   ]
  },
  {
   "cell_type": "code",
   "execution_count": null,
   "metadata": {
    "tags": [
     "create-archr-project"
    ]
   },
   "outputs": [],
   "source": [
    "#Create Archr project\n",
    "\n",
    "proj <- ArchRProject(\n",
    "  ArrowFiles = ArrowFiles, \n",
    "  outputDirectory = prefix,\n",
    "  copyArrows = copy_arrow_files, #This is recommened so that you maintain an unaltered copy for later usage.\n",
    "  showLogo = FALSE\n",
    ")\n",
    "    "
   ]
  },
  {
   "cell_type": "code",
   "execution_count": null,
   "metadata": {},
   "outputs": [],
   "source": [
    "# Code start to create pre-filtered TSS Enrichment vs Unique Fragments QC plot    \n",
    "df <- as.data.frame(getCellColData(proj, select = c(\"nFrags\", \"TSSEnrichment\")))\n",
    "                                                                                                      \n",
    "ggplot(data=df, aes(x = nFrags, y = TSSEnrichment)) + \n",
    "    geom_pointdensity(method = \"default\") +\n",
    "    scale_colour_gradientn(colors = paletteContinuous(set = \"sambaNight\")) +\n",
    "    scale_x_continuous(trans = \"log10\", breaks = scales::trans_breaks(\"log10\", function(x) 10^x), labels = scales::trans_format(\"log10\", scales::math_format(10^.x))) +\n",
    "    expand_limits(x = min(df$nFrags), y = 0) + \n",
    "    geom_hline(yintercept = min_tss, lty = \"dashed\") + \n",
    "    geom_vline(xintercept = min_frags, lty = \"dashed\") +\n",
    "    xlab(label =\"Unique Fragments\") + \n",
    "    ylab(label = \"TSS Enrichment\") + \n",
    "    annotation_logticks(sides = \"b\") +\n",
    "    labs(fill=\"density\") +\n",
    "    theme(axis.title=element_text(size=14), axis.text=element_text(size=10), legend.title=element_text(size=14), legend.text=element_text(size=8.5))\n"
   ]
  },
  {
   "cell_type": "code",
   "execution_count": null,
   "metadata": {},
   "outputs": [],
   "source": [
    "# Code start to create pre-filtered Fragment Size Distribution    \n",
    "\n",
    "plotFragmentSizes(ArchRProj = proj) + theme_gray()\n"
   ]
  },
  {
   "cell_type": "code",
   "execution_count": null,
   "metadata": {
    "tags": [
     "iterative-lsi"
    ]
   },
   "outputs": [],
   "source": [
    "#Add Iterative LSI\n",
    "\n",
    "proj <- addIterativeLSI(ArchRProj = proj, useMatrix = iter_LSI_matrix, name = \"IterativeLSI\")\n",
    "    "
   ]
  },
  {
   "cell_type": "code",
   "execution_count": null,
   "metadata": {
    "tags": [
     "add-clusters"
    ]
   },
   "outputs": [],
   "source": [
    "#Add clusters \n",
    "\n",
    "proj <- addClusters(input = proj, reducedDims = \"IterativeLSI\") #from the ArchR docs, IterativeLSI is the only supported option for reducedDims \n",
    "    "
   ]
  },
  {
   "cell_type": "code",
   "execution_count": null,
   "metadata": {
    "scrolled": true,
    "tags": [
     "add-umap"
    ]
   },
   "outputs": [],
   "source": [
    "#Add UMAP\n",
    "\n",
    "proj <- addUMAP(ArchRProj = proj, reducedDims = \"IterativeLSI\") \n"
   ]
  },
  {
   "cell_type": "code",
   "execution_count": null,
   "metadata": {},
   "outputs": [],
   "source": [
    "#Plot UMAP\n",
    "\n",
    "plotEmbedding(ArchRProj = proj, colorBy = \"cellColData\", name = \"Clusters\", embedding = \"UMAP\") + \n",
    "                geom_point(size = 0.2)+\n",
    "                theme_gray()  \n"
   ]
  },
  {
   "cell_type": "code",
   "execution_count": null,
   "metadata": {},
   "outputs": [],
   "source": [
    "#Plot UMAP\n",
    "   \n",
    "#Code start to plot UMAP - nFrags\n",
    "proj$lognFrags = log10(proj$nFrags)\n",
    "obj <- plotEmbedding(ArchRProj = proj, colorBy = \"cellColData\", name = \"lognFrags\", embedding = \"UMAP\", \n",
    "                     pal = ArchRPalettes$purpleOrange) + \n",
    "        geom_point(size = 0.2)+\n",
    "        theme_gray()\n",
    "        "
   ]
  },
  {
   "cell_type": "code",
   "execution_count": null,
   "metadata": {},
   "outputs": [],
   "source": [
    "#Plot UMAP\n",
    "\n",
    "#Code start to plot UMAP - TSS Enrichment\n",
    "obj <- plotEmbedding(ArchRProj = proj, colorBy = \"cellColData\", name = \"TSSEnrichment\", embedding = \"UMAP\",\n",
    "                    pal = ArchRPalettes$purpleOrange) + \n",
    "        geom_point(size = 0.2)+\n",
    "        theme_gray()  \n",
    "       "
   ]
  },
  {
   "cell_type": "code",
   "execution_count": null,
   "metadata": {},
   "outputs": [],
   "source": [
    "#Plot UMAP\n",
    "\n",
    "#Code start to plot UMAP - FRIP\n",
    "obj <- plotEmbedding(ArchRProj = proj, colorBy = \"cellColData\", name = \"FRIP\", embedding = \"UMAP\",\n",
    "                    pal = ArchRPalettes$purpleOrange) + \n",
    "        geom_point(size = 0.2)+\n",
    "        theme_gray()  \n",
    "        "
   ]
  },
  {
   "cell_type": "code",
   "execution_count": null,
   "metadata": {
    "tags": [
     "extract-markers"
    ]
   },
   "outputs": [],
   "source": [
    "#Extract marker genes\n",
    "## single core worked, multicore breaks \n",
    "\n",
    "markersGS <- getMarkerFeatures(\n",
    "    ArchRProj = proj, \n",
    "    useMatrix = \"GeneScoreMatrix\", \n",
    "    groupBy = \"Clusters\",\n",
    "    bias = c(\"TSSEnrichment\", \"log10(nFrags)\"),\n",
    "    testMethod = marker_features_test\n",
    ")\n"
   ]
  },
  {
   "cell_type": "code",
   "execution_count": null,
   "metadata": {
    "tags": [
     "heatmap"
    ]
   },
   "outputs": [],
   "source": [
    "#Plot heatmap of upregulated genes in clusters\n",
    "    \n",
    "plotMarkerHeatmap(markersGS, transpose = heatmap_transpose, nLabel = heatmap_label_n, \n",
    "                         cutOff = heatmap_cutoff, plotLog2FC = TRUE) \n"
   ]
  }
 ],
 "metadata": {
  "celltoolbar": "Tags",
  "kernelspec": {
   "display_name": "R",
   "language": "R",
   "name": "ir"
  },
  "language_info": {
   "codemirror_mode": "r",
   "file_extension": ".r",
   "mimetype": "text/x-r-source",
   "name": "R",
   "pygments_lexer": "r",
   "version": "4.1.2"
  },
  "toc": {
   "base_numbering": 1,
   "nav_menu": {},
   "number_sections": true,
   "sideBar": true,
   "skip_h1_title": false,
   "title_cell": "Table of Contents",
   "title_sidebar": "Contents",
   "toc_cell": false,
   "toc_position": {},
   "toc_section_display": true,
   "toc_window_display": false
  }
 },
 "nbformat": 4,
 "nbformat_minor": 2
}
