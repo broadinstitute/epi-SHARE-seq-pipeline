{
 "cells": [
  {
   "cell_type": "markdown",
   "metadata": {},
   "source": [
    "# Install Libraries\n",
    "Install information can be found [here](https://satijalab.org/seurat/articles/install.html)\\\n",
    "Vignette [here](https://satijalab.org/seurat/articles/pbmc3k_tutorial.html)"
   ]
  },
  {
   "cell_type": "code",
   "execution_count": null,
   "metadata": {
    "tags": [
     "parameters"
    ]
   },
   "outputs": [],
   "source": [
    "#Seurat parameters\n",
    "rna_matrix = \"path-to-matrix.h5\" #h5 count matrix\n",
    "genome = \"genome-name\"#either hg38 or mm10\n",
    "\n",
    "min_features = 200 #Seurat QC for number of min features\n",
    "percent_MT = 5 #Seurat QC for max % of mt \n",
    "min_cells = 3 #Seurat QC for min number of cells\n",
    "\n",
    "normalization_method = \"LogNormalize\"\n",
    "normalization_scale_factor = 10000\n",
    "\n",
    "variable_features_method = \"vst\"\n",
    "variable_features_num = 2000\n",
    "\n",
    "dim_loadings_dim = 2 #Number of dimensions to display\n",
    "\n",
    "jackstraw_replicates = 100 #Number of replicate samplings to perform\n",
    "jackstraw_score_dim = 20 #Which dimensions to examine, in the default case, 1:jackstraw_score_dim = 1:20\n",
    "jackstraw_plot_dim = 15 #Dims to plot, in the default case, 1:jackstraw_plot_dim = 1:15\n",
    "\n",
    "heatmap_dim = 1 #Dimensions to plot\n",
    "heatmap_cells = 500 #A list of cells to plot. If numeric, just plots the top cells.\n",
    "heatmap_balanced = TRUE #Plot an equal number of genes with both + and - scores.\n",
    "\n",
    "umap_dim = 10 #Dimensions (number of PCs) used to create umap, in the default case, 1:umap_dim = 1:10\n",
    "umap_resolution = 0.5 #Value of the resolution parameter, use a value below 1.0 if you want to obtain a smaller number of communities.\n",
    "\n",
    "prefix = \"prefix\" #project name\n",
    "\n",
    "#Terra specific parameters\n",
    "table_name = \"demux_BH3KTLDMXY\"\n",
    "experiment_name = \"gm12878_fresh_RNA\"\n",
    "\n",
    "#Papermill specific parameters\n",
    "papermill = FALSE\n",
    "\n",
    "#jupyter notebook plot sizes\n",
    "options(repr.plot.width=15, repr.plot.height=15)"
   ]
  },
  {
   "cell_type": "code",
   "execution_count": null,
   "metadata": {},
   "outputs": [],
   "source": [
    "papermill <- as.logical(papermill)\n",
    "heatmap_balanced <- as.logical(heatmap_balanced)"
   ]
  },
  {
   "cell_type": "code",
   "execution_count": null,
   "metadata": {},
   "outputs": [],
   "source": [
    "if (!requireNamespace(\"Seurat\", quietly = TRUE))\n",
    "    install.packages(\"Seurat\")\n",
    "if (!requireNamespace(\"hdf5r\", quietly = TRUE))\n",
    "    install.packages(\"hdf5r\")\n",
    "if (!requireNamespace(\"future\", quietly = TRUE))\n",
    "    install.packages(\"future\")\n",
    "\n",
    "suppressMessages(library(hdf5r))\n",
    "suppressMessages(library(Seurat))\n",
    "suppressMessages(library(future))\n",
    "plan(\"multisession\")\n",
    "set.seed(1234)"
   ]
  },
  {
   "cell_type": "code",
   "execution_count": null,
   "metadata": {},
   "outputs": [],
   "source": [
    "#Function to save plots\n",
    "dir.create(\"plots\", showWarnings=F)\n",
    "printPNG <- function(name, plotObject, papermill, wf=1, hf=1){\n",
    "    filename = paste0(prefix,\".rna.seurat.\",name,\".\",genome)\n",
    "\toptions(repr.plot.width = 7*wf, repr.plot.height = 7*hf)\n",
    "\tprint(plotObject)\n",
    "\tif(papermill){\n",
    "\t\tpng(sprintf(\"plots/%s.png\", filename), width=480*wf, height=480*hf)\n",
    "\t\tprint(plotObject)\n",
    "\t\tdev.off()\n",
    "\t}\n",
    "}"
   ]
  },
  {
   "cell_type": "code",
   "execution_count": null,
   "metadata": {},
   "outputs": [],
   "source": [
    "get_file <- function(path){\n",
    "    dest <- getwd()\n",
    "    gsutil_cp(path, dest)\n",
    "    name <- basename(path)\n",
    "    return(name)\n",
    "}\n",
    "\n",
    "if (!papermill){\n",
    "    table <- avtable(table_name)\n",
    "    rna_matrix <- get_file(table$h5_matrix[table[, sprintf('%s_id', table_name)] == experiment_name])\n",
    "}"
   ]
  },
  {
   "cell_type": "code",
   "execution_count": null,
   "metadata": {},
   "outputs": [],
   "source": [
    "data <- Read10X_h5(rna_matrix)\n",
    "rna <- CreateSeuratObject(counts = data, project = prefix, min.cells = min_cells, min.features = min_features)\n",
    "rna"
   ]
  },
  {
   "cell_type": "code",
   "execution_count": null,
   "metadata": {},
   "outputs": [],
   "source": [
    "# Calculate percent of mitochondrial reads\n",
    "rna[[\"percent.mt\"]] <- PercentageFeatureSet(rna, pattern = \"^MT-\")\n",
    "obj <- VlnPlot(rna, features = c(\"nFeature_RNA\", \"nCount_RNA\", \"percent.mt\"), ncol = 3)\n",
    "printPNG('violin', obj, papermill)"
   ]
  },
  {
   "cell_type": "code",
   "execution_count": null,
   "metadata": {},
   "outputs": [],
   "source": [
    "plot1 <- FeatureScatter(rna, feature1 = \"nCount_RNA\", feature2 = \"percent.mt\")\n",
    "plot2 <- FeatureScatter(rna, feature1 = \"nCount_RNA\", feature2 = \"nFeature_RNA\")\n",
    "\n",
    "obj <- plot1 + plot2\n",
    "printPNG('mitochondria', obj, papermill, wf=2)"
   ]
  },
  {
   "cell_type": "code",
   "execution_count": null,
   "metadata": {},
   "outputs": [],
   "source": [
    "# Normalization\n",
    "rna <- NormalizeData(rna, normalization.method = normalization_method, scale.factor = normalization_scale_factor)"
   ]
  },
  {
   "cell_type": "code",
   "execution_count": null,
   "metadata": {},
   "outputs": [],
   "source": [
    "# Find Variable Features\n",
    "rna <- FindVariableFeatures(rna, selection.method = variable_features_method, nfeatures = variable_features_num)\n",
    "\n",
    "# Identify the 10 most highly variable genes\n",
    "top10 <- head(VariableFeatures(rna), 10)\n",
    "\n",
    "# plot variable features with and without labels\n",
    "plot1 <- VariableFeaturePlot(rna)\n",
    "plot2 <- LabelPoints(plot = plot1, points = top10, repel = FALSE)\n",
    "obj <- plot1 + plot2\n",
    "printPNG('features', obj, papermill, wf=2)"
   ]
  },
  {
   "cell_type": "code",
   "execution_count": null,
   "metadata": {},
   "outputs": [],
   "source": [
    "# Scaling\n",
    "all.genes <- rownames(rna)\n",
    "rna <- ScaleData(rna, features = all.genes)"
   ]
  },
  {
   "cell_type": "code",
   "execution_count": null,
   "metadata": {},
   "outputs": [],
   "source": [
    "# PCA\n",
    "rna <- RunPCA(rna, features = VariableFeatures(object = rna))\n",
    "obj <- VizDimLoadings(rna, dims = 1:dim_loadings_dim, reduction = \"pca\")\n",
    "printPNG('dimLoadings', obj, papermill, wf=1.5)"
   ]
  },
  {
   "cell_type": "code",
   "execution_count": null,
   "metadata": {},
   "outputs": [],
   "source": [
    "obj <- DimPlot(rna, reduction = \"pca\")\n",
    "printPNG('pca', obj, papermill)"
   ]
  },
  {
   "cell_type": "code",
   "execution_count": null,
   "metadata": {},
   "outputs": [],
   "source": [
    "obj <- DimHeatmap(rna, dims = heatmap_dim, cells = heatmap_cells, fast = FALSE, balanced = heatmap_balanced)\n",
    "printPNG('heatmap', obj, papermill)"
   ]
  },
  {
   "cell_type": "code",
   "execution_count": null,
   "metadata": {},
   "outputs": [],
   "source": [
    "rna <- JackStraw(rna, num.replicate = jackstraw_replicates)\n",
    "rna <- ScoreJackStraw(rna, dims = 1:jackstraw_score_dim)\n",
    "obj <- JackStrawPlot(rna, dims = 1:jackstraw_plot_dim)\n",
    "printPNG('jackstraw', obj, papermill)"
   ]
  },
  {
   "cell_type": "code",
   "execution_count": null,
   "metadata": {},
   "outputs": [],
   "source": [
    "obj <- ElbowPlot(rna)\n",
    "printPNG('elbow', obj, papermill)"
   ]
  },
  {
   "cell_type": "code",
   "execution_count": null,
   "metadata": {},
   "outputs": [],
   "source": [
    "rna <- FindNeighbors(rna, dims = 1:umap_dim)\n",
    "rna <- FindClusters(rna, resolution = umap_resolution)\n",
    "rna <- RunUMAP(rna, dims = 1:umap_dim)"
   ]
  },
  {
   "cell_type": "code",
   "execution_count": null,
   "metadata": {},
   "outputs": [],
   "source": [
    "obj <- DimPlot(rna, reduction = \"umap\")\n",
    "printPNG('umap', obj, papermill)"
   ]
  },
  {
   "cell_type": "code",
   "execution_count": null,
   "metadata": {},
   "outputs": [],
   "source": [
    "#Create final output files\n",
    "\n",
    "files2zip <- dir('plots/', full.names = TRUE)\n",
    "zip(zipfile = 'plots.zip', files = files2zip)\n",
    "\n",
    "saveRDS(rna, file = paste0(prefix,\".rna.seurat.rds.\",genome,\".rds\"))"
   ]
  }
 ],
 "metadata": {
  "celltoolbar": "Tags",
  "kernelspec": {
   "display_name": "R",
   "language": "R",
   "name": "ir"
  },
  "language_info": {
   "codemirror_mode": "r",
   "file_extension": ".r",
   "mimetype": "text/x-r-source",
   "name": "R",
   "pygments_lexer": "r",
   "version": "4.1.2"
  },
  "toc": {
   "base_numbering": 1,
   "nav_menu": {},
   "number_sections": true,
   "sideBar": true,
   "skip_h1_title": false,
   "title_cell": "Table of Contents",
   "title_sidebar": "Contents",
   "toc_cell": false,
   "toc_position": {},
   "toc_section_display": true,
   "toc_window_display": false
  }
 },
 "nbformat": 4,
 "nbformat_minor": 2
}
