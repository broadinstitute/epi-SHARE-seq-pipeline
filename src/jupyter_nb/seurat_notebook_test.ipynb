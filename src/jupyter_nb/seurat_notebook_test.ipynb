{
 "cells": [
  {
   "cell_type": "markdown",
   "metadata": {},
   "source": [
    "# Install Libraries\n",
    "Install information can be found [here](https://satijalab.org/seurat/articles/install.html)\\\n",
    "Vignette [here](https://satijalab.org/seurat/articles/pbmc3k_tutorial.html)"
   ]
  },
  {
   "cell_type": "code",
   "execution_count": null,
   "metadata": {
    "tags": [
     "parameters"
    ]
   },
   "outputs": [],
   "source": [
    "#Seurat parameters\n",
    "rna_matrix = \"\" #h5 count matrix\n",
    "genome = \"\" #either hg38 or mm10\n",
    "\n",
    "min_features = 200 #Seurat QC for number of min features\n",
    "percent_MT = 5 #Seurat QC for max % of mt \n",
    "min_cells = 3 #Seurat QC for min number of cells\n",
    "\n",
    "normalization_method = \"LogNormalize\"\n",
    "normalization_scale_factor = 10000\n",
    "\n",
    "variable_features_method = \"vst\"\n",
    "variable_features_num = 2000\n",
    "\n",
    "dim_loadings_dim = 2 #Number of dimensions to display\n",
    "\n",
    "jackstraw_replicates = 100 #Number of replicate samplings to perform\n",
    "jackstraw_score_dim = 20 #Which dimensions to examine, in the default case, 1:jackstraw_score_dim = 1:20\n",
    "jackstraw_plot_dim = 15 #Dims to plot, in the default case, 1:jackstraw_plot_dim = 1:15\n",
    "\n",
    "heatmap_dim = 1 #Dimensions to plot\n",
    "heatmap_cells = 500 #A list of cells to plot. If numeric, just plots the top cells.\n",
    "heatmap_balanced = TRUE #Plot an equal number of genes with both + and - scores.\n",
    "\n",
    "umap_dim = 10 #Dimensions (number of PCs) used to create umap, in the default case, 1:umap_dim = 1:10\n",
    "umap_resolution = 0.5 #Value of the resolution parameter, use a value below 1.0 if you want to obtain a smaller number of communities.\n",
    "\n",
    "prefix = \"prefix\" #project name\n",
    "\n",
    "#Terra specific parameters\n",
    "table_name = \"demux_BH3KTLDMXY\"\n",
    "experiment_name = \"gm12878_fresh_RNA\"\n",
    "\n",
    "#Papermill specific parameters\n",
    "papermill = TRUE\n",
    "\n",
    "#jupyter notebook plot sizes\n",
    "options(repr.plot.width=15, repr.plot.height=15)"
   ]
  },
  {
   "cell_type": "code",
   "execution_count": null,
   "metadata": {},
   "outputs": [],
   "source": [
    "papermill <- as.logical(papermill)\n",
    "heatmap_balanced <- as.logical(heatmap_balanced)"
   ]
  },
  {
   "cell_type": "code",
   "execution_count": null,
   "metadata": {
    "tags": [
     "r-libraries"
    ]
   },
   "outputs": [],
   "source": [
    "if (!requireNamespace(\"Seurat\", quietly = TRUE))\n",
    "    install.packages(\"Seurat\")\n",
    "if (!requireNamespace(\"hdf5r\", quietly = TRUE))\n",
    "    install.packages(\"hdf5r\")\n",
    "if (!requireNamespace(\"future\", quietly = TRUE))\n",
    "    install.packages(\"future\")\n",
    "if (!requireNamespace(\"logr\", quietly = TRUE))\n",
    "    install.packages(\"logr\")\n",
    "\n",
    "suppressMessages(library(hdf5r))\n",
    "suppressMessages(library(Seurat))\n",
    "suppressMessages(library(future))\n",
    "suppressMessages(library(logr))\n",
    "future.seed=TRUE\n",
    "plan(\"multisession\")\n",
    "options(\"logr.notes\" = FALSE)\n",
    "set.seed(1234)"
   ]
  },
  {
   "cell_type": "code",
   "execution_count": null,
   "metadata": {},
   "outputs": [],
   "source": [
    "#Function to save plots\n",
    "dir.create(\"plots\", showWarnings=F)\n",
    "printPNG <- function(name, plotObject, papermill, wf=1, hf=1){\n",
    "    filename = paste0(prefix,\".rna.seurat.\",name,\".\",genome)\n",
    "    options(repr.plot.width = 7*wf, repr.plot.height = 7*hf)\n",
    "    print(plotObject)\n",
    "    if(papermill){\n",
    "    png(sprintf(\"plots/%s.png\", filename), width=480*wf, height=480*hf)\n",
    "    print(plotObject)\n",
    "    dev.off()\n",
    "    }\n",
    "}\n",
    "\n",
    "#Create log file\n",
    "logfile <- file.path(paste0(prefix,\".rna.seurat.logfile.\",genome,\".txt\"))\n",
    "lf <- log_open(logfile)"
   ]
  },
  {
   "cell_type": "code",
   "execution_count": null,
   "metadata": {},
   "outputs": [],
   "source": [
    "get_file <- function(path){\n",
    "    dest <- getwd()\n",
    "    gsutil_cp(path, dest)\n",
    "    name <- basename(path)\n",
    "    return(name)\n",
    "}\n",
    "\n",
    "if (!papermill){\n",
    "    table <- avtable(table_name)\n",
    "    rna_matrix <- get_file(table$h5_matrix[table[, sprintf('%s_id', table_name)] == experiment_name])\n",
    "}"
   ]
  },
  {
   "cell_type": "code",
   "execution_count": null,
   "metadata": {
    "tags": [
     "read-h5-matrix"
    ]
   },
   "outputs": [],
   "source": [
    "#Read h5 matrix\n",
    "\n",
    "data = tryCatch({\n",
    "        log_print(\"Reading h5 matrix\")\n",
    "    \n",
    "        #Code start to read rna_matrix\n",
    "        data = Read10X_h5(rna_matrix)\n",
    "    \n",
    "        #Code end to read rna_matrix\n",
    "    \n",
    "        log_print(\"SUCCESSFUL: Reading h5 matrix\")\n",
    "        return(data)\n",
    "    },\n",
    "    error = function(cond) {\n",
    "        log_print(\"ERROR: Reading h5 matrix\")\n",
    "        log_print(cond)\n",
    "    },\n",
    "    warning = function(cond) {\n",
    "        log_print(\"WARNING: Reading h5 matrix\")\n",
    "        log_print(cond)\n",
    "        return(Read10X_h5(rna_matrix))\n",
    "    }\n",
    ")\n"
   ]
  },
  {
   "cell_type": "code",
   "execution_count": null,
   "metadata": {
    "tags": [
     "create-seurat-object"
    ]
   },
   "outputs": [],
   "source": [
    "#Create Seurat Object\n",
    "\n",
    "rna = tryCatch({\n",
    "        log_print(\"Create Seurat Object\")\n",
    "    \n",
    "        #Code start to create seurat object\n",
    "    \n",
    "        rna <- CreateSeuratObject(counts = data, project = prefix, min.cells = min_cells, min.features = min_features)\n",
    "    \n",
    "        #Code end to create seurat object\n",
    "    \n",
    "        log_print(\"SUCCESSFUL: Create Seurat Object\")\n",
    "        return(rna)\n",
    "    },\n",
    "    error = function(cond) {\n",
    "        log_print(\"ERROR: Create Seurat Object\")\n",
    "        log_print(cond)\n",
    "    }\n",
    ")"
   ]
  },
  {
   "cell_type": "code",
   "execution_count": null,
   "metadata": {
    "tags": [
     "violin-plot"
    ]
   },
   "outputs": [],
   "source": [
    "# Calculate percent of mitochondrial reads\n",
    "\n",
    "tryCatch({\n",
    "        log_print(\"Violin Plot\")\n",
    "    \n",
    "        #Code start to create violin plot\n",
    "    \n",
    "        rna[[\"percent.mt\"]] <- PercentageFeatureSet(rna, pattern = \"^MT-\")\n",
    "        obj <- VlnPlot(rna, features = c(\"nFeature_RNA\", \"nCount_RNA\", \"percent.mt\"), ncol = 3)\n",
    "        printPNG('violin', obj, papermill)\n",
    "    \n",
    "        #Code end to create violin plot\n",
    "    \n",
    "        log_print(\"SUCCESSFUL: Violin Plot\")\n",
    "    },\n",
    "    error = function(cond) {\n",
    "        log_print(\"ERROR: Violin Plot\")\n",
    "        log_print(cond)\n",
    "    }\n",
    ")"
   ]
  },
  {
   "cell_type": "code",
   "execution_count": null,
   "metadata": {
    "tags": [
     "feature-plots"
    ]
   },
   "outputs": [],
   "source": [
    "# Create feature plots\n",
    "\n",
    "tryCatch({\n",
    "        log_print(\"Feature Plots\")\n",
    "    \n",
    "        #Code start to create feature plots\n",
    "    \n",
    "        plot1 <- FeatureScatter(rna, feature1 = \"nCount_RNA\", feature2 = \"percent.mt\")\n",
    "        plot2 <- FeatureScatter(rna, feature1 = \"nCount_RNA\", feature2 = \"nFeature_RNA\")\n",
    "        obj <- plot1 + plot2\n",
    "        printPNG('mitochondria', obj, papermill, wf=2)\n",
    "    \n",
    "        #Code end to create feature plots\n",
    "    \n",
    "        log_print(\"SUCCESSFUL: Feature Plots\")\n",
    "    },\n",
    "    error = function(cond) {\n",
    "        log_print(\"ERROR: Feature Plots\")\n",
    "        log_print(cond)\n",
    "    }\n",
    ")"
   ]
  },
  {
   "cell_type": "code",
   "execution_count": null,
   "metadata": {
    "tags": [
     "normalization"
    ]
   },
   "outputs": [],
   "source": [
    "# Normalization\n",
    "\n",
    "tryCatch({\n",
    "        log_print(\"Normalization\")\n",
    "    \n",
    "        #Code start to normalize\n",
    "    \n",
    "        rna <- NormalizeData(rna, normalization.method = normalization_method, scale.factor = normalization_scale_factor)\n",
    "    \n",
    "        #Code end to normalize\n",
    "    \n",
    "        log_print(\"SUCCESSFUL: Normalization\")\n",
    "    },\n",
    "    error = function(cond) {\n",
    "        log_print(\"ERROR: Normalization\")\n",
    "        log_print(cond)\n",
    "    }\n",
    ")\n"
   ]
  },
  {
   "cell_type": "code",
   "execution_count": null,
   "metadata": {
    "tags": [
     "find-variable-features"
    ]
   },
   "outputs": [],
   "source": [
    "# Find Variable Features\n",
    "\n",
    "tryCatch({\n",
    "        log_print(\"Finding Variable Features\")\n",
    "        \n",
    "        #Code start to find variable features\n",
    "    \n",
    "        rna <- FindVariableFeatures(rna, selection.method = variable_features_method, nfeatures = variable_features_num)\n",
    "        \n",
    "        # Identify the 10 most highly variable genes\n",
    "        top10 <- head(VariableFeatures(rna), 10)\n",
    "\n",
    "        # plot variable features with and without labels\n",
    "        plot1 <- VariableFeaturePlot(rna)\n",
    "        plot2 <- LabelPoints(plot = plot1, points = top10, repel = FALSE)\n",
    "        obj <- plot1 + plot2\n",
    "        printPNG('features', obj, papermill, wf=2)\n",
    "    \n",
    "        #Code end to find variable features\n",
    "        \n",
    "        log_print(\"SUCCESSFUL: Finding Variable Features\")\n",
    "    },\n",
    "    error = function(cond) {\n",
    "        log_print(\"ERROR: Finding Variable Features\")\n",
    "        log_print(cond)\n",
    "    }\n",
    ")"
   ]
  },
  {
   "cell_type": "code",
   "execution_count": null,
   "metadata": {
    "tags": [
     "scaling"
    ]
   },
   "outputs": [],
   "source": [
    "# Scaling\n",
    "\n",
    "tryCatch({\n",
    "        log_print(\"Scaling\")\n",
    "    \n",
    "        #Code start to scale\n",
    "    \n",
    "        all.genes <- rownames(rna)\n",
    "        rna <- ScaleData(rna, features = all.genes)\n",
    "    \n",
    "        #Code end to scale\n",
    "    \n",
    "        log_print(\"SUCCESSFUL: Scaling\")\n",
    "    },\n",
    "    error = function(cond) {\n",
    "        log_print(\"ERROR: Scaling\")\n",
    "        log_print(cond)\n",
    "    }\n",
    ")\n"
   ]
  },
  {
   "cell_type": "code",
   "execution_count": null,
   "metadata": {
    "tags": [
     "pca"
    ]
   },
   "outputs": [],
   "source": [
    "#Principal Component Analysis\n",
    "\n",
    "tryCatch({\n",
    "        log_print(\"Principal Component Analysis\")\n",
    "\n",
    "        # Code start to run PCA    \n",
    "    \n",
    "        rna <- RunPCA(rna, features = VariableFeatures(object = rna))\n",
    "        obj <- VizDimLoadings(rna, dims = 1:dim_loadings_dim, reduction = \"pca\")\n",
    "        printPNG('dimLoadings', obj, papermill, wf=1.5)\n",
    "    \n",
    "        # Code end to run PCA  \n",
    "\n",
    "        log_print(\"SUCCESSFUL: Principal Component Analysis\")\n",
    "    },\n",
    "    error = function(cond) {\n",
    "        log_print(\"ERROR: Principal Component Analysis\")\n",
    "        log_print(cond)\n",
    "    }\n",
    ")"
   ]
  },
  {
   "cell_type": "code",
   "execution_count": null,
   "metadata": {
    "tags": [
     "pca-plot"
    ]
   },
   "outputs": [],
   "source": [
    "# PCA plot\n",
    "\n",
    "tryCatch({\n",
    "        log_print(\"PCA plot\")\n",
    "\n",
    "        # Code start to create PCA plot \n",
    "    \n",
    "        obj <- DimPlot(rna, reduction = \"pca\")\n",
    "        printPNG('pca', obj, papermill)\n",
    "    \n",
    "        # Code end to create PCA plot  \n",
    "\n",
    "        log_print(\"SUCCESSFUL: PCA plot\")\n",
    "    },\n",
    "    error = function(cond) {\n",
    "        log_print(\"ERROR: PCA plot\")\n",
    "        log_print(cond)\n",
    "    }\n",
    ")"
   ]
  },
  {
   "cell_type": "code",
   "execution_count": null,
   "metadata": {
    "tags": [
     "heatmap"
    ]
   },
   "outputs": [],
   "source": [
    "# Heatmap\n",
    "\n",
    "tryCatch({\n",
    "        log_print(\"Heatmap\")\n",
    "\n",
    "        # Code start to create heatmap \n",
    "    \n",
    "        obj <- DimHeatmap(rna, dims = heatmap_dim, cells = heatmap_cells, fast = FALSE, balanced = heatmap_balanced)\n",
    "        printPNG('heatmap', obj, papermill)\n",
    "    \n",
    "        # Code end to create heatmap \n",
    "\n",
    "        log_print(\"SUCCESSFUL: Heatmap\")\n",
    "    },\n",
    "    error = function(cond) {\n",
    "        log_print(\"ERROR: Heatmap\")\n",
    "        log_print(cond)\n",
    "    }\n",
    ")"
   ]
  },
  {
   "cell_type": "code",
   "execution_count": null,
   "metadata": {
    "tags": [
     "jackstraw-plot"
    ]
   },
   "outputs": [],
   "source": [
    "# Jackstraw Plot\n",
    "\n",
    "tryCatch({\n",
    "        log_print(\"Jackstraw Plot\")\n",
    "\n",
    "        # Code start to create jackstraw plot \n",
    "    \n",
    "        rna <- JackStraw(rna, num.replicate = jackstraw_replicates)\n",
    "        rna <- ScoreJackStraw(rna, dims = 1:jackstraw_score_dim)\n",
    "        obj <- JackStrawPlot(rna, dims = 1:jackstraw_plot_dim)\n",
    "        printPNG('jackstraw', obj, papermill)\n",
    "    \n",
    "        # Code end to create jackstraw plot \n",
    "\n",
    "        log_print(\"SUCCESSFUL: Jackstraw Plot\")\n",
    "    },\n",
    "    error = function(cond) {\n",
    "        log_print(\"ERROR: Jackstraw Plot\")\n",
    "        log_print(cond)\n",
    "    }\n",
    ")"
   ]
  },
  {
   "cell_type": "code",
   "execution_count": null,
   "metadata": {
    "tags": [
     "elbow-plot"
    ]
   },
   "outputs": [],
   "source": [
    "# Elbow Plot\n",
    "\n",
    "tryCatch({\n",
    "        log_print(\"Elbow Plot\")\n",
    "\n",
    "        # Code start to create elbow plot \n",
    "    \n",
    "        obj <- ElbowPlot(rna)\n",
    "        printPNG('elbow', obj, papermill)\n",
    "    \n",
    "        # Code end to create elbow plot \n",
    "\n",
    "        log_print(\"SUCCESSFUL: Elbow Plot\")\n",
    "    },\n",
    "    error = function(cond) {\n",
    "        log_print(\"ERROR: Elbow Plot\")\n",
    "        log_print(cond)\n",
    "    }\n",
    ")"
   ]
  },
  {
   "cell_type": "code",
   "execution_count": null,
   "metadata": {
    "tags": [
     "umap"
    ]
   },
   "outputs": [],
   "source": [
    "# Run UMAP\n",
    "\n",
    "tryCatch({\n",
    "        log_print(\"Run UMAP\")\n",
    "\n",
    "        # Code start to run umap \n",
    "    \n",
    "        rna <- FindNeighbors(rna, dims = 1:umap_dim)\n",
    "        rna <- FindClusters(rna, resolution = umap_resolution)\n",
    "        rna <- RunUMAP(rna, dims = 1:umap_dim)\n",
    "    \n",
    "        # Code end to run umap \n",
    "\n",
    "        log_print(\"SUCCESSFUL: Run UMAP\")\n",
    "    },\n",
    "    error = function(cond) {\n",
    "        log_print(\"ERROR: Run UMAP\")\n",
    "        log_print(cond)\n",
    "    }\n",
    ")"
   ]
  },
  {
   "cell_type": "code",
   "execution_count": null,
   "metadata": {
    "tags": [
     "umap-plot"
    ]
   },
   "outputs": [],
   "source": [
    "# UMAP Plot\n",
    "\n",
    "tryCatch({\n",
    "        log_print(\"UMAP Plot\")\n",
    "\n",
    "        # Code start to create UMAP plot \n",
    "    \n",
    "        obj <- DimPlot(rna, reduction = \"umap\")\n",
    "        printPNG('umap', obj, papermill)\n",
    "    \n",
    "        # Code end to create UMAP plot \n",
    "\n",
    "        log_print(\"SUCCESSFUL: UMAP Plot\")\n",
    "    },\n",
    "    error = function(cond) {\n",
    "        log_print(\"ERROR: UMAP Plot\")\n",
    "        log_print(cond)\n",
    "    }\n",
    ")"
   ]
  },
  {
   "cell_type": "code",
   "execution_count": null,
   "metadata": {
    "tags": [
     "plots-zip"
    ]
   },
   "outputs": [],
   "source": [
    "#Create final output files\n",
    "\n",
    "files2zip <- dir('plots/', full.names = TRUE)\n",
    "zip(zipfile = 'plots.zip', files = files2zip)\n",
    "\n",
    "saveRDS(rna, file = paste0(prefix,\".rna.seurat.rds.\",genome,\".rds\"))\n",
    "\n",
    "log_close()"
   ]
  }
 ],
 "metadata": {
  "celltoolbar": "Tags",
  "kernelspec": {
   "display_name": "R",
   "language": "R",
   "name": "ir"
  },
  "language_info": {
   "codemirror_mode": "r",
   "file_extension": ".r",
   "mimetype": "text/x-r-source",
   "name": "R",
   "pygments_lexer": "r",
   "version": "4.1.2"
  },
  "toc": {
   "base_numbering": 1,
   "nav_menu": {},
   "number_sections": true,
   "sideBar": true,
   "skip_h1_title": false,
   "title_cell": "Table of Contents",
   "title_sidebar": "Contents",
   "toc_cell": false,
   "toc_position": {},
   "toc_section_display": true,
   "toc_window_display": false
  }
 },
 "nbformat": 4,
 "nbformat_minor": 2
}
