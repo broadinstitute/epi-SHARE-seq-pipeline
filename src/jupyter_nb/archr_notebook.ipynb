{
 "cells": [
  {
   "cell_type": "markdown",
   "metadata": {},
   "source": [
    "# Install Libraries\n",
    "Install information can be found [here](https://www.archrproject.com/index.html)\\\n",
    "Vignette [here](https://www.archrproject.com/articles/Articles/tutorial.html)"
   ]
  },
  {
   "cell_type": "code",
   "execution_count": null,
   "metadata": {
    "tags": [
     "parameters"
    ]
   },
   "outputs": [],
   "source": [
    "#ArchR parameters\n",
    "atac_frag = \"~/Downloads/mod_AH_msBrain_ATAC_2K1_NoPolyA.atac.fragments.bgz\" # Input file atac_frag.tsv.bgz \n",
    "genome = \"mm10\" #either hg38 or mm10\n",
    "\n",
    "#ArchR QC\n",
    "min_tss = 4 #The minimum numeric transcription start site (TSS) enrichment score required for a cell to pass filtering\n",
    "min_frags = 1000 #The minimum number of mapped ATAC-seq fragments required per cell to pass filtering for use\n",
    "add_tile_mat = TRUE #A boolean value indicating whether to add a \"Tile Matrix\" to each ArrowFile. \n",
    "add_gene_score_mat = TRUE #A boolean value indicating whether to add a Gene-Score Matrix to each ArrowFile.\n",
    "\n",
    "#ArchR Doublet paramaters\n",
    "doublet_k = 10 #The number of cells neighboring a simulated doublet to be considered as putative doublets.\n",
    "doublet_knn_method = \"UMAP\" #Refers to the embedding to use for nearest neighbor search.\n",
    "lsi_method = 1 #A number or string indicating the order of operations in the TF-IDF normalization. Possible values are: 1 or \"tf-logidf\", 2 or \"log(tf-idf)\", and 3 or \"logtf-logidf\". \n",
    "\n",
    "copy_arrow_files = TRUE #save a copy of arrow files in the ArchR project (recommended)\n",
    "iter_LSI_matrix = \"TileMatrix\" #The name of the data matrix to retrieve from the ArrowFiles associated with the ArchRProject. Valid options are \"TileMatrix\" or \"PeakMatrix\".\n",
    "threads = 8\n",
    "prefix = \"prefix\" #project name\n",
    "\n",
    "#ArchR Plots parameters\n",
    "marker_features_test = \"wilcoxon\" #The name of the pairwise test method to use in comparing cell groupings to the null cell grouping during marker feature identification.\n",
    "heatmap_transpose = TRUE #Boolean to transpose heatmap\n",
    "heatmap_label_n = 5 #Top n genes to label per cluster in heatmap\n",
    "heatmap_cutoff = \"FDR <= 0.01 & Log2FC >= 0.5\" #Cut-off applied to genes in heatmap\n",
    "\n",
    "#Terra specific parameters\n",
    "table_name = \"demux_BH3KTLDMXY\"\n",
    "experiment_name = \"gm12878_fresh_ATAC\"\n",
    "\n",
    "#papermill specific parameters\n",
    "papermill = TRUE\n",
    "\n",
    "#jupyter notebook plot sizes\n",
    "options(repr.plot.width=15, repr.plot.height=15)\n"
   ]
  },
  {
   "cell_type": "code",
   "execution_count": null,
   "metadata": {},
   "outputs": [],
   "source": [
    "papermill <- as.logical(papermill)\n",
    "add_tile_mat <- as.logical(add_tile_mat)\n",
    "add_gene_score_mat <- as.logical(add_gene_score_mat)\n",
    "copy_arrow_files <- as.logical(copy_arrow_files)\n",
    "heatmap_transpose <- as.logical(heatmap_transpose)"
   ]
  },
  {
   "cell_type": "code",
   "execution_count": null,
   "metadata": {},
   "outputs": [],
   "source": [
    "if (!requireNamespace(\"BiocManager\", quietly = TRUE))\n",
    "    install.packages(\"BiocManager\", repos = \"https://cran.r-project.org\")\n",
    "if (!requireNamespace(\"devtools\", quietly = TRUE)) \n",
    "    install.packages(\"devtools\")\n",
    "if (!requireNamespace(\"GenomeInfoDbData\", quietly = TRUE))\n",
    "    BiocManager::install(\"GenomeInfoDbData\")\n",
    "if (!requireNamespace(\"GenomicRanges\", quietly = TRUE))\n",
    "    BiocManager::install(\"GenomicRanges\")\n",
    "if (!requireNamespace(\"Rsamtools\", quietly = TRUE))\n",
    "    BiocManager::install(\"Rsamtools\")\n",
    "if (!requireNamespace(\"presto\", quietly = TRUE))\n",
    "    devtools::install_github('immunogenomics/presto')\n",
    "if (!requireNamespace(\"magick\", quietly = TRUE))\n",
    "    install.packages(\"magick\")\n",
    "if (!requireNamespace(\"ArchR\", quietly = TRUE)){\n",
    "    devtools::install_github('GreenleafLab/ArchR@v1.0.1', repos = BiocManager::repositories())\n",
    "    ArchR::installExtraPackages()\n",
    "}"
   ]
  },
  {
   "cell_type": "code",
   "execution_count": null,
   "metadata": {},
   "outputs": [],
   "source": [
    "suppressMessages(library(parallel))\n",
    "suppressMessages(library(ArchR))\n",
    "suppressMessages(library(magick))\n",
    "set.seed(1)\n",
    "addArchRThreads(threads = threads) "
   ]
  },
  {
   "cell_type": "code",
   "execution_count": null,
   "metadata": {},
   "outputs": [],
   "source": [
    "#Function to save plots\n",
    "dir.create(\"plots\", showWarnings=F)\n",
    "printPNG <- function(name, plotObject, papermill, wf=1, hf=1){\n",
    "    filename = paste0(prefix,\".atac.archr.\",name,\".\",genome)\n",
    "\toptions(repr.plot.width = 7*wf, repr.plot.height = 7*hf)\n",
    "\tprint(plotObject)\n",
    "\tif(papermill){\n",
    "\t\tpng(sprintf(\"plots/%s.png\", filename), width=480*wf, height=480*hf)\n",
    "\t\tprint(plotObject)\n",
    "\t\tdev.off()\n",
    "\t}\n",
    "}"
   ]
  },
  {
   "cell_type": "code",
   "execution_count": null,
   "metadata": {},
   "outputs": [],
   "source": [
    "#Terra specific code block\n",
    "get_file <- function(path){\n",
    "    dest <- getwd()\n",
    "    gsutil_cp(path, dest)\n",
    "    name <- basename(path)\n",
    "    return(name)\n",
    "}\n",
    "\n",
    "if (!papermill){\n",
    "    table <- avtable(table_name)\n",
    "    atac_frag <- get_file(table$atac_fragment_file_raw[table[, sprintf('%s_id', table_name)] == experiment_name])\n",
    "}"
   ]
  },
  {
   "cell_type": "code",
   "execution_count": null,
   "metadata": {},
   "outputs": [],
   "source": [
    "addArchRGenome(genome)"
   ]
  },
  {
   "cell_type": "code",
   "execution_count": null,
   "metadata": {},
   "outputs": [],
   "source": [
    "ArrowFiles <- createArrowFiles(\n",
    "  inputFiles = atac_frag,\n",
    "  sampleNames = prefix,\n",
    "  minTSS = min_tss, \n",
    "  minFrags = min_frags,\n",
    "  addTileMat = add_tile_mat,\n",
    "  addGeneScoreMat = add_gene_score_mat\n",
    ")\n",
    "ArrowFiles"
   ]
  },
  {
   "cell_type": "code",
   "execution_count": null,
   "metadata": {},
   "outputs": [],
   "source": [
    "doubScores <- addDoubletScores(\n",
    "  input = ArrowFiles,\n",
    "  k = doublet_k,\n",
    "  knnMethod = doublet_knn_method,\n",
    "  LSIMethod = lsi_method\n",
    ")"
   ]
  },
  {
   "cell_type": "code",
   "execution_count": null,
   "metadata": {},
   "outputs": [],
   "source": [
    "list.files(\".\", pattern=NULL, all.files=TRUE, full.names=TRUE)"
   ]
  },
  {
   "cell_type": "code",
   "execution_count": null,
   "metadata": {},
   "outputs": [],
   "source": [
    "proj <- ArchRProject(\n",
    "  ArrowFiles = ArrowFiles, \n",
    "  outputDirectory = prefix,\n",
    "  copyArrows = copy_arrow_files, #This is recommened so that you maintain an unaltered copy for later usage.\n",
    "  showLogo = FALSE\n",
    ")"
   ]
  },
  {
   "cell_type": "code",
   "execution_count": null,
   "metadata": {},
   "outputs": [],
   "source": [
    "#Uncomment next line to filter doublets\n",
    "\n",
    "#proj <- filterDoublets(ArchRProj = proj) "
   ]
  },
  {
   "cell_type": "code",
   "execution_count": null,
   "metadata": {},
   "outputs": [],
   "source": [
    "proj <- addIterativeLSI(ArchRProj = proj, useMatrix = iter_LSI_matrix, name = \"IterativeLSI\")"
   ]
  },
  {
   "cell_type": "code",
   "execution_count": null,
   "metadata": {},
   "outputs": [],
   "source": [
    "proj <- addClusters(input = proj, reducedDims = \"IterativeLSI\") #from the ArchR docs, IterativeLSI is the only supported option for reducedDims "
   ]
  },
  {
   "cell_type": "code",
   "execution_count": null,
   "metadata": {
    "scrolled": true
   },
   "outputs": [],
   "source": [
    "proj <- addUMAP(ArchRProj = proj, reducedDims = \"IterativeLSI\")"
   ]
  },
  {
   "cell_type": "code",
   "execution_count": null,
   "metadata": {},
   "outputs": [],
   "source": [
    "#Plot UMAP\n",
    "\n",
    "p1 <- plotEmbedding(ArchRProj = proj, colorBy = \"cellColData\", name = \"Sample\", embedding = \"UMAP\")\n",
    "p2 <- plotEmbedding(ArchRProj = proj, colorBy = \"cellColData\", name = \"Clusters\", embedding = \"UMAP\")\n",
    "obj <- p1 + p2 #ggAlignPlots(p1, p2, type = \"h\")\n",
    "printPNG('umap', obj, papermill, wf=2)"
   ]
  },
  {
   "cell_type": "code",
   "execution_count": null,
   "metadata": {
    "scrolled": false
   },
   "outputs": [],
   "source": [
    "#Plot TSS Enrichment vs Unique Fragments QC plot\n",
    "\n",
    "df <- getCellColData(proj, select = c(\"log10(nFrags)\", \"TSSEnrichment\"))\n",
    "p <- ggPoint(\n",
    "    x = df[,1], \n",
    "    y = df[,2], \n",
    "    colorDensity = TRUE,\n",
    "    continuousSet = \"sambaNight\",\n",
    "    xlabel = \"Log10 Unique Fragments\",\n",
    "    ylabel = \"TSS Enrichment\"\n",
    ") + geom_hline(yintercept = min_tss, lty = \"dashed\") + geom_vline(xintercept = log10(min_frags), lty = \"dashed\") + ggtitle(label = \"TSS Enrichment vs log10(Unique Fragments) after filters applied\", subtitle = paste0(\"Cell count: \", dim(df)[1]))\n",
    "printPNG('TSS_fragment_qc', p, papermill, wf=2)\n"
   ]
  },
  {
   "cell_type": "code",
   "execution_count": null,
   "metadata": {},
   "outputs": [],
   "source": [
    "#Extract marker genes\n",
    "\n",
    "# single core worked, multicore breaks \n",
    "\n",
    "#markersGS <- getMarkerFeatures(\n",
    " #   ArchRProj = proj, \n",
    "  #  useMatrix = \"GeneScoreMatrix\", \n",
    "   # groupBy = \"Clusters\",\n",
    "    #bias = c(\"TSSEnrichment\", \"log10(nFrags)\"),\n",
    "    #testMethod = marker_features_test\n",
    "#)"
   ]
  },
  {
   "cell_type": "code",
   "execution_count": null,
   "metadata": {},
   "outputs": [],
   "source": [
    "#Plot heatmap of upregulated genes in clusters\n",
    "\n",
    "#hm = plotMarkerHeatmap(markersGS, transpose = heatmap_transpose, nLabel = heatmap_label_n, cutOff = heatmap_cutoff, plotLog2FC = TRUE)\n",
    "#printPNG('heatmap', hm, papermill, wf=2)"
   ]
  },
  {
   "cell_type": "code",
   "execution_count": null,
   "metadata": {},
   "outputs": [],
   "source": [
    "#Create final output files\n",
    "\n",
    "files2zip <- dir('plots/', full.names = TRUE)\n",
    "zip(zipfile = 'plots.zip', files = files2zip)\n",
    "\n",
    "saveRDS(proj, file = paste0(prefix,\".atac.archr.rds.\",genome,\".rds\"))"
   ]
  }
 ],
 "metadata": {
  "celltoolbar": "Tags",
  "kernelspec": {
   "display_name": "R",
   "language": "R",
   "name": "ir"
  },
  "language_info": {
   "codemirror_mode": "r",
   "file_extension": ".r",
   "mimetype": "text/x-r-source",
   "name": "R",
   "pygments_lexer": "r",
   "version": "4.1.2"
  },
  "toc": {
   "base_numbering": 1,
   "nav_menu": {},
   "number_sections": true,
   "sideBar": true,
   "skip_h1_title": false,
   "title_cell": "Table of Contents",
   "title_sidebar": "Contents",
   "toc_cell": false,
   "toc_position": {},
   "toc_section_display": true,
   "toc_window_display": false
  }
 },
 "nbformat": 4,
 "nbformat_minor": 2
}
