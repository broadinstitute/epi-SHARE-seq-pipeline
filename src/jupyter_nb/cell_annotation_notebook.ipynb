{
 "cells": [
  {
   "cell_type": "markdown",
   "metadata": {},
   "source": [
    "# Install Libraries\n",
    "Install information can be found [here](https://satijalab.org/seurat/articles/install.html)\\\n",
    "Vignette [here](https://satijalab.org/seurat/articles/pbmc3k_tutorial.html)"
   ]
  },
  {
   "cell_type": "code",
   "execution_count": 1,
   "metadata": {
    "tags": [
     "parameters"
    ],
    "vscode": {
     "languageId": "r"
    }
   },
   "outputs": [],
   "source": [
    "#Seurat parameters\n",
    "reference_data = \"path-to-seurat-object\" # Seurat object for reference data\n",
    "query_data = \"path-to-seurat-object\" # Seurat object for query data\n",
    "\n",
    "genome = \"genome-name\" # either hg38 or mm10\n",
    "\n",
    "normalization_method = \"LogNormalize\"\n",
    "normalization_scale_factor = 10000\n",
    "\n",
    "variable_features_method = \"vst\"\n",
    "variable_features_num = 2000\n",
    "\n",
    "weight_reduction = \"pca\" # Dimensional reduction to use for the weighting anchors.\n",
    "n_dims = 30 # Set of dimensions to use in the anchor weighting procedure. If NULL, the same dimensions that were used to find anchors will be used for weighting.\n",
    "\n",
    "prefix = \"prefix\" #project name\n",
    "\n",
    "#Papermill specific parameters\n",
    "papermill = TRUE\n",
    "\n",
    "#jupyter notebook plot sizes\n",
    "options(repr.plot.width=20, repr.plot.height=15)"
   ]
  },
  {
   "cell_type": "code",
   "execution_count": 2,
   "metadata": {},
   "outputs": [],
   "source": [
    "#########################\n",
    "# For test\n",
    "reference_data = \"../../../ReferenceData/BrainAgingSpatialAtlas_snRNAseq.rds\"\n",
    "query_data = \"../../../QueryData/MouseBrain/SS-PKR-129-192-PLATE1-LEFT-HALF.rna.seurat.filtered_rds.mm10.rds\"\n",
    "genome = \"mm10\""
   ]
  },
  {
   "cell_type": "code",
   "execution_count": 3,
   "metadata": {
    "vscode": {
     "languageId": "r"
    }
   },
   "outputs": [],
   "source": [
    "papermill <- as.logical(papermill)"
   ]
  },
  {
   "cell_type": "code",
   "execution_count": 4,
   "metadata": {
    "vscode": {
     "languageId": "r"
    }
   },
   "outputs": [
    {
     "name": "stderr",
     "output_type": "stream",
     "text": [
      "Bioconductor version '3.16' is out-of-date; the current release version '3.17'\n",
      "  is available with R version '4.3'; see https://bioconductor.org/install\n",
      "\n"
     ]
    }
   ],
   "source": [
    "if (!requireNamespace(\"Seurat\", quietly = TRUE))\n",
    "    install.packages(\"Seurat\")\n",
    "if (!requireNamespace(\"future\", quietly = TRUE))\n",
    "    install.packages(\"future\")\n",
    "if (!requireNamespace(\"logr\", quietly = TRUE))\n",
    "    install.packages(\"logr\")\n",
    "if (!requireNamespace(\"grid\", quietly = TRUE))\n",
    "    install.packages(\"grid\")\n",
    "if (!requireNamespace(\"dplyr\", quietly = TRUE))\n",
    "    install.packages(\"dplyr\")\n",
    "if (!requireNamespace(\"gridExtra\", quietly = TRUE))\n",
    "    install.packages(\"gridExtra\")\n",
    "if (!requireNamespace(\"ggplot2\", quietly = TRUE))\n",
    "    install.packages(\"ggplot2\")\n",
    "if (!require(\"BiocManager\", quietly = TRUE))\n",
    "    install.packages(\"BiocManager\")\n",
    "if (!requireNamespace(\"EnsDb.Mmusculus.v79\", quietly = TRUE))\n",
    "    BiocManager::install(\"EnsDb.Mmusculus.v79\")\n",
    "if (!requireNamespace(\"EnsDb.Hsapiens.v86\", quietly = TRUE))\n",
    "    BiocManager::install(\"EnsDb.Hsapiens.v86\")\n",
    "\n",
    "suppressMessages(library(Seurat))\n",
    "suppressMessages(library(future))\n",
    "suppressMessages(library(logr))\n",
    "suppressMessages(library(dplyr))\n",
    "suppressMessages(library(grid))\n",
    "suppressMessages(library(gridExtra))\n",
    "suppressMessages(library(ggplot2))\n",
    "suppressMessages(library(patchwork))\n",
    "suppressMessages(library(ggsankey))\n",
    "suppressMessages(library(cowplot))\n",
    "suppressMessages(library(EnsDb.Mmusculus.v79))\n",
    "suppressMessages(library(EnsDb.Hsapiens.v86))\n",
    "\n",
    "future.seed=TRUE\n",
    "plan(\"multisession\", workers = threads)\n",
    "options(\"logr.notes\" = FALSE)\n",
    "options(future.globals.maxSize=10e9)\n",
    "set.seed(1234)"
   ]
  },
  {
   "cell_type": "code",
   "execution_count": 5,
   "metadata": {
    "vscode": {
     "languageId": "r"
    }
   },
   "outputs": [],
   "source": [
    "# Function to convert gene ID to symbol\n",
    "create_seurat_obj_with_gene_symbol <- function(obj, genome){\n",
    "\n",
    "    # get gene symbol\n",
    "    if(genome == \"hg38\"){\n",
    "        gene.id <- ensembldb::select(EnsDb.Hsapiens.v86, \n",
    "                                      keys= rownames(obj), \n",
    "                                      keytype = \"GENEID\", \n",
    "                                      columns = c(\"SYMBOL\",\"GENEID\"))\n",
    "    \n",
    "    } else if(genome == \"mm10\"){\n",
    "        gene.id <- ensembldb::select(EnsDb.Mmusculus.v79, \n",
    "                                  keys= rownames(obj), \n",
    "                                  keytype = \"GENEID\", \n",
    "                                  columns = c(\"SYMBOL\",\"GENEID\"))\n",
    "    }\n",
    "    # remove genes with empty symbol\n",
    "    gene.id <- subset(gene.id, gene.id$SYMBOL != \"\")\n",
    "\n",
    "    # make gene symbol unique\n",
    "    gene.id$Unique_SYMBOL <- make.unique(gene.id$SYMBOL, \"\")\n",
    "    \n",
    "    counts <- obj@assays$RNA@counts\n",
    "    counts <- counts[gene.id$GENEID, ]\n",
    "    rownames(counts) <- gene.id$Unique_SYMBOL\n",
    "\n",
    "    obj <- CreateSeuratObject(counts = counts, meta.data = obj@meta.data)\n",
    "    \n",
    "    return(obj)\n",
    "}"
   ]
  },
  {
   "cell_type": "code",
   "execution_count": 6,
   "metadata": {
    "vscode": {
     "languageId": "r"
    }
   },
   "outputs": [],
   "source": [
    "#Function to save plots\n",
    "plot_filename = paste0(prefix,\".rna.cell.annotation.plots.\",genome)\n",
    "dir.create(plot_filename, showWarnings=F)\n",
    "printPNG <- function(name, plotObject, papermill, wf=22, hf=11){\n",
    "    filename = paste0(plot_filename,\"/\",prefix,\".rna.cell.annotation.\",name,\".\",genome,\".png\")\n",
    "    if(papermill){\n",
    "        ggsave(plot = plotObject, filename = filename, width = wf, height = hf)\n",
    "    }\n",
    "}\n",
    "\n",
    "#Create log file\n",
    "logfile <- file.path(paste0(prefix,\".rna.cell.annotation.logfile.\", genome, \".txt\"))\n",
    "lf <- log_open(logfile)"
   ]
  },
  {
   "cell_type": "code",
   "execution_count": 7,
   "metadata": {
    "vscode": {
     "languageId": "r"
    }
   },
   "outputs": [
    {
     "name": "stdout",
     "output_type": "stream",
     "text": [
      "[1] \"# Reading reference data...\"\n",
      "[1] \"SUCCESSFUL: Reading reference data\"\n"
     ]
    }
   ],
   "source": [
    "# Read reference data\n",
    "tryCatch(\n",
    "    {\n",
    "        log_print(\"# Reading reference data...\")\n",
    "        obj.ref <- readRDS(reference_data)\n",
    "        log_print(\"SUCCESSFUL: Reading reference data\")\n",
    "    \n",
    "    },\n",
    "    error = function(cond) {\n",
    "        log_print(\"ERROR: Reading reference data\")\n",
    "        log_print(cond)\n",
    "    }\n",
    ")"
   ]
  },
  {
   "cell_type": "code",
   "execution_count": 8,
   "metadata": {
    "vscode": {
     "languageId": "r"
    }
   },
   "outputs": [
    {
     "name": "stdout",
     "output_type": "stream",
     "text": [
      "[1] \"# Reading query data...\"\n",
      "[1] \"SUCCESSFUL: Reading query data\"\n"
     ]
    }
   ],
   "source": [
    "# Read query data\n",
    "tryCatch(\n",
    "    {\n",
    "        log_print(\"# Reading query data...\")\n",
    "        obj.query <- readRDS(query_data)\n",
    "        log_print(\"SUCCESSFUL: Reading query data\")\n",
    "    \n",
    "    },\n",
    "    error = function(cond) {\n",
    "        log_print(\"ERROR: Reading query data\")\n",
    "        log_print(cond)\n",
    "    }\n",
    ")"
   ]
  },
  {
   "cell_type": "code",
   "execution_count": 9,
   "metadata": {
    "vscode": {
     "languageId": "r"
    }
   },
   "outputs": [
    {
     "name": "stdout",
     "output_type": "stream",
     "text": [
      "[1] \"# Converting gene id to symbol for reference data\"\n",
      "[1] \"SUCCESSFUL: Converting gene id to symbol for reference data\"\n"
     ]
    }
   ],
   "source": [
    "# Convert gene ID to symbol for reference data\n",
    "tryCatch(\n",
    "    {\n",
    "        log_print(\"# Converting gene id to symbol for reference data\")\n",
    "        obj.ref <- create_seurat_obj_with_gene_symbol(obj = obj.ref, \n",
    "                                                      genome = genome)\n",
    "        log_print(\"SUCCESSFUL: Converting gene id to symbol for reference data\")\n",
    "\n",
    "    },\n",
    "    error = function(cond) {\n",
    "        log_print(\"ERROR: Converting gene id to symbol for reference data\")\n",
    "        log_print(cond)\n",
    "    }\n",
    ")"
   ]
  },
  {
   "cell_type": "code",
   "execution_count": 10,
   "metadata": {
    "vscode": {
     "languageId": "r"
    }
   },
   "outputs": [
    {
     "name": "stdout",
     "output_type": "stream",
     "text": [
      "[1] \"# Subseting reference data\"\n"
     ]
    },
    {
     "name": "stderr",
     "output_type": "stream",
     "text": [
      "Warning message:\n",
      "\"Not all features provided are in this Assay object, removing the following feature(s): Tafa1, Gm32338, BC005561, Nrg1, Gm32647, Gm42418, Gm10754, Tafa2, Gm10419, Gm26871, mt-Co1, 2010300C02Rik, Gmnc, 2700081O15Rik, 4921539H07Rik, Gm33228, Gm20754, Adgrl4, Rflnb, Lhfpl3, March1, Tmem94, Gm10649, mt-Nd1, Gm5127, Epb41l4a, Drd1, Gm28905, Mrm2, Pakap.1, Gm5820, Rmst, C78859, Gm14051, Gm10516, C230072F16Rik, Gm30371, C130073E24Rik, Gm39185, Gm44593, Twnk, Rtl4, Gm867, Gm38413, Gm12367, Gm49969, Gm45356, Gm6260, BC051408, Gm20457, Gm31645, Gm13561, Ints11, Gm14412, Gm11906, Rps6ka2, Dele1, Gm49678, Tmem131l, Gm20125, Gm45459, Gm49164, Sdhaf4, Gm11542, Adgrl2, Gm1604a, Usf3, Ccn2, Gm42196, Gm15587, Gm4890, Phf24, Gm43598, Gm42851, P3h1, Gm30382, Gm27188, Gm26673, Mrvi1, Vxn, Gsdme, Gm33677, Cip2a, Gm20387, 4930547E14Rik, Znrd2, C530008M17Rik, Gm2164, Gm14033, Gm39043, Plpp3, Cramp1l, Gm12689, Gm26621, Gm38560, 4930488L21Rik, Fam71d, 5330417C22Rik, 4933406B17Rik, Gm19325, 9530018F02Rik, Gm47814, Gm37876, Crybg2, 9630013A20Rik, Gm4577, Gm2824, Gm14004, Gm17473, Gm26691, Wdr49, Tmem121b, Gm12371, Cfap157, Gm13403, 4931419H13Rik, Gm10287, Gm16023, Gm42517, Gm20635, Gm20685, Gm44079, AC150683.1, Gm45470, Gm27207, Gm47772, Rpl10-ps3, Colca2, Gm36120, Gm36908, Ccnq, Gm11762, AI463229, Gm31683, Gm8281, Gm34934, Gm534, Gm9748, Gm4675, 6430553K19Rik, Gm36001, Gm34455, AA388235, Gm50061, Gm50321, Plpp6, Rtl8c, Plppr3, Gm16083, Pwwp3a, Gm10801, Lncpint, Armh4, mt-Nd4l, Gm42705, Gm15411, Gm10010, 4933429O19Rik, Gm34237, Gm43154, March11, Gm15631, Gm15706, Gm11149, Gm14168, Ccdc189, Bbof1, Fam49a, B230209E15Rik, Gm12239, mt-Co2, Gm45460, Tedc1, Gm36839, Gm2897, Pakap, Pde2a, Zfhx2os, Adgrf5, Trp53rka, Gm17690, Gm20559, Minar1, Gm43647, Cybc1, Rasgef1b, Ccdc187, Cavin1, Gm45341, Gm29478, Mir9-3hg, Plppr1, Sept1, Spag6l, Gm48508, Rps19, Gm28784, Marc1, Gcn1, Gm14110, Gm14406, Gm40055, Gm13212, Gm17733, Lockd, Arpin, Gm31045, Gm16348, Gm34885, Gm47328, Calhm5, Gm34776, Gm30122, Gm12059, Gm12212, Gm3693, Vmn1r204, Gm48350, BC067074, Gm3488, Gm27153, Gm17597, Gm20621, Gm41396, 4933432I09Rik, Gm49970, Gm32081, Cc2d2b, Cfap299, Gm13322, Gm40123, Gm13054, Cfap73, 6330420H09Rik, Gm27253, Gm36745, Gm48065, Gm17249, Hist1h1e, 4930578N18Rik, Gm14493, Rps14, Ccdc151, Gm35161, Sox2ot, Rex1bd, Gm10602, Sox1ot, Rps25, Gm12353, Gm9899, Gm44618, Gm34567, Gm32061, Gm11491, 4833427G06Rik, 9330199G10Rik, 2700054A10Rik, 2610301B20Rik, Tceal9, Gm6277, Gm49067, Rpl30, Gm16168, Slf2, mt-Atp6, Rpl37, Gm16973, Gm29676, Disp3, Zfp729b, Gm20268, Gm10138, Gm37885, Gm37986, Brd3os, Gm20515, Gm42303, Gm5860, Ttc39aos1, Fzd10os, C530044C16Rik, Gm15624, Gm45620, Gm20501, Gm48293, Eef1akmt3, Gm11696, G630093K05Rik, Gm33045, Gm20712, A230051N06Rik, C030004G16Rik, D330050I16Rik, Gm32341, 6330411D24Rik, Large1, Zup1, Gm10635, Gm12536, 4930474H20Rik, 3110039M20Rik, Gm6145, Arhgap45, Gm13052, Gm5089, Gm5464, Gm15328, Gm29674, Gm10800, Ccdc180, Gm5149, Gm35438.1, Gm31243, Gm13986, Gm19744, Cbarp, Gm39465, Olfr1564, Plppr5, Gm5577, Rpl18a, Rps8, 4930420G21Rik\"\n"
     ]
    },
    {
     "name": "stdout",
     "output_type": "stream",
     "text": [
      "[1] \"SUCCESSFUL: Subseting reference data\"\n"
     ]
    }
   ],
   "source": [
    "# Subset reference data\n",
    "tryCatch(\n",
    "    {\n",
    "        log_print(\"# Subseting reference data\")\n",
    "        \n",
    "        gene.common <- intersect(rownames(obj.ref), rownames(obj.query))\n",
    "        obj.ref <- subset(obj.ref, features = gene.common)\n",
    "        obj.query <- subset(obj.query, features = gene.common)\n",
    "        \n",
    "        log_print(\"SUCCESSFUL: Subseting reference data\")\n",
    "    },\n",
    "     error = function(cond) {\n",
    "        log_print(\"ERROR: Subseting reference data\")\n",
    "        log_print(cond)\n",
    "    }\n",
    "    \n",
    ")"
   ]
  },
  {
   "cell_type": "code",
   "execution_count": 11,
   "metadata": {
    "vscode": {
     "languageId": "r"
    }
   },
   "outputs": [
    {
     "name": "stdout",
     "output_type": "stream",
     "text": [
      "[1] \"# Predicting labels for query data\"\n",
      "[1] \"SUCCESSFUL: Predicting labels for query data\"\n"
     ]
    }
   ],
   "source": [
    "# Predict labels for query dataset\n",
    "tryCatch(\n",
    "    {\n",
    "        log_print(\"# Predicting labels for query data\")\n",
    "        \n",
    "        obj.ref <- obj.ref %>%\n",
    "            NormalizeData(verbose = FALSE) %>%\n",
    "            FindVariableFeatures(selection.method = variable_features_method, \n",
    "                                 nfeatures = variable_features_num)\n",
    "        \n",
    "        obj.query <- obj.query %>%\n",
    "            NormalizeData(verbose = FALSE) %>%\n",
    "            FindVariableFeatures(selection.method = variable_features_method,\n",
    "                                 nfeatures = variable_features_num)\n",
    "        \n",
    "        transfer.anchors <- FindTransferAnchors(\n",
    "            reference = obj.ref,\n",
    "            query = obj.query,\n",
    "            reduction = \"cca\",\n",
    "            verbose = FALSE\n",
    "        )\n",
    "        \n",
    "        predictions <- TransferData(anchorset = transfer.anchors, \n",
    "                                    refdata = obj.ref$cell_type,\n",
    "                                    weight.reduction = obj.query[[weight.reduction]],\n",
    "                                    dims = 1:n_dims,\n",
    "                                   verbose = FALSE)\n",
    "        \n",
    "        obj.query <- AddMetaData(obj.query, metadata = predictions)\n",
    "        \n",
    "        log_print(\"SUCCESSFUL: Predicting labels for query data\")\n",
    "    },\n",
    "     error = function(cond) {\n",
    "        log_print(\"ERROR: Predicting labels for query data\")\n",
    "        log_print(cond)\n",
    "    }\n",
    "    \n",
    ")"
   ]
  },
  {
   "cell_type": "code",
   "execution_count": 12,
   "metadata": {
    "vscode": {
     "languageId": "r"
    }
   },
   "outputs": [
    {
     "name": "stdout",
     "output_type": "stream",
     "text": [
      "[1] \"# Plotting predicted labels\"\n",
      "[1] \"SUCCESSFUL: Plotting predicted labels\"\n"
     ]
    }
   ],
   "source": [
    "## Plotting\n",
    "tryCatch(\n",
    "    {\n",
    "        log_print(\"# Plotting predicted labels\")\n",
    "        \n",
    "        p1 <- DimPlot(obj.query, group.by = \"seurat_clusters\", label = TRUE, \n",
    "              label.size = 5, \n",
    "              repel = TRUE)\n",
    "\n",
    "        p2 <- DimPlot(obj.query, group.by = \"predicted.id\", label = TRUE, \n",
    "                      label.size = 5, \n",
    "                      repel = TRUE)\n",
    "        \n",
    "        p <- p1 + p2\n",
    "        \n",
    "        printPNG(name = \"predicted.labels\", plotObject = p, papermill = papermill, wf = 15, hf = 6)\n",
    "        \n",
    "        log_print(\"SUCCESSFUL: Plotting predicted labels\")\n",
    "        \n",
    "\n",
    "    },\n",
    "    error = function(cond) {\n",
    "        log_print(\"ERROR: Plotting predicted labels\")\n",
    "        log_print(cond)\n",
    "    }\n",
    "\n",
    ")"
   ]
  },
  {
   "cell_type": "code",
   "execution_count": 13,
   "metadata": {
    "vscode": {
     "languageId": "r"
    }
   },
   "outputs": [],
   "source": [
    "# options(repr.plot.height = 6 ,repr.plot.width = 12)\n",
    "\n",
    "# df <- obj.query@meta.data %>%\n",
    "#   make_long(seurat_clusters, predicted.id)\n",
    "\n",
    "# ggplot(df, aes(x = x, \n",
    "#                next_x = next_x, \n",
    "#                node = node, \n",
    "#                next_node = next_node,\n",
    "#                fill = factor(node),\n",
    "#               label = node)) +\n",
    "#       geom_sankey() +\n",
    "#     geom_sankey_label(size = 6, color = \"white\", fill = \"gray40\") +\n",
    "#       theme_sankey(base_size = 12) +\n",
    "#         xlab(\"\") +\n",
    "#     theme(legend.position = \"none\",\n",
    "#         plot.title = element_text(hjust = .5))"
   ]
  },
  {
   "cell_type": "code",
   "execution_count": 14,
   "metadata": {
    "vscode": {
     "languageId": "r"
    }
   },
   "outputs": [
    {
     "name": "stdout",
     "output_type": "stream",
     "text": [
      "[1] \"# Plotting cell-type-specific score\"\n"
     ]
    },
    {
     "name": "stderr",
     "output_type": "stream",
     "text": [
      "Warning message:\n",
      "\"\u001b[1m\u001b[22mRemoved 65 rows containing non-finite values (`stat_ydensity()`).\"\n",
      "Warning message:\n",
      "\"\u001b[1m\u001b[22mRemoved 13 rows containing non-finite values (`stat_ydensity()`).\"\n",
      "Warning message:\n",
      "\"\u001b[1m\u001b[22mRemoved 4 rows containing non-finite values (`stat_ydensity()`).\"\n",
      "Warning message:\n",
      "\"\u001b[1m\u001b[22mRemoved 143 rows containing non-finite values (`stat_ydensity()`).\"\n",
      "Warning message:\n",
      "\"\u001b[1m\u001b[22mRemoved 26 rows containing non-finite values (`stat_ydensity()`).\"\n",
      "Warning message:\n",
      "\"\u001b[1m\u001b[22mRemoved 14 rows containing non-finite values (`stat_ydensity()`).\"\n",
      "Warning message:\n",
      "\"\u001b[1m\u001b[22mRemoved 10 rows containing non-finite values (`stat_ydensity()`).\"\n",
      "Warning message in SingleExIPlot(type = type, data = data[, x, drop = FALSE], idents = idents, :\n",
      "\"All cells have the same value of prediction.score.T.cell.\"\n"
     ]
    },
    {
     "name": "stdout",
     "output_type": "stream",
     "text": [
      "[1] \"ERROR: Plotting cell-type-specific score\"\n",
      "<simpleError in grid.newpage(): could not open file 'prefix.rna.cell.annotation.plots.mm10/prefix.rna.cell.annotation.prediction.score.pericyte.mm10.png'>\n"
     ]
    }
   ],
   "source": [
    "# ## Plotting\n",
    "# options(repr.plot.height = 4, repr.plot.width = 6)\n",
    "\n",
    "# tryCatch(\n",
    "#     {\n",
    "#         log_print(\"# Plotting cell-type-specific score\")\n",
    "        \n",
    "#         features = colnames(predictions)[3:ncol(predictions) - 1]\n",
    "        \n",
    "#         for(feature in features){\n",
    "#             p <- VlnPlot(obj.query, features = feature, pt.size=0, group.by = \"seurat_clusters\", y.max = 1.0)\n",
    "            \n",
    "#             printPNG(name = feature, plotObject = p, papermill = papermill, wf = 6, hf = 4)\n",
    "#         }\n",
    "        \n",
    "#         log_print(\"SUCCESSFUL: Plotting cell-type-specific score\")\n",
    "#     },\n",
    "#     error = function(cond) {\n",
    "#         log_print(\"ERROR: Plotting cell-type-specific score\")\n",
    "#         log_print(cond)\n",
    "#     }\n",
    "\n",
    "# )"
   ]
  }
 ],
 "metadata": {
  "celltoolbar": "Tags",
  "kernelspec": {
   "display_name": "R [conda env:zl_share_seq]",
   "language": "R",
   "name": "conda-env-zl_share_seq-r"
  },
  "language_info": {
   "codemirror_mode": "r",
   "file_extension": ".r",
   "mimetype": "text/x-r-source",
   "name": "R",
   "pygments_lexer": "r",
   "version": "4.2.3"
  },
  "toc": {
   "base_numbering": 1,
   "nav_menu": {},
   "number_sections": true,
   "sideBar": true,
   "skip_h1_title": false,
   "title_cell": "Table of Contents",
   "title_sidebar": "Contents",
   "toc_cell": false,
   "toc_position": {},
   "toc_section_display": true,
   "toc_window_display": false
  }
 },
 "nbformat": 4,
 "nbformat_minor": 4
}
