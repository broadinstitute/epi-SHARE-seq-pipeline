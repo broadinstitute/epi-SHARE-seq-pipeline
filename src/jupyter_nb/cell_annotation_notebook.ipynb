{
 "cells": [
  {
   "cell_type": "markdown",
   "metadata": {},
   "source": [
    "# Install Libraries\n",
    "Install information can be found [here](https://satijalab.org/seurat/articles/install.html)\\\n",
    "Vignette [here](https://satijalab.org/seurat/articles/pbmc3k_tutorial.html)"
   ]
  },
  {
   "cell_type": "code",
   "execution_count": null,
   "metadata": {
    "tags": [
     "parameters"
    ],
    "vscode": {
     "languageId": "r"
    }
   },
   "outputs": [],
   "source": [
    "#Seurat parameters\n",
    "reference_data = \"path-to-seurat-object\" # Seurat object for reference data\n",
    "query_data = \"path-to-seurat-object\" # Seurat object for query data\n",
    "\n",
    "genome = \"genome-name\" # either hg38 or mm10\n",
    "\n",
    "normalization_method = \"LogNormalize\"\n",
    "normalization_scale_factor = 10000\n",
    "\n",
    "variable_features_method = \"vst\"\n",
    "variable_features_num = 2000\n",
    "\n",
    "weight_reduction = \"pca\" # Dimensional reduction to use for the weighting anchors.\n",
    "n_dims = 30 # Set of dimensions to use in the anchor weighting procedure. If NULL, the same dimensions that were used to find anchors will be used for weighting.\n",
    "\n",
    "prefix = \"prefix\" #project name\n",
    "\n",
    "#Papermill specific parameters\n",
    "papermill = TRUE\n",
    "\n",
    "#jupyter notebook plot sizes\n",
    "options(repr.plot.width=20, repr.plot.height=15)"
   ]
  },
  {
   "cell_type": "code",
   "execution_count": null,
   "metadata": {
    "vscode": {
     "languageId": "r"
    }
   },
   "outputs": [],
   "source": [
    "papermill <- as.logical(papermill)"
   ]
  },
  {
   "cell_type": "code",
   "execution_count": null,
   "metadata": {
    "vscode": {
     "languageId": "r"
    }
   },
   "outputs": [],
   "source": [
    "if (!requireNamespace(\"Seurat\", quietly = TRUE))\n",
    "    install.packages(\"Seurat\")\n",
    "if (!requireNamespace(\"future\", quietly = TRUE))\n",
    "    install.packages(\"future\")\n",
    "if (!requireNamespace(\"logr\", quietly = TRUE))\n",
    "    install.packages(\"logr\")\n",
    "if (!requireNamespace(\"grid\", quietly = TRUE))\n",
    "    install.packages(\"grid\")\n",
    "if (!requireNamespace(\"dplyr\", quietly = TRUE))\n",
    "    install.packages(\"dplyr\")\n",
    "if (!requireNamespace(\"gridExtra\", quietly = TRUE))\n",
    "    install.packages(\"gridExtra\")\n",
    "if (!requireNamespace(\"ggplot2\", quietly = TRUE))\n",
    "    install.packages(\"ggplot2\")\n",
    "if (!require(\"BiocManager\", quietly = TRUE))\n",
    "    install.packages(\"BiocManager\")\n",
    "if (!requireNamespace(\"EnsDb.Mmusculus.v79\", quietly = TRUE))\n",
    "    BiocManager::install(\"EnsDb.Mmusculus.v79\")\n",
    "if (!requireNamespace(\"EnsDb.Hsapiens.v86\", quietly = TRUE))\n",
    "    BiocManager::install(\"EnsDb.Hsapiens.v86\")\n",
    "\n",
    "suppressMessages(library(Seurat))\n",
    "suppressMessages(library(future))\n",
    "suppressMessages(library(logr))\n",
    "suppressMessages(library(dplyr))\n",
    "suppressMessages(library(grid))\n",
    "suppressMessages(library(gridExtra))\n",
    "suppressMessages(library(ggplot2))\n",
    "suppressMessages(library(patchwork))\n",
    "suppressMessages(library(ggsankey))\n",
    "suppressMessages(library(cowplot))\n",
    "suppressMessages(library(EnsDb.Mmusculus.v79))\n",
    "suppressMessages(library(EnsDb.Hsapiens.v86))\n",
    "\n",
    "future.seed=TRUE\n",
    "plan(\"multisession\", workers = threads)\n",
    "options(\"logr.notes\" = FALSE)\n",
    "options(future.globals.maxSize=10e9)\n",
    "set.seed(1234)"
   ]
  },
  {
   "cell_type": "code",
   "execution_count": null,
   "metadata": {
    "vscode": {
     "languageId": "r"
    }
   },
   "outputs": [],
   "source": [
    "# Function to convert gene ID to symbol\n",
    "create_seurat_obj_with_gene_symbol <- function(obj, genome){\n",
    "\n",
    "    # get gene symbol\n",
    "    if(genome == \"hg38\"){\n",
    "        gene.id <- ensembldb::select(EnsDb.Hsapiens.v86, \n",
    "                                      keys= rownames(obj), \n",
    "                                      keytype = \"GENEID\", \n",
    "                                      columns = c(\"SYMBOL\",\"GENEID\"))\n",
    "    \n",
    "    } else if(genome == \"mm10\"){\n",
    "        gene.id <- ensembldb::select(EnsDb.Mmusculus.v79, \n",
    "                                  keys= rownames(obj), \n",
    "                                  keytype = \"GENEID\", \n",
    "                                  columns = c(\"SYMBOL\",\"GENEID\"))\n",
    "    }\n",
    "    # remove genes with empty symbol\n",
    "    gene.id <- subset(gene.id, gene.id$SYMBOL != \"\")\n",
    "\n",
    "    # make gene symbol unique\n",
    "    gene.id$Unique_SYMBOL <- make.unique(gene.id$SYMBOL, \"\")\n",
    "    \n",
    "    counts <- obj@assays$RNA@counts\n",
    "    counts <- counts[gene.id$GENEID, ]\n",
    "    rownames(counts) <- gene.id$Unique_SYMBOL\n",
    "\n",
    "    obj <- CreateSeuratObject(counts = counts, meta.data = obj@meta.data)\n",
    "    \n",
    "    return(obj)\n",
    "}"
   ]
  },
  {
   "cell_type": "code",
   "execution_count": null,
   "metadata": {
    "vscode": {
     "languageId": "r"
    }
   },
   "outputs": [],
   "source": [
    "#Function to save plots\n",
    "plot_filename = paste0(prefix,\".rna.seurat.annotation.plots.\",genome)\n",
    "dir.create(plot_filename, showWarnings=F)\n",
    "printPNG <- function(name, plotObject, papermill, wf=22, hf=11){\n",
    "    filename = paste0(plot_filename,\"/\",prefix,\".rna.seurat.annotation.\",name,\".\",genome,\".png\")\n",
    "    if(papermill){\n",
    "        ggsave(plot = plotObject, filename = filename, width = wf, height = hf)\n",
    "    }\n",
    "}\n",
    "\n",
    "#Create log file\n",
    "logfile <- file.path(paste0(prefix,\".rna.seurat.annotation.logfile.\", genome, \".txt\"))\n",
    "lf <- log_open(logfile)"
   ]
  },
  {
   "cell_type": "code",
   "execution_count": null,
   "metadata": {
    "vscode": {
     "languageId": "r"
    }
   },
   "outputs": [],
   "source": [
    "# Read reference data\n",
    "tryCatch(\n",
    "    {\n",
    "        log_print(\"# Reading reference data...\")\n",
    "        obj.ref <- readRDS(reference_data)\n",
    "        log_print(\"SUCCESSFUL: Reading reference data\")\n",
    "    \n",
    "    },\n",
    "    error = function(cond) {\n",
    "        log_print(\"ERROR: Reading reference data\")\n",
    "        log_print(cond)\n",
    "    }\n",
    ")"
   ]
  },
  {
   "cell_type": "code",
   "execution_count": null,
   "metadata": {
    "vscode": {
     "languageId": "r"
    }
   },
   "outputs": [],
   "source": [
    "# Read query data\n",
    "tryCatch(\n",
    "    {\n",
    "        log_print(\"# Reading query data...\")\n",
    "        obj.query <- readRDS(query_data)\n",
    "        log_print(\"SUCCESSFUL: Reading query data\")\n",
    "    \n",
    "    },\n",
    "    error = function(cond) {\n",
    "        log_print(\"ERROR: Reading query data\")\n",
    "        log_print(cond)\n",
    "    }\n",
    ")"
   ]
  },
  {
   "cell_type": "code",
   "execution_count": null,
   "metadata": {
    "vscode": {
     "languageId": "r"
    }
   },
   "outputs": [],
   "source": [
    "# Convert gene ID to symbol for reference data\n",
    "tryCatch(\n",
    "    {\n",
    "        log_print(\"# Converting gene id to symbol for reference data\")\n",
    "        obj.ref <- create_seurat_obj_with_gene_symbol(obj = obj.ref, \n",
    "                                                      genome = genome)\n",
    "        log_print(\"SUCCESSFUL: Converting gene id to symbol for reference data\")\n",
    "\n",
    "    },\n",
    "    error = function(cond) {\n",
    "        log_print(\"ERROR: Converting gene id to symbol for reference data\")\n",
    "        log_print(cond)\n",
    "    }\n",
    ")"
   ]
  },
  {
   "cell_type": "code",
   "execution_count": null,
   "metadata": {
    "vscode": {
     "languageId": "r"
    }
   },
   "outputs": [],
   "source": [
    "# Subset reference data\n",
    "tryCatch(\n",
    "    {\n",
    "        log_print(\"# Subseting reference data\")\n",
    "        \n",
    "        gene.common <- intersect(rownames(obj.ref), rownames(obj.query))\n",
    "        obj.ref <- subset(obj.ref, features = gene.common)\n",
    "        obj.query <- subset(obj.query, features = gene.common)\n",
    "        \n",
    "        log_print(\"SUCCESSFUL: Subseting reference data\")\n",
    "    },\n",
    "     error = function(cond) {\n",
    "        log_print(\"ERROR: Subseting reference data\")\n",
    "        log_print(cond)\n",
    "    }\n",
    "    \n",
    ")"
   ]
  },
  {
   "cell_type": "code",
   "execution_count": null,
   "metadata": {
    "vscode": {
     "languageId": "r"
    }
   },
   "outputs": [],
   "source": [
    "# Predict labels for query dataset\n",
    "tryCatch(\n",
    "    {\n",
    "        log_print(\"# Predicting labels for query data\")\n",
    "        \n",
    "        obj.ref <- obj.ref %>%\n",
    "            NormalizeData(verbose = FALSE) %>%\n",
    "            FindVariableFeatures(selection.method = variable_features_method, \n",
    "                                 nfeatures = variable_features_num)\n",
    "        \n",
    "        obj.query <- obj.query %>%\n",
    "            NormalizeData(verbose = FALSE) %>%\n",
    "            FindVariableFeatures(selection.method = variable_features_method,\n",
    "                                 nfeatures = variable_features_num)\n",
    "        \n",
    "        transfer.anchors <- FindTransferAnchors(\n",
    "            reference = obj.ref,\n",
    "            query = obj.query,\n",
    "            reduction = \"cca\",\n",
    "            verbose = FALSE\n",
    "        )\n",
    "        \n",
    "        predictions <- TransferData(anchorset = transfer.anchors, \n",
    "                                    refdata = obj.ref$cell_type,\n",
    "                                    weight.reduction = obj.query[[weight.reduction]],\n",
    "                                    dims = 1:n_dims,\n",
    "                                   verbose = FALSE)\n",
    "        \n",
    "        obj.query <- AddMetaData(obj.query, metadata = predictions)\n",
    "        \n",
    "        log_print(\"SUCCESSFUL: Predicting labels for query data\")\n",
    "    },\n",
    "     error = function(cond) {\n",
    "        log_print(\"ERROR: Predicting labels for query data\")\n",
    "        log_print(cond)\n",
    "    }\n",
    "    \n",
    ")"
   ]
  },
  {
   "cell_type": "code",
   "execution_count": null,
   "metadata": {
    "vscode": {
     "languageId": "r"
    }
   },
   "outputs": [],
   "source": [
    "## Plotting\n",
    "tryCatch(\n",
    "    {\n",
    "        log_print(\"# Plotting predicted labels\")\n",
    "        \n",
    "        p1 <- DimPlot(obj.query, group.by = \"seurat_clusters\", label = TRUE, \n",
    "              label.size = 5, \n",
    "              repel = TRUE)\n",
    "\n",
    "        p2 <- DimPlot(obj.query, group.by = \"predicted.id\", label = TRUE, \n",
    "                      label.size = 5, \n",
    "                      repel = TRUE)\n",
    "        \n",
    "        p <- p1 + p2\n",
    "        \n",
    "        printPNG(name = \"predicted.labels\", plotObject = p, papermill = papermill, wf = 15, hf = 6)\n",
    "        \n",
    "        log_print(\"SUCCESSFUL: Plotting predicted labels\")\n",
    "        \n",
    "\n",
    "    },\n",
    "    error = function(cond) {\n",
    "        log_print(\"ERROR: Plotting predicted labels\")\n",
    "        log_print(cond)\n",
    "    }\n",
    "\n",
    ")"
   ]
  },
  {
   "cell_type": "code",
   "execution_count": null,
   "metadata": {
    "vscode": {
     "languageId": "r"
    }
   },
   "outputs": [],
   "source": [
    "# options(repr.plot.height = 6 ,repr.plot.width = 12)\n",
    "\n",
    "# df <- obj.query@meta.data %>%\n",
    "#   make_long(seurat_clusters, predicted.id)\n",
    "\n",
    "# ggplot(df, aes(x = x, \n",
    "#                next_x = next_x, \n",
    "#                node = node, \n",
    "#                next_node = next_node,\n",
    "#                fill = factor(node),\n",
    "#               label = node)) +\n",
    "#       geom_sankey() +\n",
    "#     geom_sankey_label(size = 6, color = \"white\", fill = \"gray40\") +\n",
    "#       theme_sankey(base_size = 12) +\n",
    "#         xlab(\"\") +\n",
    "#     theme(legend.position = \"none\",\n",
    "#         plot.title = element_text(hjust = .5))"
   ]
  },
  {
   "cell_type": "code",
   "execution_count": null,
   "metadata": {
    "vscode": {
     "languageId": "r"
    }
   },
   "outputs": [],
   "source": [
    "## Plotting\n",
    "options(repr.plot.height = 4, repr.plot.width = 6)\n",
    "\n",
    "tryCatch(\n",
    "    {\n",
    "        log_print(\"# Plotting cell-type-specific score\")\n",
    "        \n",
    "        features = colnames(predictions)[3:ncol(predictions) - 1]\n",
    "        \n",
    "        for(feature in features){\n",
    "            p <- VlnPlot(obj.query, features = feature, pt.size=0, group.by = \"seurat_clusters\", y.max = 1.0) #+\n",
    "#                scale_y_continuous(limits = c(0, 1), breaks = c(0, 0.2, 0.4, 0.6, 0.8, 1.0))\n",
    "            \n",
    "            printPNG(name = feature, plotObject = p, papermill = papermill, wf = 6, hf = 4)\n",
    "        }\n",
    "        \n",
    "        log_print(\"SUCCESSFUL: Plotting cell-type-specific score\")\n",
    "    },\n",
    "    error = function(cond) {\n",
    "        log_print(\"ERROR: Plotting cell-type-specific score\")\n",
    "        log_print(cond)\n",
    "    }\n",
    "\n",
    ")"
   ]
  }
 ],
 "metadata": {
  "celltoolbar": "Tags",
  "kernelspec": {
   "display_name": "R",
   "language": "R",
   "name": "ir"
  },
  "language_info": {
   "codemirror_mode": "r",
   "file_extension": ".r",
   "mimetype": "text/x-r-source",
   "name": "R",
   "pygments_lexer": "r",
   "version": "4.1.2"
  },
  "toc": {
   "base_numbering": 1,
   "nav_menu": {},
   "number_sections": true,
   "sideBar": true,
   "skip_h1_title": false,
   "title_cell": "Table of Contents",
   "title_sidebar": "Contents",
   "toc_cell": false,
   "toc_position": {},
   "toc_section_display": true,
   "toc_window_display": false
  }
 },
 "nbformat": 4,
 "nbformat_minor": 2
}
