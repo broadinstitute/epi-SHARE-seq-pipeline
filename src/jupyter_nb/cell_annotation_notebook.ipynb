{
 "cells": [
  {
   "cell_type": "markdown",
   "metadata": {},
   "source": [
    "# Install Libraries\n",
    "Install information can be found [here](https://satijalab.org/seurat/articles/install.html)\\\n",
    "Vignette [here](https://satijalab.org/seurat/articles/integration_mapping.html)"
   ]
  },
  {
   "cell_type": "code",
   "execution_count": 1,
   "metadata": {
    "tags": [
     "parameters"
    ],
    "vscode": {
     "languageId": "r"
    }
   },
   "outputs": [],
   "source": [
    "#Seurat parameters\n",
    "reference_data = \"path-to-seurat-object\" # Seurat object for reference data\n",
    "query_data = \"path-to-seurat-object\" # Seurat object for query data\n",
    "\n",
    "genome = \"genome-name\" # either hg38 or mm10\n",
    "\n",
    "normalization_method = \"LogNormalize\"\n",
    "normalization_scale_factor = 10000\n",
    "\n",
    "variable_features_method = \"vst\"\n",
    "variable_features_num = 2000\n",
    "\n",
    "# Dimensional reduction to use for the weighting anchors.\n",
    "weight.reduction = \"pca\" \n",
    "n_dims = 30 # Set of dimensions to use in the anchor weighting procedure. If NULL, the same dimensions that were used to find anchors will be used for weighting.\n",
    "\n",
    "threads = 8\n",
    "prefix = \"prefix\" #project name\n",
    "\n",
    "#Papermill specific parameters\n",
    "papermill = TRUE"
   ]
  },
  {
   "cell_type": "code",
   "execution_count": 2,
   "metadata": {},
   "outputs": [],
   "source": [
    "# #########################\n",
    "# # For test\n",
    "# reference_data = \"../../../ReferenceData/BrainAgingSpatialAtlas_snRNAseq.rds\"\n",
    "# query_data = \"../../../QueryData/MouseBrain/SS-PKR-129-192-PLATE1-LEFT-HALF.rna.seurat.filtered_rds.mm10.rds\"\n",
    "# genome = \"mm10\""
   ]
  },
  {
   "cell_type": "code",
   "execution_count": 3,
   "metadata": {
    "vscode": {
     "languageId": "r"
    }
   },
   "outputs": [],
   "source": [
    "papermill <- as.logical(papermill)"
   ]
  },
  {
   "cell_type": "code",
   "execution_count": 4,
   "metadata": {
    "vscode": {
     "languageId": "r"
    }
   },
   "outputs": [],
   "source": [
    "suppressMessages(library(Seurat))\n",
    "suppressMessages(library(future))\n",
    "suppressMessages(library(logr))\n",
    "suppressMessages(library(dplyr))\n",
    "suppressMessages(library(grid))\n",
    "suppressMessages(library(gridExtra))\n",
    "suppressMessages(library(ggplot2))\n",
    "suppressMessages(library(patchwork))\n",
    "suppressMessages(library(cowplot))\n",
    "suppressMessages(library(EnsDb.Mmusculus.v79))\n",
    "suppressMessages(library(EnsDb.Hsapiens.v86))"
   ]
  },
  {
   "cell_type": "code",
   "execution_count": null,
   "metadata": {},
   "outputs": [],
   "source": [
    "future.seed=TRUE\n",
    "plan(\"multisession\", workers = threads)\n",
    "options(\"logr.notes\" = FALSE)\n",
    "options(future.globals.maxSize=10e9)\n",
    "set.seed(1234)"
   ]
  },
  {
   "cell_type": "code",
   "execution_count": 5,
   "metadata": {
    "vscode": {
     "languageId": "r"
    }
   },
   "outputs": [],
   "source": [
    "# Function to convert gene ID to symbol\n",
    "create_seurat_obj_with_gene_symbol <- function(object, genome){\n",
    "\n",
    "    # get gene symbol\n",
    "    if(genome == \"hg38\" | genome == \"hg37\"){\n",
    "        gene.id <- ensembldb::select(EnsDb.Hsapiens.v86, \n",
    "                                     keys= rownames(object), \n",
    "                                     keytype = \"GENEID\", \n",
    "                                     columns = c(\"SYMBOL\",\"GENEID\"))\n",
    "    \n",
    "    } else if(genome == \"mm10\" | genome == \"mm9\"){\n",
    "        gene.id <- ensembldb::select(EnsDb.Mmusculus.v79, \n",
    "                                     keys = rownames(object), \n",
    "                                     keytype = \"GENEID\", \n",
    "                                     columns = c(\"SYMBOL\",\"GENEID\"))\n",
    "    }\n",
    "    # remove genes with empty symbol\n",
    "    gene.id <- subset(gene.id, gene.id$SYMBOL != \"\")\n",
    "\n",
    "    # make gene symbol unique\n",
    "    gene.id$Unique_SYMBOL <- make.unique(gene.id$SYMBOL, \"\")\n",
    "    \n",
    "    counts <- object@assays$RNA@counts\n",
    "    counts <- counts[gene.id$GENEID, ]\n",
    "    rownames(counts) <- gene.id$Unique_SYMBOL\n",
    "\n",
    "    object <- CreateSeuratObject(counts = counts, meta.data = object@meta.data)\n",
    "    \n",
    "    return(object)\n",
    "}"
   ]
  },
  {
   "cell_type": "code",
   "execution_count": 6,
   "metadata": {
    "vscode": {
     "languageId": "r"
    }
   },
   "outputs": [],
   "source": [
    "#Function to save plots\n",
    "plot_filename = glue::glue(\"{prefix}.rna.cell.annotation.plots.{genome}\")\n",
    "dir.create(plot_filename, showWarnings=F)\n",
    "\n",
    "printPNG <- function(name, plot, papermill, width = 22, height = 11){\n",
    "    filename = glue::glue(\"{plot_filename}/{prefix}.rna.cell.annotation.{name}.{genome}.png\")\n",
    "    if(papermill){\n",
    "        ggsave(plot = plot, filename = filename, width = width, height = height)\n",
    "    }\n",
    "}\n",
    "\n",
    "#Create log file\n",
    "logfile <- file.path(glue::glue(\"{prefix}.rna.cell.annotation.logfile.{genome}.txt\"))\n",
    "lf <- log_open(logfile)"
   ]
  },
  {
   "cell_type": "code",
   "execution_count": 7,
   "metadata": {
    "vscode": {
     "languageId": "r"
    }
   },
   "outputs": [
    {
     "name": "stdout",
     "output_type": "stream",
     "text": [
      "[1] \"# Reading reference data...\"\n",
      "[1] \"SUCCESSFUL: Reading reference data\"\n"
     ]
    }
   ],
   "source": [
    "# Read reference data\n",
    "tryCatch(\n",
    "    {\n",
    "        log_print(\"# Reading reference data...\")\n",
    "        obj.ref <- readRDS(reference_data)\n",
    "        log_print(\"SUCCESSFUL: Reading reference data\")\n",
    "    \n",
    "    },\n",
    "    error = function(cond) {\n",
    "        log_print(\"ERROR: Reading reference data\")\n",
    "        log_print(cond)\n",
    "    }\n",
    ")"
   ]
  },
  {
   "cell_type": "code",
   "execution_count": 8,
   "metadata": {
    "vscode": {
     "languageId": "r"
    }
   },
   "outputs": [
    {
     "name": "stdout",
     "output_type": "stream",
     "text": [
      "[1] \"# Reading query data...\"\n",
      "[1] \"SUCCESSFUL: Reading query data\"\n"
     ]
    }
   ],
   "source": [
    "# Read query data\n",
    "tryCatch(\n",
    "    {\n",
    "        log_print(\"# Reading query data...\")\n",
    "        obj.query <- readRDS(query_data)\n",
    "        log_print(\"SUCCESSFUL: Reading query data\")\n",
    "    \n",
    "    },\n",
    "    error = function(cond) {\n",
    "        log_print(\"ERROR: Reading query data\")\n",
    "        log_print(cond)\n",
    "    }\n",
    ")"
   ]
  },
  {
   "cell_type": "code",
   "execution_count": 9,
   "metadata": {
    "vscode": {
     "languageId": "r"
    }
   },
   "outputs": [
    {
     "name": "stdout",
     "output_type": "stream",
     "text": [
      "[1] \"# Converting gene id to symbol for reference data\"\n",
      "[1] \"SUCCESSFUL: Converting gene id to symbol for reference data\"\n"
     ]
    }
   ],
   "source": [
    "# Convert gene ID to symbol for reference data\n",
    "tryCatch(\n",
    "    {\n",
    "        log_print(\"# Converting gene id to symbol for reference data\")\n",
    "        obj.ref <- create_seurat_obj_with_gene_symbol(object = obj.ref, \n",
    "                                                      genome = genome)\n",
    "        log_print(\"SUCCESSFUL: Converting gene id to symbol for reference data\")\n",
    "\n",
    "    },\n",
    "    error = function(cond) {\n",
    "        log_print(\"ERROR: Converting gene id to symbol for reference data\")\n",
    "        log_print(cond)\n",
    "    }\n",
    ")"
   ]
  },
  {
   "cell_type": "code",
   "execution_count": 10,
   "metadata": {
    "vscode": {
     "languageId": "r"
    }
   },
   "outputs": [
    {
     "name": "stdout",
     "output_type": "stream",
     "text": [
      "[1] \"# Subseting reference and query data with common genes\"\n"
     ]
    },
    {
     "name": "stderr",
     "output_type": "stream",
     "text": [
      "Warning message:\n",
      "\"Not all features provided are in this Assay object, removing the following feature(s): Tafa1, Gm32338, BC005561, Nrg1, Gm32647, Gm42418, Gm10754, Tafa2, Gm10419, Gm26871, mt-Co1, 2010300C02Rik, Gmnc, 2700081O15Rik, 4921539H07Rik, Gm33228, Gm20754, Adgrl4, Rflnb, Lhfpl3, March1, Tmem94, Gm10649, mt-Nd1, Gm5127, Epb41l4a, Drd1, Gm28905, Mrm2, Pakap.1, Gm5820, Rmst, C78859, Gm14051, Gm10516, C230072F16Rik, Gm30371, C130073E24Rik, Gm39185, Gm44593, Twnk, Rtl4, Gm867, Gm38413, Gm12367, Gm49969, Gm45356, Gm6260, BC051408, Gm20457, Gm31645, Gm13561, Ints11, Gm14412, Gm11906, Rps6ka2, Dele1, Gm49678, Tmem131l, Gm20125, Gm45459, Gm49164, Sdhaf4, Gm11542, Adgrl2, Gm1604a, Usf3, Ccn2, Gm42196, Gm15587, Gm4890, Phf24, Gm43598, Gm42851, P3h1, Gm30382, Gm27188, Gm26673, Mrvi1, Vxn, Gsdme, Gm33677, Cip2a, Gm20387, 4930547E14Rik, Znrd2, C530008M17Rik, Gm2164, Gm14033, Gm39043, Plpp3, Cramp1l, Gm12689, Gm26621, Gm38560, 4930488L21Rik, Fam71d, 5330417C22Rik, 4933406B17Rik, Gm19325, 9530018F02Rik, Gm47814, Gm37876, Crybg2, 9630013A20Rik, Gm4577, Gm2824, Gm14004, Gm17473, Gm26691, Wdr49, Tmem121b, Gm12371, Cfap157, Gm13403, 4931419H13Rik, Gm10287, Gm16023, Gm42517, Gm20635, Gm20685, Gm44079, AC150683.1, Gm45470, Gm27207, Gm47772, Rpl10-ps3, Colca2, Gm36120, Gm36908, Ccnq, Gm11762, AI463229, Gm31683, Gm8281, Gm34934, Gm534, Gm9748, Gm4675, 6430553K19Rik, Gm36001, Gm34455, AA388235, Gm50061, Gm50321, Plpp6, Rtl8c, Plppr3, Gm16083, Pwwp3a, Gm10801, Lncpint, Armh4, mt-Nd4l, Gm42705, Gm15411, Gm10010, 4933429O19Rik, Gm34237, Gm43154, March11, Gm15631, Gm15706, Gm11149, Gm14168, Ccdc189, Bbof1, Fam49a, B230209E15Rik, Gm12239, mt-Co2, Gm45460, Tedc1, Gm36839, Gm2897, Pakap, Pde2a, Zfhx2os, Adgrf5, Trp53rka, Gm17690, Gm20559, Minar1, Gm43647, Cybc1, Rasgef1b, Ccdc187, Cavin1, Gm45341, Gm29478, Mir9-3hg, Plppr1, Sept1, Spag6l, Gm48508, Rps19, Gm28784, Marc1, Gcn1, Gm14110, Gm14406, Gm40055, Gm13212, Gm17733, Lockd, Arpin, Gm31045, Gm16348, Gm34885, Gm47328, Calhm5, Gm34776, Gm30122, Gm12059, Gm12212, Gm3693, Vmn1r204, Gm48350, BC067074, Gm3488, Gm27153, Gm17597, Gm20621, Gm41396, 4933432I09Rik, Gm49970, Gm32081, Cc2d2b, Cfap299, Gm13322, Gm40123, Gm13054, Cfap73, 6330420H09Rik, Gm27253, Gm36745, Gm48065, Gm17249, Hist1h1e, 4930578N18Rik, Gm14493, Rps14, Ccdc151, Gm35161, Sox2ot, Rex1bd, Gm10602, Sox1ot, Rps25, Gm12353, Gm9899, Gm44618, Gm34567, Gm32061, Gm11491, 4833427G06Rik, 9330199G10Rik, 2700054A10Rik, 2610301B20Rik, Tceal9, Gm6277, Gm49067, Rpl30, Gm16168, Slf2, mt-Atp6, Rpl37, Gm16973, Gm29676, Disp3, Zfp729b, Gm20268, Gm10138, Gm37885, Gm37986, Brd3os, Gm20515, Gm42303, Gm5860, Ttc39aos1, Fzd10os, C530044C16Rik, Gm15624, Gm45620, Gm20501, Gm48293, Eef1akmt3, Gm11696, G630093K05Rik, Gm33045, Gm20712, A230051N06Rik, C030004G16Rik, D330050I16Rik, Gm32341, 6330411D24Rik, Large1, Zup1, Gm10635, Gm12536, 4930474H20Rik, 3110039M20Rik, Gm6145, Arhgap45, Gm13052, Gm5089, Gm5464, Gm15328, Gm29674, Gm10800, Ccdc180, Gm5149, Gm35438.1, Gm31243, Gm13986, Gm19744, Cbarp, Gm39465, Olfr1564, Plppr5, Gm5577, Rpl18a, Rps8, 4930420G21Rik\"\n"
     ]
    },
    {
     "name": "stdout",
     "output_type": "stream",
     "text": [
      "# Found 15561 common genes between reference and query data\n",
      "[1] \"SUCCESSFUL: Subseting reference data\"\n"
     ]
    }
   ],
   "source": [
    "# Subset reference data\n",
    "tryCatch(\n",
    "    {\n",
    "        log_print(\"# Subseting reference and query data with common genes\")\n",
    "        \n",
    "        gene.common <- intersect(rownames(obj.ref), rownames(obj.query))\n",
    "        obj.ref <- subset(obj.ref, features = gene.common)\n",
    "        obj.query <- subset(obj.query, features = gene.common)\n",
    "        \n",
    "        log_print(glue::glue(\"# Found {length(gene.common)} common genes between reference and query data\"))\n",
    "        log_print(\"SUCCESSFUL: Subseting reference data\")\n",
    "    },\n",
    "     error = function(cond) {\n",
    "        log_print(\"ERROR: Subseting reference data\")\n",
    "        log_print(cond)\n",
    "    }\n",
    "    \n",
    ")"
   ]
  },
  {
   "cell_type": "code",
   "execution_count": 11,
   "metadata": {
    "vscode": {
     "languageId": "r"
    }
   },
   "outputs": [
    {
     "name": "stdout",
     "output_type": "stream",
     "text": [
      "[1] \"# Predicting labels for query data\"\n"
     ]
    },
    {
     "name": "stderr",
     "output_type": "stream",
     "text": [
      "Running CCA\n",
      "\n",
      "Merging objects\n",
      "\n",
      "Finding neighborhoods\n",
      "\n",
      "Finding anchors\n",
      "\n",
      "\tFound 7752 anchors\n",
      "\n",
      "Filtering anchors\n",
      "\n",
      "\tRetained 3178 anchors\n",
      "\n",
      "Finding integration vectors\n",
      "\n",
      "Finding integration vector weights\n",
      "\n",
      "Predicting cell labels\n",
      "\n"
     ]
    },
    {
     "name": "stdout",
     "output_type": "stream",
     "text": [
      "[1] \"SUCCESSFUL: Predicting labels for query data\"\n"
     ]
    }
   ],
   "source": [
    "# Predict labels for query dataset\n",
    "tryCatch(\n",
    "    {\n",
    "        log_print(\"# Predicting labels for query data\")\n",
    "        \n",
    "        obj.ref <- obj.ref %>%\n",
    "            NormalizeData(verbose = FALSE) %>%\n",
    "            FindVariableFeatures(selection.method = variable_features_method, \n",
    "                                 nfeatures = variable_features_num)\n",
    "        \n",
    "        obj.query <- obj.query %>%\n",
    "            NormalizeData(verbose = FALSE) %>%\n",
    "            FindVariableFeatures(selection.method = variable_features_method,\n",
    "                                 nfeatures = variable_features_num)\n",
    "        \n",
    "        transfer.anchors <- FindTransferAnchors(\n",
    "            reference = obj.ref,\n",
    "            query = obj.query,\n",
    "            reduction = \"cca\",\n",
    "            verbose = TRUE\n",
    "        )\n",
    "        \n",
    "        predictions <- TransferData(anchorset = transfer.anchors, \n",
    "                                    refdata = obj.ref$cell_type,\n",
    "                                    weight.reduction = obj.query[[weight.reduction]],\n",
    "                                    dims = 1:n_dims,\n",
    "                                   verbose = TRUE)\n",
    "        \n",
    "        obj.query <- AddMetaData(obj.query, metadata = predictions)\n",
    "        \n",
    "        log_print(\"SUCCESSFUL: Predicting labels for query data\")\n",
    "    },\n",
    "     error = function(cond) {\n",
    "        log_print(\"ERROR: Predicting labels for query data\")\n",
    "        log_print(cond)\n",
    "    }\n",
    "    \n",
    ")"
   ]
  },
  {
   "cell_type": "code",
   "execution_count": 43,
   "metadata": {},
   "outputs": [
    {
     "data": {
      "text/html": [
       "<table class=\"dataframe\">\n",
       "<caption>A data.frame: 6 × 15</caption>\n",
       "<thead>\n",
       "\t<tr><th></th><th scope=col>predicted.id</th><th scope=col>prediction.score.neuron</th><th scope=col>prediction.score.medium.spiny.neuron</th><th scope=col>prediction.score.inhibitory.interneuron</th><th scope=col>prediction.score.oligodendrocyte</th><th scope=col>prediction.score.astrocyte</th><th scope=col>prediction.score.microglial.cell</th><th scope=col>prediction.score.oligodendrocyte.precursor.cell</th><th scope=col>prediction.score.vascular.leptomeningeal.cell</th><th scope=col>prediction.score.cell</th><th scope=col>prediction.score.T.cell</th><th scope=col>prediction.score.endothelial.cell</th><th scope=col>prediction.score.pericyte</th><th scope=col>prediction.score.macrophage</th><th scope=col>prediction.score.max</th></tr>\n",
       "\t<tr><th></th><th scope=col>&lt;chr&gt;</th><th scope=col>&lt;dbl&gt;</th><th scope=col>&lt;dbl&gt;</th><th scope=col>&lt;dbl&gt;</th><th scope=col>&lt;dbl&gt;</th><th scope=col>&lt;dbl&gt;</th><th scope=col>&lt;dbl&gt;</th><th scope=col>&lt;dbl&gt;</th><th scope=col>&lt;dbl&gt;</th><th scope=col>&lt;dbl&gt;</th><th scope=col>&lt;dbl&gt;</th><th scope=col>&lt;dbl&gt;</th><th scope=col>&lt;dbl&gt;</th><th scope=col>&lt;dbl&gt;</th><th scope=col>&lt;dbl&gt;</th></tr>\n",
       "</thead>\n",
       "<tbody>\n",
       "\t<tr><th scope=row>ACAGTGGT,AACCTATA,GCAACATT,SS-PKR-129-192-PLATE1-LEFT-HALF</th><td>neuron          </td><td>0.56564437</td><td>0.32868598</td><td>0.07610938</td><td>0.029560269</td><td>0.00000000</td><td>0</td><td>0</td><td>0.0000000</td><td>0.00000000</td><td>0</td><td>0.0000000</td><td>0.0000000</td><td>0</td><td>0.5656444</td></tr>\n",
       "\t<tr><th scope=row>ACAGTGGT,AAGGTTAA,CAGATCTG,SS-PKR-129-192-PLATE1-LEFT-HALF</th><td>neuron          </td><td>0.45674741</td><td>0.23478539</td><td>0.30846720</td><td>0.000000000</td><td>0.00000000</td><td>0</td><td>0</td><td>0.0000000</td><td>0.00000000</td><td>0</td><td>0.0000000</td><td>0.0000000</td><td>0</td><td>0.4567474</td></tr>\n",
       "\t<tr><th scope=row>ACAGTGGT,AAGGTTAA,TCTGCTGT,SS-PKR-129-192-PLATE1-LEFT-HALF</th><td>endothelial cell</td><td>0.09658323</td><td>0.00000000</td><td>0.20521058</td><td>0.000000000</td><td>0.04141287</td><td>0</td><td>0</td><td>0.2239648</td><td>0.00000000</td><td>0</td><td>0.2642176</td><td>0.1686109</td><td>0</td><td>0.2642176</td></tr>\n",
       "\t<tr><th scope=row>ACAGTGGT,AATCTCGC,CCAATTCC,SS-PKR-129-192-PLATE1-LEFT-HALF</th><td>astrocyte       </td><td>0.08183617</td><td>0.00000000</td><td>0.01318612</td><td>0.223675201</td><td>0.56116519</td><td>0</td><td>0</td><td>0.0000000</td><td>0.12013731</td><td>0</td><td>0.0000000</td><td>0.0000000</td><td>0</td><td>0.5611652</td></tr>\n",
       "\t<tr><th scope=row>ACAGTGGT,AATTGAGT,TAGCTTGT,SS-PKR-129-192-PLATE1-LEFT-HALF</th><td>astrocyte       </td><td>0.24459504</td><td>0.01442037</td><td>0.03508238</td><td>0.006232344</td><td>0.69966986</td><td>0</td><td>0</td><td>0.0000000</td><td>0.00000000</td><td>0</td><td>0.0000000</td><td>0.0000000</td><td>0</td><td>0.6996699</td></tr>\n",
       "\t<tr><th scope=row>ACAGTGGT,ACAGTGGT,CATTCTGA,SS-PKR-129-192-PLATE1-LEFT-HALF</th><td>astrocyte       </td><td>0.00000000</td><td>0.00000000</td><td>0.01972702</td><td>0.057902093</td><td>0.90854163</td><td>0</td><td>0</td><td>0.0000000</td><td>0.01382926</td><td>0</td><td>0.0000000</td><td>0.0000000</td><td>0</td><td>0.9085416</td></tr>\n",
       "</tbody>\n",
       "</table>\n"
      ],
      "text/latex": [
       "A data.frame: 6 × 15\n",
       "\\begin{tabular}{r|lllllllllllllll}\n",
       "  & predicted.id & prediction.score.neuron & prediction.score.medium.spiny.neuron & prediction.score.inhibitory.interneuron & prediction.score.oligodendrocyte & prediction.score.astrocyte & prediction.score.microglial.cell & prediction.score.oligodendrocyte.precursor.cell & prediction.score.vascular.leptomeningeal.cell & prediction.score.cell & prediction.score.T.cell & prediction.score.endothelial.cell & prediction.score.pericyte & prediction.score.macrophage & prediction.score.max\\\\\n",
       "  & <chr> & <dbl> & <dbl> & <dbl> & <dbl> & <dbl> & <dbl> & <dbl> & <dbl> & <dbl> & <dbl> & <dbl> & <dbl> & <dbl> & <dbl>\\\\\n",
       "\\hline\n",
       "\tACAGTGGT,AACCTATA,GCAACATT,SS-PKR-129-192-PLATE1-LEFT-HALF & neuron           & 0.56564437 & 0.32868598 & 0.07610938 & 0.029560269 & 0.00000000 & 0 & 0 & 0.0000000 & 0.00000000 & 0 & 0.0000000 & 0.0000000 & 0 & 0.5656444\\\\\n",
       "\tACAGTGGT,AAGGTTAA,CAGATCTG,SS-PKR-129-192-PLATE1-LEFT-HALF & neuron           & 0.45674741 & 0.23478539 & 0.30846720 & 0.000000000 & 0.00000000 & 0 & 0 & 0.0000000 & 0.00000000 & 0 & 0.0000000 & 0.0000000 & 0 & 0.4567474\\\\\n",
       "\tACAGTGGT,AAGGTTAA,TCTGCTGT,SS-PKR-129-192-PLATE1-LEFT-HALF & endothelial cell & 0.09658323 & 0.00000000 & 0.20521058 & 0.000000000 & 0.04141287 & 0 & 0 & 0.2239648 & 0.00000000 & 0 & 0.2642176 & 0.1686109 & 0 & 0.2642176\\\\\n",
       "\tACAGTGGT,AATCTCGC,CCAATTCC,SS-PKR-129-192-PLATE1-LEFT-HALF & astrocyte        & 0.08183617 & 0.00000000 & 0.01318612 & 0.223675201 & 0.56116519 & 0 & 0 & 0.0000000 & 0.12013731 & 0 & 0.0000000 & 0.0000000 & 0 & 0.5611652\\\\\n",
       "\tACAGTGGT,AATTGAGT,TAGCTTGT,SS-PKR-129-192-PLATE1-LEFT-HALF & astrocyte        & 0.24459504 & 0.01442037 & 0.03508238 & 0.006232344 & 0.69966986 & 0 & 0 & 0.0000000 & 0.00000000 & 0 & 0.0000000 & 0.0000000 & 0 & 0.6996699\\\\\n",
       "\tACAGTGGT,ACAGTGGT,CATTCTGA,SS-PKR-129-192-PLATE1-LEFT-HALF & astrocyte        & 0.00000000 & 0.00000000 & 0.01972702 & 0.057902093 & 0.90854163 & 0 & 0 & 0.0000000 & 0.01382926 & 0 & 0.0000000 & 0.0000000 & 0 & 0.9085416\\\\\n",
       "\\end{tabular}\n"
      ],
      "text/markdown": [
       "\n",
       "A data.frame: 6 × 15\n",
       "\n",
       "| <!--/--> | predicted.id &lt;chr&gt; | prediction.score.neuron &lt;dbl&gt; | prediction.score.medium.spiny.neuron &lt;dbl&gt; | prediction.score.inhibitory.interneuron &lt;dbl&gt; | prediction.score.oligodendrocyte &lt;dbl&gt; | prediction.score.astrocyte &lt;dbl&gt; | prediction.score.microglial.cell &lt;dbl&gt; | prediction.score.oligodendrocyte.precursor.cell &lt;dbl&gt; | prediction.score.vascular.leptomeningeal.cell &lt;dbl&gt; | prediction.score.cell &lt;dbl&gt; | prediction.score.T.cell &lt;dbl&gt; | prediction.score.endothelial.cell &lt;dbl&gt; | prediction.score.pericyte &lt;dbl&gt; | prediction.score.macrophage &lt;dbl&gt; | prediction.score.max &lt;dbl&gt; |\n",
       "|---|---|---|---|---|---|---|---|---|---|---|---|---|---|---|---|\n",
       "| ACAGTGGT,AACCTATA,GCAACATT,SS-PKR-129-192-PLATE1-LEFT-HALF | neuron           | 0.56564437 | 0.32868598 | 0.07610938 | 0.029560269 | 0.00000000 | 0 | 0 | 0.0000000 | 0.00000000 | 0 | 0.0000000 | 0.0000000 | 0 | 0.5656444 |\n",
       "| ACAGTGGT,AAGGTTAA,CAGATCTG,SS-PKR-129-192-PLATE1-LEFT-HALF | neuron           | 0.45674741 | 0.23478539 | 0.30846720 | 0.000000000 | 0.00000000 | 0 | 0 | 0.0000000 | 0.00000000 | 0 | 0.0000000 | 0.0000000 | 0 | 0.4567474 |\n",
       "| ACAGTGGT,AAGGTTAA,TCTGCTGT,SS-PKR-129-192-PLATE1-LEFT-HALF | endothelial cell | 0.09658323 | 0.00000000 | 0.20521058 | 0.000000000 | 0.04141287 | 0 | 0 | 0.2239648 | 0.00000000 | 0 | 0.2642176 | 0.1686109 | 0 | 0.2642176 |\n",
       "| ACAGTGGT,AATCTCGC,CCAATTCC,SS-PKR-129-192-PLATE1-LEFT-HALF | astrocyte        | 0.08183617 | 0.00000000 | 0.01318612 | 0.223675201 | 0.56116519 | 0 | 0 | 0.0000000 | 0.12013731 | 0 | 0.0000000 | 0.0000000 | 0 | 0.5611652 |\n",
       "| ACAGTGGT,AATTGAGT,TAGCTTGT,SS-PKR-129-192-PLATE1-LEFT-HALF | astrocyte        | 0.24459504 | 0.01442037 | 0.03508238 | 0.006232344 | 0.69966986 | 0 | 0 | 0.0000000 | 0.00000000 | 0 | 0.0000000 | 0.0000000 | 0 | 0.6996699 |\n",
       "| ACAGTGGT,ACAGTGGT,CATTCTGA,SS-PKR-129-192-PLATE1-LEFT-HALF | astrocyte        | 0.00000000 | 0.00000000 | 0.01972702 | 0.057902093 | 0.90854163 | 0 | 0 | 0.0000000 | 0.01382926 | 0 | 0.0000000 | 0.0000000 | 0 | 0.9085416 |\n",
       "\n"
      ],
      "text/plain": [
       "                                                           predicted.id    \n",
       "ACAGTGGT,AACCTATA,GCAACATT,SS-PKR-129-192-PLATE1-LEFT-HALF neuron          \n",
       "ACAGTGGT,AAGGTTAA,CAGATCTG,SS-PKR-129-192-PLATE1-LEFT-HALF neuron          \n",
       "ACAGTGGT,AAGGTTAA,TCTGCTGT,SS-PKR-129-192-PLATE1-LEFT-HALF endothelial cell\n",
       "ACAGTGGT,AATCTCGC,CCAATTCC,SS-PKR-129-192-PLATE1-LEFT-HALF astrocyte       \n",
       "ACAGTGGT,AATTGAGT,TAGCTTGT,SS-PKR-129-192-PLATE1-LEFT-HALF astrocyte       \n",
       "ACAGTGGT,ACAGTGGT,CATTCTGA,SS-PKR-129-192-PLATE1-LEFT-HALF astrocyte       \n",
       "                                                           prediction.score.neuron\n",
       "ACAGTGGT,AACCTATA,GCAACATT,SS-PKR-129-192-PLATE1-LEFT-HALF 0.56564437             \n",
       "ACAGTGGT,AAGGTTAA,CAGATCTG,SS-PKR-129-192-PLATE1-LEFT-HALF 0.45674741             \n",
       "ACAGTGGT,AAGGTTAA,TCTGCTGT,SS-PKR-129-192-PLATE1-LEFT-HALF 0.09658323             \n",
       "ACAGTGGT,AATCTCGC,CCAATTCC,SS-PKR-129-192-PLATE1-LEFT-HALF 0.08183617             \n",
       "ACAGTGGT,AATTGAGT,TAGCTTGT,SS-PKR-129-192-PLATE1-LEFT-HALF 0.24459504             \n",
       "ACAGTGGT,ACAGTGGT,CATTCTGA,SS-PKR-129-192-PLATE1-LEFT-HALF 0.00000000             \n",
       "                                                           prediction.score.medium.spiny.neuron\n",
       "ACAGTGGT,AACCTATA,GCAACATT,SS-PKR-129-192-PLATE1-LEFT-HALF 0.32868598                          \n",
       "ACAGTGGT,AAGGTTAA,CAGATCTG,SS-PKR-129-192-PLATE1-LEFT-HALF 0.23478539                          \n",
       "ACAGTGGT,AAGGTTAA,TCTGCTGT,SS-PKR-129-192-PLATE1-LEFT-HALF 0.00000000                          \n",
       "ACAGTGGT,AATCTCGC,CCAATTCC,SS-PKR-129-192-PLATE1-LEFT-HALF 0.00000000                          \n",
       "ACAGTGGT,AATTGAGT,TAGCTTGT,SS-PKR-129-192-PLATE1-LEFT-HALF 0.01442037                          \n",
       "ACAGTGGT,ACAGTGGT,CATTCTGA,SS-PKR-129-192-PLATE1-LEFT-HALF 0.00000000                          \n",
       "                                                           prediction.score.inhibitory.interneuron\n",
       "ACAGTGGT,AACCTATA,GCAACATT,SS-PKR-129-192-PLATE1-LEFT-HALF 0.07610938                             \n",
       "ACAGTGGT,AAGGTTAA,CAGATCTG,SS-PKR-129-192-PLATE1-LEFT-HALF 0.30846720                             \n",
       "ACAGTGGT,AAGGTTAA,TCTGCTGT,SS-PKR-129-192-PLATE1-LEFT-HALF 0.20521058                             \n",
       "ACAGTGGT,AATCTCGC,CCAATTCC,SS-PKR-129-192-PLATE1-LEFT-HALF 0.01318612                             \n",
       "ACAGTGGT,AATTGAGT,TAGCTTGT,SS-PKR-129-192-PLATE1-LEFT-HALF 0.03508238                             \n",
       "ACAGTGGT,ACAGTGGT,CATTCTGA,SS-PKR-129-192-PLATE1-LEFT-HALF 0.01972702                             \n",
       "                                                           prediction.score.oligodendrocyte\n",
       "ACAGTGGT,AACCTATA,GCAACATT,SS-PKR-129-192-PLATE1-LEFT-HALF 0.029560269                     \n",
       "ACAGTGGT,AAGGTTAA,CAGATCTG,SS-PKR-129-192-PLATE1-LEFT-HALF 0.000000000                     \n",
       "ACAGTGGT,AAGGTTAA,TCTGCTGT,SS-PKR-129-192-PLATE1-LEFT-HALF 0.000000000                     \n",
       "ACAGTGGT,AATCTCGC,CCAATTCC,SS-PKR-129-192-PLATE1-LEFT-HALF 0.223675201                     \n",
       "ACAGTGGT,AATTGAGT,TAGCTTGT,SS-PKR-129-192-PLATE1-LEFT-HALF 0.006232344                     \n",
       "ACAGTGGT,ACAGTGGT,CATTCTGA,SS-PKR-129-192-PLATE1-LEFT-HALF 0.057902093                     \n",
       "                                                           prediction.score.astrocyte\n",
       "ACAGTGGT,AACCTATA,GCAACATT,SS-PKR-129-192-PLATE1-LEFT-HALF 0.00000000                \n",
       "ACAGTGGT,AAGGTTAA,CAGATCTG,SS-PKR-129-192-PLATE1-LEFT-HALF 0.00000000                \n",
       "ACAGTGGT,AAGGTTAA,TCTGCTGT,SS-PKR-129-192-PLATE1-LEFT-HALF 0.04141287                \n",
       "ACAGTGGT,AATCTCGC,CCAATTCC,SS-PKR-129-192-PLATE1-LEFT-HALF 0.56116519                \n",
       "ACAGTGGT,AATTGAGT,TAGCTTGT,SS-PKR-129-192-PLATE1-LEFT-HALF 0.69966986                \n",
       "ACAGTGGT,ACAGTGGT,CATTCTGA,SS-PKR-129-192-PLATE1-LEFT-HALF 0.90854163                \n",
       "                                                           prediction.score.microglial.cell\n",
       "ACAGTGGT,AACCTATA,GCAACATT,SS-PKR-129-192-PLATE1-LEFT-HALF 0                               \n",
       "ACAGTGGT,AAGGTTAA,CAGATCTG,SS-PKR-129-192-PLATE1-LEFT-HALF 0                               \n",
       "ACAGTGGT,AAGGTTAA,TCTGCTGT,SS-PKR-129-192-PLATE1-LEFT-HALF 0                               \n",
       "ACAGTGGT,AATCTCGC,CCAATTCC,SS-PKR-129-192-PLATE1-LEFT-HALF 0                               \n",
       "ACAGTGGT,AATTGAGT,TAGCTTGT,SS-PKR-129-192-PLATE1-LEFT-HALF 0                               \n",
       "ACAGTGGT,ACAGTGGT,CATTCTGA,SS-PKR-129-192-PLATE1-LEFT-HALF 0                               \n",
       "                                                           prediction.score.oligodendrocyte.precursor.cell\n",
       "ACAGTGGT,AACCTATA,GCAACATT,SS-PKR-129-192-PLATE1-LEFT-HALF 0                                              \n",
       "ACAGTGGT,AAGGTTAA,CAGATCTG,SS-PKR-129-192-PLATE1-LEFT-HALF 0                                              \n",
       "ACAGTGGT,AAGGTTAA,TCTGCTGT,SS-PKR-129-192-PLATE1-LEFT-HALF 0                                              \n",
       "ACAGTGGT,AATCTCGC,CCAATTCC,SS-PKR-129-192-PLATE1-LEFT-HALF 0                                              \n",
       "ACAGTGGT,AATTGAGT,TAGCTTGT,SS-PKR-129-192-PLATE1-LEFT-HALF 0                                              \n",
       "ACAGTGGT,ACAGTGGT,CATTCTGA,SS-PKR-129-192-PLATE1-LEFT-HALF 0                                              \n",
       "                                                           prediction.score.vascular.leptomeningeal.cell\n",
       "ACAGTGGT,AACCTATA,GCAACATT,SS-PKR-129-192-PLATE1-LEFT-HALF 0.0000000                                    \n",
       "ACAGTGGT,AAGGTTAA,CAGATCTG,SS-PKR-129-192-PLATE1-LEFT-HALF 0.0000000                                    \n",
       "ACAGTGGT,AAGGTTAA,TCTGCTGT,SS-PKR-129-192-PLATE1-LEFT-HALF 0.2239648                                    \n",
       "ACAGTGGT,AATCTCGC,CCAATTCC,SS-PKR-129-192-PLATE1-LEFT-HALF 0.0000000                                    \n",
       "ACAGTGGT,AATTGAGT,TAGCTTGT,SS-PKR-129-192-PLATE1-LEFT-HALF 0.0000000                                    \n",
       "ACAGTGGT,ACAGTGGT,CATTCTGA,SS-PKR-129-192-PLATE1-LEFT-HALF 0.0000000                                    \n",
       "                                                           prediction.score.cell\n",
       "ACAGTGGT,AACCTATA,GCAACATT,SS-PKR-129-192-PLATE1-LEFT-HALF 0.00000000           \n",
       "ACAGTGGT,AAGGTTAA,CAGATCTG,SS-PKR-129-192-PLATE1-LEFT-HALF 0.00000000           \n",
       "ACAGTGGT,AAGGTTAA,TCTGCTGT,SS-PKR-129-192-PLATE1-LEFT-HALF 0.00000000           \n",
       "ACAGTGGT,AATCTCGC,CCAATTCC,SS-PKR-129-192-PLATE1-LEFT-HALF 0.12013731           \n",
       "ACAGTGGT,AATTGAGT,TAGCTTGT,SS-PKR-129-192-PLATE1-LEFT-HALF 0.00000000           \n",
       "ACAGTGGT,ACAGTGGT,CATTCTGA,SS-PKR-129-192-PLATE1-LEFT-HALF 0.01382926           \n",
       "                                                           prediction.score.T.cell\n",
       "ACAGTGGT,AACCTATA,GCAACATT,SS-PKR-129-192-PLATE1-LEFT-HALF 0                      \n",
       "ACAGTGGT,AAGGTTAA,CAGATCTG,SS-PKR-129-192-PLATE1-LEFT-HALF 0                      \n",
       "ACAGTGGT,AAGGTTAA,TCTGCTGT,SS-PKR-129-192-PLATE1-LEFT-HALF 0                      \n",
       "ACAGTGGT,AATCTCGC,CCAATTCC,SS-PKR-129-192-PLATE1-LEFT-HALF 0                      \n",
       "ACAGTGGT,AATTGAGT,TAGCTTGT,SS-PKR-129-192-PLATE1-LEFT-HALF 0                      \n",
       "ACAGTGGT,ACAGTGGT,CATTCTGA,SS-PKR-129-192-PLATE1-LEFT-HALF 0                      \n",
       "                                                           prediction.score.endothelial.cell\n",
       "ACAGTGGT,AACCTATA,GCAACATT,SS-PKR-129-192-PLATE1-LEFT-HALF 0.0000000                        \n",
       "ACAGTGGT,AAGGTTAA,CAGATCTG,SS-PKR-129-192-PLATE1-LEFT-HALF 0.0000000                        \n",
       "ACAGTGGT,AAGGTTAA,TCTGCTGT,SS-PKR-129-192-PLATE1-LEFT-HALF 0.2642176                        \n",
       "ACAGTGGT,AATCTCGC,CCAATTCC,SS-PKR-129-192-PLATE1-LEFT-HALF 0.0000000                        \n",
       "ACAGTGGT,AATTGAGT,TAGCTTGT,SS-PKR-129-192-PLATE1-LEFT-HALF 0.0000000                        \n",
       "ACAGTGGT,ACAGTGGT,CATTCTGA,SS-PKR-129-192-PLATE1-LEFT-HALF 0.0000000                        \n",
       "                                                           prediction.score.pericyte\n",
       "ACAGTGGT,AACCTATA,GCAACATT,SS-PKR-129-192-PLATE1-LEFT-HALF 0.0000000                \n",
       "ACAGTGGT,AAGGTTAA,CAGATCTG,SS-PKR-129-192-PLATE1-LEFT-HALF 0.0000000                \n",
       "ACAGTGGT,AAGGTTAA,TCTGCTGT,SS-PKR-129-192-PLATE1-LEFT-HALF 0.1686109                \n",
       "ACAGTGGT,AATCTCGC,CCAATTCC,SS-PKR-129-192-PLATE1-LEFT-HALF 0.0000000                \n",
       "ACAGTGGT,AATTGAGT,TAGCTTGT,SS-PKR-129-192-PLATE1-LEFT-HALF 0.0000000                \n",
       "ACAGTGGT,ACAGTGGT,CATTCTGA,SS-PKR-129-192-PLATE1-LEFT-HALF 0.0000000                \n",
       "                                                           prediction.score.macrophage\n",
       "ACAGTGGT,AACCTATA,GCAACATT,SS-PKR-129-192-PLATE1-LEFT-HALF 0                          \n",
       "ACAGTGGT,AAGGTTAA,CAGATCTG,SS-PKR-129-192-PLATE1-LEFT-HALF 0                          \n",
       "ACAGTGGT,AAGGTTAA,TCTGCTGT,SS-PKR-129-192-PLATE1-LEFT-HALF 0                          \n",
       "ACAGTGGT,AATCTCGC,CCAATTCC,SS-PKR-129-192-PLATE1-LEFT-HALF 0                          \n",
       "ACAGTGGT,AATTGAGT,TAGCTTGT,SS-PKR-129-192-PLATE1-LEFT-HALF 0                          \n",
       "ACAGTGGT,ACAGTGGT,CATTCTGA,SS-PKR-129-192-PLATE1-LEFT-HALF 0                          \n",
       "                                                           prediction.score.max\n",
       "ACAGTGGT,AACCTATA,GCAACATT,SS-PKR-129-192-PLATE1-LEFT-HALF 0.5656444           \n",
       "ACAGTGGT,AAGGTTAA,CAGATCTG,SS-PKR-129-192-PLATE1-LEFT-HALF 0.4567474           \n",
       "ACAGTGGT,AAGGTTAA,TCTGCTGT,SS-PKR-129-192-PLATE1-LEFT-HALF 0.2642176           \n",
       "ACAGTGGT,AATCTCGC,CCAATTCC,SS-PKR-129-192-PLATE1-LEFT-HALF 0.5611652           \n",
       "ACAGTGGT,AATTGAGT,TAGCTTGT,SS-PKR-129-192-PLATE1-LEFT-HALF 0.6996699           \n",
       "ACAGTGGT,ACAGTGGT,CATTCTGA,SS-PKR-129-192-PLATE1-LEFT-HALF 0.9085416           "
      ]
     },
     "metadata": {},
     "output_type": "display_data"
    }
   ],
   "source": [
    "head(predictions)"
   ]
  },
  {
   "cell_type": "code",
   "execution_count": 15,
   "metadata": {
    "vscode": {
     "languageId": "r"
    }
   },
   "outputs": [
    {
     "name": "stdout",
     "output_type": "stream",
     "text": [
      "[1] \"# Plotting predicted labels\"\n",
      "[1] \"SUCCESSFUL: Plotting predicted labels\"\n"
     ]
    }
   ],
   "source": [
    "## Plotting\n",
    "tryCatch(\n",
    "    {\n",
    "        log_print(\"# Plotting predicted labels\")\n",
    "        \n",
    "        p1 <- DimPlot(obj.query, group.by = \"seurat_clusters\", label = TRUE, \n",
    "                      label.size = 5, repel = TRUE)\n",
    "\n",
    "        p2 <- DimPlot(obj.query, group.by = \"predicted.id\", label = TRUE, \n",
    "                      label.size = 5, repel = TRUE)\n",
    "        \n",
    "        p <- p1 + p2\n",
    "        \n",
    "        printPNG(name = \"predicted.labels\", plot = p, papermill = papermill, width = 15, height = 6)\n",
    "        \n",
    "        log_print(\"SUCCESSFUL: Plotting predicted labels\")\n",
    "        \n",
    "\n",
    "    },\n",
    "    error = function(cond) {\n",
    "        log_print(\"ERROR: Plotting predicted labels\")\n",
    "        log_print(cond)\n",
    "    }\n",
    "\n",
    ")"
   ]
  },
  {
   "cell_type": "code",
   "execution_count": 42,
   "metadata": {},
   "outputs": [
    {
     "name": "stdout",
     "output_type": "stream",
     "text": [
      "[1] \"# Plotting predicted score per cluster\"\n",
      "[1] \"SUCCESSFUL: Plotting predicted score per cluster\"\n"
     ]
    }
   ],
   "source": [
    "## Plotting\n",
    "tryCatch(\n",
    "    {\n",
    "        log_print(\"# Plotting predicted score per cluster\")\n",
    "        \n",
    "        sel_cols <- grep(\"prediction.score|seurat_clusters\", colnames(obj.query@meta.data), value=TRUE)\n",
    "        sel_cols <- sel_cols[1:length(sel_cols) - 1]\n",
    "\n",
    "        df <- obj.query@meta.data %>%\n",
    "            subset(select = sel_cols) %>%\n",
    "            tidyr::gather(key = \"celltype\", value = \"score\", -seurat_clusters)\n",
    "        \n",
    "        df$celltype <- stringr::str_replace_all(df$celltype, \"prediction.score.\", \"\")\n",
    "        \n",
    "        p <- ggplot(df, aes(x = celltype, y = score)) +\n",
    "             geom_violin(aes(fill = celltype), scale = \"width\") +\n",
    "             facet_wrap(~seurat_clusters, ncol = 4) +\n",
    "             theme_cowplot() +\n",
    "             xlab(\"\") + ylab(\"Predictied score\") +\n",
    "             theme(axis.text.x = element_text(angle=60, hjust = 1),\n",
    "                  legend.position = \"none\",\n",
    "                  plot.title = element_text(hjust = 0.5)) \n",
    "\n",
    "        # decide figure size\n",
    "        n_clusters <- length(unique(df$seurat_clusters))\n",
    "        n_rows <- ceiling(n_clusters / 4)\n",
    "        \n",
    "        printPNG(name = \"predicted.scores\", plot = p, papermill = papermill, width = 3*4, height = 3*n_rows + 2)\n",
    "        \n",
    "        log_print(\"SUCCESSFUL: Plotting predicted score per cluster\")\n",
    "    },\n",
    "    error = function(cond) {\n",
    "        log_print(\"ERROR: Plotting predicted score per cluster\")\n",
    "        log_print(cond)\n",
    "    }\n",
    "\n",
    ")"
   ]
  },
  {
   "cell_type": "code",
   "execution_count": null,
   "metadata": {},
   "outputs": [],
   "source": []
  }
 ],
 "metadata": {
  "celltoolbar": "Tags",
  "kernelspec": {
   "display_name": "R [conda env:zl_share_seq]",
   "language": "R",
   "name": "conda-env-zl_share_seq-r"
  },
  "language_info": {
   "codemirror_mode": "r",
   "file_extension": ".r",
   "mimetype": "text/x-r-source",
   "name": "R",
   "pygments_lexer": "r",
   "version": "4.2.3"
  },
  "toc": {
   "base_numbering": 1,
   "nav_menu": {},
   "number_sections": true,
   "sideBar": true,
   "skip_h1_title": false,
   "title_cell": "Table of Contents",
   "title_sidebar": "Contents",
   "toc_cell": false,
   "toc_position": {},
   "toc_section_display": true,
   "toc_window_display": false
  }
 },
 "nbformat": 4,
 "nbformat_minor": 4
}
