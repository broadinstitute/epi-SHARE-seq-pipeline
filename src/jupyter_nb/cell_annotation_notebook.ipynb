{
 "cells": [
  {
   "cell_type": "markdown",
   "metadata": {},
   "source": [
    "# Install Libraries\n",
    "Install information can be found [here](https://satijalab.org/seurat/articles/install.html)\\\n",
    "Vignette [here](https://satijalab.org/seurat/articles/integration_mapping.html)"
   ]
  },
  {
   "cell_type": "code",
   "execution_count": null,
   "metadata": {
    "tags": [
     "parameters"
    ],
    "vscode": {
     "languageId": "r"
    }
   },
   "outputs": [],
   "source": [
    "#Seurat parameters\n",
    "reference_data = \"path-to-seurat-object\" # Seurat object for reference data\n",
    "query_data = \"path-to-seurat-object\" # Seurat object for query data\n",
    "\n",
    "genome = \"hg38\" # either hg38 or mm10\n",
    "\n",
    "normalization_method = \"LogNormalize\"\n",
    "normalization_scale_factor = 10000\n",
    "\n",
    "variable_features_method = \"vst\"\n",
    "variable_features_num = 2000\n",
    "\n",
    "# Dimensional reduction to use for the weighting anchors.\n",
    "weight.reduction = \"pca\" \n",
    "n_dims = 30 # Set of dimensions to use in the anchor weighting procedure. If NULL, the same dimensions that were used to find anchors will be used for weighting.\n",
    "\n",
    "threads = 8\n",
    "prefix = \"prefix\" #project name\n",
    "\n",
    "#Papermill specific parameters\n",
    "papermill = TRUE"
   ]
  },
  {
   "cell_type": "code",
   "execution_count": null,
   "metadata": {
    "vscode": {
     "languageId": "r"
    }
   },
   "outputs": [],
   "source": [
    "# #########################\n",
    "# # For test\n",
    "# reference_data = \"../../../ReferenceData/BrainAgingSpatialAtlas_snRNAseq.rds\"\n",
    "# query_data = \"../../../QueryData/MouseBrain/SS-PKR-129-192-PLATE1-LEFT-HALF.rna.seurat.filtered_rds.mm10.rds\"\n",
    "# genome = \"mm10\""
   ]
  },
  {
   "cell_type": "code",
   "execution_count": null,
   "metadata": {
    "vscode": {
     "languageId": "r"
    }
   },
   "outputs": [],
   "source": [
    "papermill <- as.logical(papermill)"
   ]
  },
  {
   "cell_type": "code",
   "execution_count": null,
   "metadata": {
    "vscode": {
     "languageId": "r"
    }
   },
   "outputs": [],
   "source": [
    "suppressMessages(library(Seurat))\n",
    "suppressMessages(library(future))\n",
    "suppressMessages(library(logr))\n",
    "suppressMessages(library(dplyr))\n",
    "suppressMessages(library(grid))\n",
    "suppressMessages(library(gridExtra))\n",
    "suppressMessages(library(ggplot2))\n",
    "suppressMessages(library(patchwork))\n",
    "suppressMessages(library(cowplot))\n",
    "suppressMessages(library(EnsDb.Mmusculus.v79))\n",
    "suppressMessages(library(EnsDb.Hsapiens.v86))"
   ]
  },
  {
   "cell_type": "code",
   "execution_count": null,
   "metadata": {
    "vscode": {
     "languageId": "r"
    }
   },
   "outputs": [],
   "source": [
    "options(\"logr.notes\" = FALSE)\n",
    "options(future.globals.maxSize=10e9)\n",
    "set.seed(1234)"
   ]
  },
  {
   "cell_type": "code",
   "execution_count": null,
   "metadata": {
    "vscode": {
     "languageId": "r"
    }
   },
   "outputs": [],
   "source": [
    "# Function to convert gene ID to symbol\n",
    "create_seurat_obj_with_gene_symbol <- function(object, genome){\n",
    "\n",
    "    # get gene symbol\n",
    "    if(genome == \"hg38\" | genome == \"hg37\"){\n",
    "        gene.id <- ensembldb::select(EnsDb.Hsapiens.v86, \n",
    "                                     keys= rownames(object), \n",
    "                                     keytype = \"GENEID\", \n",
    "                                     columns = c(\"SYMBOL\",\"GENEID\"))\n",
    "    \n",
    "    } else if(genome == \"mm10\" | genome == \"mm9\"){\n",
    "        gene.id <- ensembldb::select(EnsDb.Mmusculus.v79, \n",
    "                                     keys = rownames(object), \n",
    "                                     keytype = \"GENEID\", \n",
    "                                     columns = c(\"SYMBOL\",\"GENEID\"))\n",
    "    }\n",
    "    # remove genes with empty symbol\n",
    "    gene.id <- subset(gene.id, gene.id$SYMBOL != \"\")\n",
    "\n",
    "    # make gene symbol unique\n",
    "    gene.id$Unique_SYMBOL <- make.unique(gene.id$SYMBOL, \"\")\n",
    "    \n",
    "    counts <- object@assays$RNA@counts\n",
    "    counts <- counts[gene.id$GENEID, ]\n",
    "    rownames(counts) <- gene.id$Unique_SYMBOL\n",
    "\n",
    "    object <- CreateSeuratObject(counts = counts, meta.data = object@meta.data)\n",
    "    \n",
    "    return(object)\n",
    "}"
   ]
  },
  {
   "cell_type": "code",
   "execution_count": null,
   "metadata": {
    "vscode": {
     "languageId": "r"
    }
   },
   "outputs": [],
   "source": [
    "#Function to save plots\n",
    "plot_filename = glue::glue(\"{prefix}.rna.cell.annotation.plots.{genome}\")\n",
    "dir.create(plot_filename, showWarnings=F)\n",
    "\n",
    "printPNG <- function(name, plot, papermill, width = 22, height = 11){\n",
    "    filename = glue::glue(\"{plot_filename}/{prefix}.rna.cell.annotation.{name}.{genome}.png\")\n",
    "    \n",
    "    if(papermill){\n",
    "        ggsave(plot = plot, filename = filename, width = width, height = height)\n",
    "    }\n",
    "}\n",
    "\n",
    "#Create log file\n",
    "logfile <- file.path(glue::glue(\"{prefix}.rna.cell.annotation.logfile.{genome}.txt\"))\n",
    "lf <- log_open(logfile)"
   ]
  },
  {
   "cell_type": "code",
   "execution_count": null,
   "metadata": {
    "vscode": {
     "languageId": "r"
    }
   },
   "outputs": [],
   "source": [
    "# Read reference data\n",
    "tryCatch(\n",
    "    {\n",
    "        log_print(\"# Reading reference data...\")\n",
    "        obj.ref <- readRDS(reference_data)\n",
    "        log_print(\"SUCCESSFUL: Reading reference data\")\n",
    "    \n",
    "    },\n",
    "    error = function(cond) {\n",
    "        log_print(\"ERROR: Reading reference data\")\n",
    "        log_print(cond)\n",
    "    }\n",
    ")"
   ]
  },
  {
   "cell_type": "code",
   "execution_count": null,
   "metadata": {
    "vscode": {
     "languageId": "r"
    }
   },
   "outputs": [],
   "source": [
    "# Read query data\n",
    "tryCatch(\n",
    "    {\n",
    "        log_print(\"# Reading query data...\")\n",
    "        obj.query <- readRDS(query_data)\n",
    "        log_print(\"SUCCESSFUL: Reading query data\")\n",
    "    \n",
    "    },\n",
    "    error = function(cond) {\n",
    "        log_print(\"ERROR: Reading query data\")\n",
    "        log_print(cond)\n",
    "    }\n",
    ")"
   ]
  },
  {
   "cell_type": "code",
   "execution_count": null,
   "metadata": {
    "vscode": {
     "languageId": "r"
    }
   },
   "outputs": [],
   "source": [
    "# Convert gene ID to symbol for reference data\n",
    "tryCatch(\n",
    "    {\n",
    "        log_print(\"# Converting gene id to symbol for reference data\")\n",
    "        obj.ref <- create_seurat_obj_with_gene_symbol(object = obj.ref, \n",
    "                                                      genome = genome)\n",
    "        log_print(\"SUCCESSFUL: Converting gene id to symbol for reference data\")\n",
    "\n",
    "    },\n",
    "    error = function(cond) {\n",
    "        log_print(\"ERROR: Converting gene id to symbol for reference data\")\n",
    "        log_print(cond)\n",
    "    }\n",
    ")"
   ]
  },
  {
   "cell_type": "code",
   "execution_count": null,
   "metadata": {
    "vscode": {
     "languageId": "r"
    }
   },
   "outputs": [],
   "source": [
    "# Subset reference data\n",
    "tryCatch(\n",
    "    {\n",
    "        log_print(\"# Subseting reference and query data with common genes\")\n",
    "        \n",
    "        gene.common <- intersect(rownames(obj.ref), rownames(obj.query))\n",
    "        obj.ref <- subset(obj.ref, features = gene.common)\n",
    "        obj.query <- subset(obj.query, features = gene.common)\n",
    "        \n",
    "        log_print(glue::glue(\"# Found {length(gene.common)} common genes between reference and query data\"))\n",
    "        log_print(\"SUCCESSFUL: Subseting reference data\")\n",
    "    },\n",
    "     error = function(cond) {\n",
    "        log_print(\"ERROR: Subseting reference data\")\n",
    "        log_print(cond)\n",
    "    }\n",
    "    \n",
    ")"
   ]
  },
  {
   "cell_type": "code",
   "execution_count": null,
   "metadata": {
    "vscode": {
     "languageId": "r"
    }
   },
   "outputs": [],
   "source": [
    "# Predict labels for query dataset\n",
    "tryCatch(\n",
    "    {\n",
    "        log_print(\"# Predicting labels for query data\")\n",
    "        \n",
    "        obj.ref <- obj.ref %>%\n",
    "            NormalizeData(verbose = FALSE) %>%\n",
    "            FindVariableFeatures(selection.method = variable_features_method, \n",
    "                                 nfeatures = variable_features_num)\n",
    "        \n",
    "        obj.query <- obj.query %>%\n",
    "            NormalizeData(verbose = FALSE) %>%\n",
    "            FindVariableFeatures(selection.method = variable_features_method,\n",
    "                                 nfeatures = variable_features_num)\n",
    "        \n",
    "        transfer.anchors <- FindTransferAnchors(\n",
    "            reference = obj.ref,\n",
    "            query = obj.query,\n",
    "            reduction = \"cca\",\n",
    "            verbose = FALSE\n",
    "        )\n",
    "        \n",
    "        predictions <- TransferData(anchorset = transfer.anchors, \n",
    "                                    refdata = obj.ref$cell_type,\n",
    "                                    weight.reduction = obj.query[[weight.reduction]],\n",
    "                                    dims = 1:n_dims,\n",
    "                                    verbose = FALSE)\n",
    "        \n",
    "        obj.query <- AddMetaData(obj.query, metadata = predictions)\n",
    "\n",
    "        write.csv(predictions, \n",
    "                  file = glue::glue(\"{prefix}.rna.cell.annotation.prediction.${genome}.csv\"),\n",
    "                  quote = FALSE)\n",
    "        \n",
    "        log_print(\"SUCCESSFUL: Predicting labels for query data\")\n",
    "    },\n",
    "     error = function(cond) {\n",
    "        log_print(\"ERROR: Predicting labels for query data\")\n",
    "        log_print(cond)\n",
    "    }\n",
    "    \n",
    ")"
   ]
  },
  {
   "cell_type": "code",
   "execution_count": null,
   "metadata": {
    "vscode": {
     "languageId": "r"
    }
   },
   "outputs": [],
   "source": [
    "## Plotting\n",
    "tryCatch(\n",
    "    {\n",
    "        log_print(\"# Plotting predicted labels\")\n",
    "        \n",
    "        p1 <- DimPlot(obj.query, group.by = \"seurat_clusters\", label = TRUE, \n",
    "                      label.size = 5, repel = TRUE)\n",
    "\n",
    "        p2 <- DimPlot(obj.query, group.by = \"predicted.id\", label = TRUE, \n",
    "                      label.size = 5, repel = TRUE)\n",
    "        \n",
    "        p <- p1 + p2\n",
    "        \n",
    "        printPNG(name = \"predicted.labels\", plot = p, papermill = papermill, \n",
    "                 width = 15, height = 6)\n",
    "        \n",
    "        log_print(\"SUCCESSFUL: Plotting predicted labels\")\n",
    "        \n",
    "\n",
    "    },\n",
    "    error = function(cond) {\n",
    "        log_print(\"ERROR: Plotting predicted labels\")\n",
    "        log_print(cond)\n",
    "    }\n",
    "\n",
    ")"
   ]
  },
  {
   "cell_type": "code",
   "execution_count": null,
   "metadata": {
    "vscode": {
     "languageId": "r"
    }
   },
   "outputs": [],
   "source": [
    "## Plotting\n",
    "tryCatch(\n",
    "    {\n",
    "        log_print(\"# Plotting predicted score per cluster\")\n",
    "        \n",
    "        sel_cols <- grep(\"prediction.score|seurat_clusters\", colnames(obj.query@meta.data), value=TRUE)\n",
    "        sel_cols <- sel_cols[1:length(sel_cols) - 1]\n",
    "\n",
    "        df <- obj.query@meta.data %>%\n",
    "            subset(select = sel_cols) %>%\n",
    "            tidyr::gather(key = \"celltype\", value = \"score\", -seurat_clusters)\n",
    "        \n",
    "        df$celltype <- stringr::str_replace_all(df$celltype, \"prediction.score.\", \"\")\n",
    "        \n",
    "        p <- ggplot(df, aes(x = celltype, y = score)) +\n",
    "             geom_violin(aes(fill = celltype), scale = \"width\") +\n",
    "             facet_wrap(~seurat_clusters, ncol = 4) +\n",
    "             theme_cowplot() +\n",
    "             xlab(\"\") + ylab(\"Predictied score\") +\n",
    "             theme(axis.text.x = element_text(angle=60, hjust = 1),\n",
    "                  legend.position = \"none\",\n",
    "                  plot.title = element_text(hjust = 0.5)) \n",
    "\n",
    "        # decide figure size\n",
    "        n_clusters <- length(unique(df$seurat_clusters))\n",
    "        n_rows <- ceiling(n_clusters / 4)\n",
    "        \n",
    "        printPNG(name = \"predicted.scores\", plot = p, papermill = papermill, \n",
    "                 width = 3*4, height = 3*n_rows + 2)\n",
    "        \n",
    "        log_print(\"SUCCESSFUL: Plotting predicted score per cluster\")\n",
    "    },\n",
    "    error = function(cond) {\n",
    "        log_print(\"ERROR: Plotting predicted score per cluster\")\n",
    "        log_print(cond)\n",
    "    }\n",
    "\n",
    ")"
   ]
  },
  {
   "cell_type": "code",
   "execution_count": null,
   "metadata": {
    "vscode": {
     "languageId": "r"
    }
   },
   "outputs": [],
   "source": []
  }
 ],
 "metadata": {
  "celltoolbar": "Tags",
  "kernelspec": {
   "display_name": "R",
   "language": "R",
   "name": "ir"
  },
  "language_info": {
   "codemirror_mode": "r",
   "file_extension": ".r",
   "mimetype": "text/x-r-source",
   "name": "R",
   "pygments_lexer": "r",
   "version": "4.1.2"
  },
  "toc": {
   "base_numbering": 1,
   "nav_menu": {},
   "number_sections": true,
   "sideBar": true,
   "skip_h1_title": false,
   "title_cell": "Table of Contents",
   "title_sidebar": "Contents",
   "toc_cell": false,
   "toc_position": {},
   "toc_section_display": true,
   "toc_window_display": false
  }
 },
 "nbformat": 4,
 "nbformat_minor": 4
}
