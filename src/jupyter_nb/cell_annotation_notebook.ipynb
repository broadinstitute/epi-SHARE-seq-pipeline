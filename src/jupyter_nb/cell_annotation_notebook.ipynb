{
 "cells": [
  {
   "cell_type": "markdown",
   "metadata": {},
   "source": [
    "# Install Libraries\n",
    "Install information can be found [here](https://satijalab.org/seurat/articles/install.html)\\\n",
    "Vignette [here](https://satijalab.org/seurat/articles/integration_mapping.html)"
   ]
  },
  {
   "cell_type": "code",
   "execution_count": 1,
   "metadata": {
    "tags": [
     "parameters"
    ],
    "vscode": {
     "languageId": "r"
    }
   },
   "outputs": [],
   "source": [
    "# Parameters for input\n",
    "reference_data_id = \"id-of-reference-data\"\n",
    "query_data = \"path-to-seurat-object\" # Seurat object for query data\n",
    "\n",
    "# Parameters for label prediction\n",
    "reference_label = \"cell_type_annot\"\n",
    "\n",
    "# Parameters for reference genome\n",
    "genome = \"mm10\" # either hg38 or mm10\n",
    "gene_id_to_symbol = TRUE\n",
    "\n",
    "prefix = \"prefix\" #project name\n",
    "\n",
    "#Papermill specific parameters\n",
    "papermill = TRUE"
   ]
  },
  {
   "cell_type": "code",
   "execution_count": null,
   "metadata": {},
   "outputs": [],
   "source": [
    "source(\"/usr/local/bin/cell_annotation_helper_functions.R\")"
   ]
  },
  {
   "cell_type": "code",
   "execution_count": 2,
   "metadata": {
    "vscode": {
     "languageId": "r"
    }
   },
   "outputs": [],
   "source": [
    "# #########################\n",
    "# For test\n",
    "# source(\"/data/pinello/PROJECTS/2023_02_SHARE_Pipeline/epi-SHARE-seq-pipeline/src/R/cell_annotation_helper_functions.R\")\n",
    "# reference_data <- \"reference.h5ad\"\n",
    "# query_data <- \"../../../QueryData/MouseBrain/SS-PKR-129-192-PLATE1-LEFT-HALF.rna.seurat.filtered_rds.mm10.rds\"\n",
    "# genome <- \"mm10\""
   ]
  },
  {
   "cell_type": "code",
   "execution_count": 3,
   "metadata": {
    "vscode": {
     "languageId": "r"
    }
   },
   "outputs": [],
   "source": [
    "papermill <- as.logical(papermill)"
   ]
  },
  {
   "cell_type": "code",
   "execution_count": 4,
   "metadata": {
    "vscode": {
     "languageId": "r"
    }
   },
   "outputs": [],
   "source": [
    "suppressMessages(library(Seurat))\n",
    "suppressMessages(library(anndata))\n",
    "suppressMessages(library(reticulate))\n",
    "suppressMessages(library(Matrix))\n",
    "suppressMessages(library(future))\n",
    "suppressMessages(library(logr))\n",
    "suppressMessages(library(dplyr))\n",
    "suppressMessages(library(grid))\n",
    "suppressMessages(library(gridExtra))\n",
    "suppressMessages(library(ggplot2))\n",
    "suppressMessages(library(patchwork))\n",
    "suppressMessages(library(cowplot))\n",
    "suppressMessages(library(EnsDb.Mmusculus.v79))\n",
    "suppressMessages(library(EnsDb.Hsapiens.v86))\n",
    "suppressMessages(library(cellxgene.census))"
   ]
  },
  {
   "cell_type": "code",
   "execution_count": 5,
   "metadata": {
    "vscode": {
     "languageId": "r"
    }
   },
   "outputs": [],
   "source": [
    "options(\"logr.notes\" = FALSE)\n",
    "options(future.globals.maxSize=10e9)\n",
    "set.seed(1234)"
   ]
  },
  {
   "cell_type": "code",
   "execution_count": 6,
   "metadata": {
    "vscode": {
     "languageId": "r"
    }
   },
   "outputs": [],
   "source": [
    "#Function to save plots\n",
    "plot_filename = glue::glue(\"{prefix}.rna.cell.annotation.plots.{genome}\")\n",
    "dir.create(plot_filename, showWarnings=F)\n",
    "\n",
    "printPNG <- function(name, plot, papermill, width = 22, height = 11){\n",
    "    filename = glue::glue(\"{plot_filename}/{prefix}.rna.cell.annotation.{name}.{genome}.png\")\n",
    "    \n",
    "    if(papermill){\n",
    "        ggsave(plot = plot, filename = filename, width = width, height = height)\n",
    "    }\n",
    "}\n",
    "\n",
    "#Create log file\n",
    "logfile <- file.path(glue::glue(\"{prefix}.rna.cell.annotation.logfile.{genome}.txt\"))\n",
    "lf <- log_open(logfile)"
   ]
  },
  {
   "cell_type": "code",
   "execution_count": 7,
   "metadata": {},
   "outputs": [],
   "source": [
    "# Download reference data based on ID\n",
    "tryCatch(\n",
    "    {\n",
    "        log_print(\"# Downloading reference data...\")\n",
    "        cellxgene.census::download_source_h5ad(reference_data_id, file = \"reference.h5ad\")\n",
    "        log_print(\"SUCCESSFUL: downloading reference data\")\n",
    "    \n",
    "    },\n",
    "    error = function(cond){\n",
    "        log_print(\"ERROR: downloading reference data\")\n",
    "        log_print(cond)\n",
    "    \n",
    "    }\n",
    ")"
   ]
  },
  {
   "cell_type": "code",
   "execution_count": 8,
   "metadata": {},
   "outputs": [
    {
     "name": "stdout",
     "output_type": "stream",
     "text": [
      "[1] \"# Loading reference data...\"\n"
     ]
    },
    {
     "name": "stderr",
     "output_type": "stream",
     "text": [
      "Warning message in asMethod(object):\n",
      "\"sparse->dense coercion: allocating vector of size 12.5 GiB\"\n"
     ]
    },
    {
     "data": {
      "text/html": [
       "<table class=\"dataframe\">\n",
       "<caption>A matrix: 2 × 6 of type dbl</caption>\n",
       "<thead>\n",
       "\t<tr><th></th><th scope=col>used</th><th scope=col>(Mb)</th><th scope=col>gc trigger</th><th scope=col>(Mb)</th><th scope=col>max used</th><th scope=col>(Mb)</th></tr>\n",
       "</thead>\n",
       "<tbody>\n",
       "\t<tr><th scope=row>Ncells</th><td> 10091209</td><td> 539.0</td><td>  15006048</td><td>  801.5</td><td>  15006048</td><td>  801.5</td></tr>\n",
       "\t<tr><th scope=row>Vcells</th><td>435890101</td><td>3325.6</td><td>4030458453</td><td>30750.0</td><td>5038073066</td><td>38437.5</td></tr>\n",
       "</tbody>\n",
       "</table>\n"
      ],
      "text/latex": [
       "A matrix: 2 × 6 of type dbl\n",
       "\\begin{tabular}{r|llllll}\n",
       "  & used & (Mb) & gc trigger & (Mb) & max used & (Mb)\\\\\n",
       "\\hline\n",
       "\tNcells &  10091209 &  539.0 &   15006048 &   801.5 &   15006048 &   801.5\\\\\n",
       "\tVcells & 435890101 & 3325.6 & 4030458453 & 30750.0 & 5038073066 & 38437.5\\\\\n",
       "\\end{tabular}\n"
      ],
      "text/markdown": [
       "\n",
       "A matrix: 2 × 6 of type dbl\n",
       "\n",
       "| <!--/--> | used | (Mb) | gc trigger | (Mb) | max used | (Mb) |\n",
       "|---|---|---|---|---|---|---|\n",
       "| Ncells |  10091209 |  539.0 |   15006048 |   801.5 |   15006048 |   801.5 |\n",
       "| Vcells | 435890101 | 3325.6 | 4030458453 | 30750.0 | 5038073066 | 38437.5 |\n",
       "\n"
      ],
      "text/plain": [
       "       used      (Mb)   gc trigger (Mb)    max used   (Mb)   \n",
       "Ncells  10091209  539.0   15006048   801.5   15006048   801.5\n",
       "Vcells 435890101 3325.6 4030458453 30750.0 5038073066 38437.5"
      ]
     },
     "metadata": {},
     "output_type": "display_data"
    }
   ],
   "source": [
    "# Loading H5AD file\n",
    "tryCatch(\n",
    "    {\n",
    "        log_print(\"# Loading reference data...\")\n",
    "        adata <- read_h5ad(\"reference.h5ad\")\n",
    "        \n",
    "        counts <- t(as.matrix(adata$raw$X))\n",
    "        colnames(counts) <- adata$obs_names\n",
    "        rownames(counts) <- adata$var_names\n",
    "        \n",
    "        metadata <- as.data.frame(adata$obs)\n",
    "\n",
    "        obj.ref <- CreateSeuratObject(counts = counts, assay = \"RNA\")\n",
    "        obj.ref <- AddMetaData(obj.ref, metadata)\n",
    "        \n",
    "        rm(counts)\n",
    "        gc()\n",
    "        \n",
    "    },\n",
    "    error = function(cond){\n",
    "        log_print(\"ERROR: loading reference data\")\n",
    "        log_print(cond)\n",
    "    \n",
    "    }\n",
    "\n",
    "\n",
    ")"
   ]
  },
  {
   "cell_type": "code",
   "execution_count": 9,
   "metadata": {
    "vscode": {
     "languageId": "r"
    }
   },
   "outputs": [
    {
     "name": "stdout",
     "output_type": "stream",
     "text": [
      "[1] \"# Reading query data...\"\n",
      "[1] \"SUCCESSFUL: Reading query data\"\n"
     ]
    }
   ],
   "source": [
    "# Read query data\n",
    "tryCatch(\n",
    "    {\n",
    "        log_print(\"# Reading query data...\")\n",
    "        obj.query <- readRDS(query_data)\n",
    "        log_print(\"SUCCESSFUL: Reading query data\")\n",
    "    \n",
    "    },\n",
    "    error = function(cond) {\n",
    "        log_print(\"ERROR: Reading query data\")\n",
    "        log_print(cond)\n",
    "    }\n",
    ")"
   ]
  },
  {
   "cell_type": "code",
   "execution_count": 10,
   "metadata": {
    "vscode": {
     "languageId": "r"
    }
   },
   "outputs": [
    {
     "name": "stdout",
     "output_type": "stream",
     "text": [
      "[1] \"# Converting gene id to symbol for reference data\"\n",
      "[1] \"SUCCESSFUL: Converting gene id to symbol for reference data\"\n"
     ]
    }
   ],
   "source": [
    "# Convert gene ID to symbol for reference data\n",
    "if(gene_id_to_symbol){\n",
    "    tryCatch(\n",
    "    {\n",
    "        log_print(\"# Converting gene id to symbol for reference data\")\n",
    "        \n",
    "        if(genome == \"hg38\" | genome == \"hg37\"){\n",
    "            gene.id <- ensembldb::select(EnsDb.Hsapiens.v86, \n",
    "                                         keys= rownames(obj.ref), \n",
    "                                         keytype = \"GENEID\", \n",
    "                                         columns = c(\"SYMBOL\",\"GENEID\"))\n",
    "    \n",
    "        } else if(genome == \"mm10\" | genome == \"mm9\"){\n",
    "            gene.id <- ensembldb::select(EnsDb.Mmusculus.v79, \n",
    "                                         keys = rownames(obj.ref), \n",
    "                                         keytype = \"GENEID\", \n",
    "                                         columns = c(\"SYMBOL\",\"GENEID\"))\n",
    "        }\n",
    "        \n",
    "        # remove genes with empty symbol\n",
    "        gene.id <- subset(gene.id, gene.id$SYMBOL != \"\")\n",
    "\n",
    "        # make gene symbol unique\n",
    "        gene.id$Unique_SYMBOL <- make.unique(gene.id$SYMBOL, \"\")\n",
    "\n",
    "        counts <- obj.ref@assays$RNA@counts\n",
    "        colnames(counts) <- colnames(obj.ref)\n",
    "        rownames(counts) <- rownames(obj.ref)\n",
    "        \n",
    "        counts <- counts[gene.id$GENEID, ]\n",
    "        rownames(counts) <- gene.id$Unique_SYMBOL\n",
    "\n",
    "        obj.ref <- CreateSeuratObject(counts = counts, \n",
    "                                      meta.data = obj.ref@meta.data)\n",
    "        \n",
    "        log_print(\"SUCCESSFUL: Converting gene id to symbol for reference data\")\n",
    "\n",
    "    },\n",
    "    error = function(cond) {\n",
    "        log_print(\"ERROR: Converting gene id to symbol for reference data\")\n",
    "        log_print(cond)\n",
    "    }\n",
    ")\n",
    "}"
   ]
  },
  {
   "cell_type": "code",
   "execution_count": 11,
   "metadata": {
    "vscode": {
     "languageId": "r"
    }
   },
   "outputs": [
    {
     "name": "stdout",
     "output_type": "stream",
     "text": [
      "[1] \"# Subseting reference and query data with common genes\"\n",
      "# Found 15561 common genes between reference and query data\n",
      "[1] \"SUCCESSFUL: Subseting reference and query data with common genes\"\n"
     ]
    }
   ],
   "source": [
    "# Subset reference data\n",
    "tryCatch(\n",
    "    {\n",
    "        log_print(\"# Subseting reference and query data with common genes\")\n",
    "        \n",
    "        gene.common <- intersect(rownames(obj.ref), rownames(obj.query))\n",
    "        \n",
    "        counts <- obj.ref@assays$RNA@counts[gene.common, ]\n",
    "        obj.ref <- CreateSeuratObject(counts = counts, \n",
    "                                      assay = \"RNA\",\n",
    "                                      meta.data = obj.ref@meta.data)\n",
    "        \n",
    "        counts <- obj.query@assays$RNA@counts[gene.common, ]\n",
    "        obj.query <- CreateSeuratObject(counts = counts, \n",
    "                                        assay = \"RNA\",\n",
    "                                        meta.data = obj.query@meta.data)\n",
    "        \n",
    "        \n",
    "        obj.ref <- obj.ref %>%\n",
    "            NormalizeData(verbose = FALSE) %>%\n",
    "            FindVariableFeatures() %>%\n",
    "            ScaleData() %>%\n",
    "            RunPCA(verbose=FALSE) %>%\n",
    "            RunUMAP(verbose=FALSE, dims=1:30)\n",
    "        \n",
    "        obj.query <- obj.query %>%\n",
    "            NormalizeData(verbose = FALSE) %>%\n",
    "            FindVariableFeatures() %>%\n",
    "            ScaleData() %>%\n",
    "            RunPCA(verbose=FALSE) %>%\n",
    "            RunUMAP(verbose=FALSE, dims=1:30)\n",
    "        \n",
    "        \n",
    "        log_print(glue::glue(\"# Found {length(gene.common)} common genes between reference and query data\"))\n",
    "        log_print(\"SUCCESSFUL: Subseting reference and query data with common genes\")\n",
    "    },\n",
    "     error = function(cond) {\n",
    "        log_print(\"ERROR: Subseting reference and query data with common genes\")\n",
    "        log_print(cond)\n",
    "    }\n",
    "    \n",
    ")"
   ]
  },
  {
   "cell_type": "code",
   "execution_count": 12,
   "metadata": {
    "vscode": {
     "languageId": "r"
    }
   },
   "outputs": [
    {
     "name": "stdout",
     "output_type": "stream",
     "text": [
      "[1] \"# Predicting labels for query data\"\n"
     ]
    },
    {
     "name": "stderr",
     "output_type": "stream",
     "text": [
      "Centering and scaling data matrix\n",
      "\n",
      "Warning message:\n",
      "\"The default method for RunUMAP has changed from calling Python UMAP via reticulate to the R-native UWOT using the cosine metric\n",
      "To use Python UMAP via reticulate, set umap.method to 'umap-learn' and metric to 'correlation'\n",
      "This message will be shown once per session\"\n",
      "Centering and scaling data matrix\n",
      "\n",
      "Running CCA\n",
      "\n",
      "Merging objects\n",
      "\n",
      "Finding neighborhoods\n",
      "\n",
      "Finding anchors\n",
      "\n",
      "\tFound 7752 anchors\n",
      "\n",
      "Filtering anchors\n",
      "\n",
      "\tRetained 3178 anchors\n",
      "\n",
      "'as(<ngCMatrix>, \"dgCMatrix\")' is deprecated.\n",
      "Use 'as(., \"dMatrix\")' instead.\n",
      "See help(\"Deprecated\") and help(\"Matrix-deprecated\").\n",
      "\n",
      "Finding integration vectors\n",
      "\n",
      "Finding integration vector weights\n",
      "\n",
      "Predicting cell labels\n",
      "\n"
     ]
    },
    {
     "name": "stdout",
     "output_type": "stream",
     "text": [
      "[1] \"SUCCESSFUL: Predicting labels for query data\"\n"
     ]
    }
   ],
   "source": [
    "# Predict labels for query dataset\n",
    "tryCatch(\n",
    "    {\n",
    "        log_print(\"# Predicting labels for query data\")\n",
    "        \n",
    "        transfer.anchors <- FindTransferAnchors(\n",
    "            reference = obj.ref,\n",
    "            query = obj.query,\n",
    "            reduction = \"cca\",\n",
    "            verbose = TRUE\n",
    "        )\n",
    "        \n",
    "        predictions <- TransferData(anchorset = transfer.anchors, \n",
    "                                    refdata = obj.ref[[reference_label]][, 1],\n",
    "                                    weight.reduction = obj.query[[\"pca\"]],\n",
    "                                    dims = 1:30,\n",
    "                                    verbose = TRUE)\n",
    "        \n",
    "        obj.query <- AddMetaData(obj.query, metadata = predictions)\n",
    "\n",
    "        write.csv(predictions, \n",
    "                  file = glue::glue(\"{prefix}.rna.cell.annotation.prediction.{genome}.csv\"),\n",
    "                  quote = FALSE)\n",
    "        \n",
    "        log_print(\"SUCCESSFUL: Predicting labels for query data\")\n",
    "    },\n",
    "     error = function(cond) {\n",
    "        log_print(\"ERROR: Predicting labels for query data\")\n",
    "        log_print(cond)\n",
    "    }\n",
    "    \n",
    ")"
   ]
  },
  {
   "cell_type": "code",
   "execution_count": 13,
   "metadata": {},
   "outputs": [
    {
     "name": "stdout",
     "output_type": "stream",
     "text": [
      "[1] \"# Plotting predicted labels\"\n",
      "[1] \"SUCCESSFUL: Plotting predicted labels\"\n"
     ]
    }
   ],
   "source": [
    "## Plotting\n",
    "tryCatch(\n",
    "    {\n",
    "        log_print(\"# Plotting predicted labels\")\n",
    "        \n",
    "        p <- DimPlot(obj.query, group.by = \"predicted.id\", label = TRUE, \n",
    "                      label.size = 5, repel = TRUE, reduction = \"umap\")\n",
    "        \n",
    "        printPNG(name = \"predicted.labels\", plot = p, papermill = papermill, \n",
    "                 width = 6, height = 6)\n",
    "        \n",
    "        log_print(\"SUCCESSFUL: Plotting predicted labels\")\n",
    "        \n",
    "\n",
    "    },\n",
    "    error = function(cond) {\n",
    "        log_print(\"ERROR: Plotting predicted labels\")\n",
    "        log_print(cond)\n",
    "    }\n",
    "\n",
    ")"
   ]
  },
  {
   "cell_type": "code",
   "execution_count": 14,
   "metadata": {
    "jupyter": {
     "source_hidden": true
    },
    "tags": [],
    "vscode": {
     "languageId": "r"
    }
   },
   "outputs": [],
   "source": [
    "# ## Plotting\n",
    "# tryCatch(\n",
    "#     {\n",
    "#         log_print(\"# Plotting predicted labels\")\n",
    "        \n",
    "#         p1 <- DimPlot(obj.query, group.by = \"seurat_clusters\", label = TRUE, \n",
    "#                       label.size = 5, repel = TRUE)\n",
    "\n",
    "#         p2 <- DimPlot(obj.query, group.by = \"predicted.id\", label = TRUE, \n",
    "#                       label.size = 5, repel = TRUE)\n",
    "        \n",
    "#         p <- p1 + p2\n",
    "        \n",
    "#         printPNG(name = \"predicted.labels\", plot = p, papermill = papermill, \n",
    "#                  width = 15, height = 6)\n",
    "        \n",
    "#         log_print(\"SUCCESSFUL: Plotting predicted labels\")\n",
    "        \n",
    "\n",
    "#     },\n",
    "#     error = function(cond) {\n",
    "#         log_print(\"ERROR: Plotting predicted labels\")\n",
    "#         log_print(cond)\n",
    "#     }\n",
    "\n",
    "# )"
   ]
  },
  {
   "cell_type": "code",
   "execution_count": 15,
   "metadata": {
    "jupyter": {
     "source_hidden": true
    },
    "tags": [],
    "vscode": {
     "languageId": "r"
    }
   },
   "outputs": [],
   "source": [
    "# ## Plotting\n",
    "# tryCatch(\n",
    "#     {\n",
    "#         log_print(\"# Plotting predicted score per cluster\")\n",
    "        \n",
    "#         sel_cols <- grep(\"prediction.score|seurat_clusters\", \n",
    "#                          colnames(obj.query@meta.data), value=TRUE)\n",
    "#         sel_cols <- sel_cols[1:length(sel_cols) - 1]\n",
    "\n",
    "#         df <- obj.query@meta.data %>%\n",
    "#             subset(select = sel_cols) %>%\n",
    "#             tidyr::gather(key = \"celltype\", value = \"score\", -seurat_clusters)\n",
    "        \n",
    "#         df$celltype <- stringr::str_replace_all(df$celltype, \"prediction.score.\", \"\")\n",
    "        \n",
    "#         p <- ggplot(df, aes(x = celltype, y = score)) +\n",
    "#              geom_violin(aes(fill = celltype), scale = \"width\") +\n",
    "#              facet_wrap(~seurat_clusters, ncol = 4) +\n",
    "#              theme_cowplot() +\n",
    "#              xlab(\"\") + ylab(\"Predictied score\") +\n",
    "#              theme(axis.text.x = element_text(angle=60, hjust = 1),\n",
    "#                   legend.position = \"none\",\n",
    "#                   plot.title = element_text(hjust = 0.5)) \n",
    "\n",
    "#         # decide figure size\n",
    "#         n_clusters <- length(unique(df$seurat_clusters))\n",
    "#         n_rows <- ceiling(n_clusters / 4)\n",
    "        \n",
    "#         printPNG(name = \"predicted.scores\", plot = p, papermill = papermill, \n",
    "#                  width = 3*4, height = 3*n_rows + 2)\n",
    "        \n",
    "#         log_print(\"SUCCESSFUL: Plotting predicted score per cluster\")\n",
    "#     },\n",
    "#     error = function(cond) {\n",
    "#         log_print(\"ERROR: Plotting predicted score per cluster\")\n",
    "#         log_print(cond)\n",
    "#     }\n",
    "\n",
    "# )"
   ]
  }
 ],
 "metadata": {
  "celltoolbar": "Tags",
  "kernelspec": {
   "display_name": "R [conda env:zl_share_seq]",
   "language": "R",
   "name": "conda-env-zl_share_seq-r"
  },
  "language_info": {
   "codemirror_mode": "r",
   "file_extension": ".r",
   "mimetype": "text/x-r-source",
   "name": "R",
   "pygments_lexer": "r",
   "version": "4.1.3"
  },
  "toc": {
   "base_numbering": 1,
   "nav_menu": {},
   "number_sections": true,
   "sideBar": true,
   "skip_h1_title": false,
   "title_cell": "Table of Contents",
   "title_sidebar": "Contents",
   "toc_cell": false,
   "toc_position": {},
   "toc_section_display": true,
   "toc_window_display": false
  }
 },
 "nbformat": 4,
 "nbformat_minor": 4
}
